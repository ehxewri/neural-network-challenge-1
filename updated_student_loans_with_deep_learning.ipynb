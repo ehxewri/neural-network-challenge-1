{
 "cells": [
  {
   "cell_type": "markdown",
   "metadata": {
    "id": "T7ZNhGcW6q6r"
   },
   "source": [
    "# Student Loan Risk with Deep Learning"
   ]
  },
  {
   "cell_type": "code",
   "execution_count": 946,
   "metadata": {
    "id": "0otrXpJc6q6u"
   },
   "outputs": [],
   "source": [
    "# Imports\n",
    "import pandas as pd\n",
    "import tensorflow as tf\n",
    "from tensorflow.keras.layers import Dense, Dropout, BatchNormalization\n",
    "from tensorflow.keras.models import Sequential\n",
    "from tensorflow.keras.models import load_model\n",
    "from tensorflow.keras.callbacks import EarlyStopping\n",
    "from tensorflow.keras.optimizers import Adam, Adamax, Nadam\n",
    "from keras.regularizers import l1, l2\n",
    "\n",
    "from sklearn.model_selection import train_test_split\n",
    "from sklearn.preprocessing import StandardScaler\n",
    "from sklearn.metrics import classification_report\n",
    "from sklearn.utils.class_weight import compute_class_weight\n",
    "\n",
    "from pathlib import Path\n",
    "import numpy as np\n",
    "\n",
    "\n"
   ]
  },
  {
   "cell_type": "code",
   "execution_count": 947,
   "metadata": {},
   "outputs": [],
   "source": [
    "def create_model():\n",
    "    model = Sequential()\n",
    "    model.add(Dense(units=num_nodes_first_hidden_layer, activation='relu', input_dim=input_nodes))\n",
    "    model.add(BatchNormalization())\n",
    "    model.add(Dropout(0.7))\n",
    "    model.add(Dense(1, activation='sigmoid'))  # Change according to your output layer and activation\n",
    "    model.compile(loss='binary_crossentropy', optimizer='adam', metrics=['accuracy'])\n",
    "    return model"
   ]
  },
  {
   "cell_type": "markdown",
   "metadata": {
    "id": "OpV4Y-3Z6q6w"
   },
   "source": [
    "---\n",
    "\n",
    "## Part 1: Prepare the data to be used on a neural network model"
   ]
  },
  {
   "cell_type": "markdown",
   "metadata": {
    "id": "TUuSzp2l6q6w"
   },
   "source": [
    "### Step 1: Load the 'student-loans.csv' file into a Pandas DataFrame.\n",
    "Review the DataFrame to identify potential features and target variables."
   ]
  },
  {
   "cell_type": "code",
   "execution_count": 948,
   "metadata": {
    "colab": {
     "base_uri": "https://localhost:8080/",
     "height": 226
    },
    "id": "G65km1KD6q6x",
    "outputId": "93d12d8d-c415-4017-8452-5b4966e4dde5"
   },
   "outputs": [
    {
     "data": {
      "text/html": [
       "<div>\n",
       "<style scoped>\n",
       "    .dataframe tbody tr th:only-of-type {\n",
       "        vertical-align: middle;\n",
       "    }\n",
       "\n",
       "    .dataframe tbody tr th {\n",
       "        vertical-align: top;\n",
       "    }\n",
       "\n",
       "    .dataframe thead th {\n",
       "        text-align: right;\n",
       "    }\n",
       "</style>\n",
       "<table border=\"1\" class=\"dataframe\">\n",
       "  <thead>\n",
       "    <tr style=\"text-align: right;\">\n",
       "      <th></th>\n",
       "      <th>payment_history</th>\n",
       "      <th>location_parameter</th>\n",
       "      <th>stem_degree_score</th>\n",
       "      <th>gpa_ranking</th>\n",
       "      <th>alumni_success</th>\n",
       "      <th>study_major_code</th>\n",
       "      <th>time_to_completion</th>\n",
       "      <th>finance_workshop_score</th>\n",
       "      <th>cohort_ranking</th>\n",
       "      <th>total_loan_score</th>\n",
       "      <th>financial_aid_score</th>\n",
       "      <th>credit_ranking</th>\n",
       "    </tr>\n",
       "  </thead>\n",
       "  <tbody>\n",
       "    <tr>\n",
       "      <th>0</th>\n",
       "      <td>7.4</td>\n",
       "      <td>0.70</td>\n",
       "      <td>0.00</td>\n",
       "      <td>1.9</td>\n",
       "      <td>0.076</td>\n",
       "      <td>11.0</td>\n",
       "      <td>34.0</td>\n",
       "      <td>0.9978</td>\n",
       "      <td>3.51</td>\n",
       "      <td>0.56</td>\n",
       "      <td>9.4</td>\n",
       "      <td>0</td>\n",
       "    </tr>\n",
       "    <tr>\n",
       "      <th>1</th>\n",
       "      <td>7.8</td>\n",
       "      <td>0.88</td>\n",
       "      <td>0.00</td>\n",
       "      <td>2.6</td>\n",
       "      <td>0.098</td>\n",
       "      <td>25.0</td>\n",
       "      <td>67.0</td>\n",
       "      <td>0.9968</td>\n",
       "      <td>3.20</td>\n",
       "      <td>0.68</td>\n",
       "      <td>9.8</td>\n",
       "      <td>0</td>\n",
       "    </tr>\n",
       "    <tr>\n",
       "      <th>2</th>\n",
       "      <td>7.8</td>\n",
       "      <td>0.76</td>\n",
       "      <td>0.04</td>\n",
       "      <td>2.3</td>\n",
       "      <td>0.092</td>\n",
       "      <td>15.0</td>\n",
       "      <td>54.0</td>\n",
       "      <td>0.9970</td>\n",
       "      <td>3.26</td>\n",
       "      <td>0.65</td>\n",
       "      <td>9.8</td>\n",
       "      <td>0</td>\n",
       "    </tr>\n",
       "    <tr>\n",
       "      <th>3</th>\n",
       "      <td>11.2</td>\n",
       "      <td>0.28</td>\n",
       "      <td>0.56</td>\n",
       "      <td>1.9</td>\n",
       "      <td>0.075</td>\n",
       "      <td>17.0</td>\n",
       "      <td>60.0</td>\n",
       "      <td>0.9980</td>\n",
       "      <td>3.16</td>\n",
       "      <td>0.58</td>\n",
       "      <td>9.8</td>\n",
       "      <td>1</td>\n",
       "    </tr>\n",
       "    <tr>\n",
       "      <th>4</th>\n",
       "      <td>7.4</td>\n",
       "      <td>0.70</td>\n",
       "      <td>0.00</td>\n",
       "      <td>1.9</td>\n",
       "      <td>0.076</td>\n",
       "      <td>11.0</td>\n",
       "      <td>34.0</td>\n",
       "      <td>0.9978</td>\n",
       "      <td>3.51</td>\n",
       "      <td>0.56</td>\n",
       "      <td>9.4</td>\n",
       "      <td>0</td>\n",
       "    </tr>\n",
       "  </tbody>\n",
       "</table>\n",
       "</div>"
      ],
      "text/plain": [
       "   payment_history  location_parameter  stem_degree_score  gpa_ranking  \\\n",
       "0              7.4                0.70               0.00          1.9   \n",
       "1              7.8                0.88               0.00          2.6   \n",
       "2              7.8                0.76               0.04          2.3   \n",
       "3             11.2                0.28               0.56          1.9   \n",
       "4              7.4                0.70               0.00          1.9   \n",
       "\n",
       "   alumni_success  study_major_code  time_to_completion  \\\n",
       "0           0.076              11.0                34.0   \n",
       "1           0.098              25.0                67.0   \n",
       "2           0.092              15.0                54.0   \n",
       "3           0.075              17.0                60.0   \n",
       "4           0.076              11.0                34.0   \n",
       "\n",
       "   finance_workshop_score  cohort_ranking  total_loan_score  \\\n",
       "0                  0.9978            3.51              0.56   \n",
       "1                  0.9968            3.20              0.68   \n",
       "2                  0.9970            3.26              0.65   \n",
       "3                  0.9980            3.16              0.58   \n",
       "4                  0.9978            3.51              0.56   \n",
       "\n",
       "   financial_aid_score  credit_ranking  \n",
       "0                  9.4               0  \n",
       "1                  9.8               0  \n",
       "2                  9.8               0  \n",
       "3                  9.8               1  \n",
       "4                  9.4               0  "
      ]
     },
     "metadata": {},
     "output_type": "display_data"
    },
    {
     "data": {
      "text/plain": [
       "(1599, 12)"
      ]
     },
     "metadata": {},
     "output_type": "display_data"
    }
   ],
   "source": [
    "# Read the csv into a Pandas DataFrame\n",
    "file_path = \"https://static.bc-edx.com/ai/ail-v-1-0/m18/lms/datasets/student-loans.csv\"\n",
    "loans_df = pd.read_csv(file_path)\n",
    "\n",
    "# Review the DataFrame\n",
    "display (loans_df.head())\n",
    "display (loans_df.shape)"
   ]
  },
  {
   "cell_type": "code",
   "execution_count": 949,
   "metadata": {
    "colab": {
     "base_uri": "https://localhost:8080/"
    },
    "id": "K8ZYB8wx6q6x",
    "outputId": "b509fc34-4488-406e-e451-2069fec37371"
   },
   "outputs": [
    {
     "data": {
      "text/plain": [
       "payment_history           float64\n",
       "location_parameter        float64\n",
       "stem_degree_score         float64\n",
       "gpa_ranking               float64\n",
       "alumni_success            float64\n",
       "study_major_code          float64\n",
       "time_to_completion        float64\n",
       "finance_workshop_score    float64\n",
       "cohort_ranking            float64\n",
       "total_loan_score          float64\n",
       "financial_aid_score       float64\n",
       "credit_ranking              int64\n",
       "dtype: object"
      ]
     },
     "execution_count": 949,
     "metadata": {},
     "output_type": "execute_result"
    }
   ],
   "source": [
    "# Review the data types associated with the columns\n",
    "loans_df.dtypes"
   ]
  },
  {
   "cell_type": "code",
   "execution_count": 950,
   "metadata": {
    "colab": {
     "base_uri": "https://localhost:8080/"
    },
    "id": "9P8aX-dW75JO",
    "outputId": "63251fa8-5ac1-4112-c2f7-bc5d97ea8491"
   },
   "outputs": [
    {
     "data": {
      "text/plain": [
       "credit_ranking\n",
       "1    855\n",
       "0    744\n",
       "Name: count, dtype: int64"
      ]
     },
     "metadata": {},
     "output_type": "display_data"
    },
    {
     "data": {
      "text/plain": [
       "array([0, 1], dtype=int64)"
      ]
     },
     "metadata": {},
     "output_type": "display_data"
    }
   ],
   "source": [
    "# Check the credit_ranking value counts\n",
    "display (loans_df[\"credit_ranking\"].value_counts())\n",
    "# another way of looking at the feature. not prefered as this does not show the count per class\n",
    "display (loans_df['credit_ranking'].unique())"
   ]
  },
  {
   "cell_type": "markdown",
   "metadata": {
    "id": "R6vbZeDH6q6y"
   },
   "source": [
    "### Step 2: Prepare the features (`X`) and target (`y`) datasets using the preprocessed data.\n",
    "Use the column 'credit_ranking' as the target variable. All other columns will be the features."
   ]
  },
  {
   "cell_type": "code",
   "execution_count": 951,
   "metadata": {
    "colab": {
     "base_uri": "https://localhost:8080/"
    },
    "id": "Q5eVAP5M6q6y",
    "outputId": "89728bbf-6930-4573-a126-9f1b66ed8859"
   },
   "outputs": [
    {
     "data": {
      "text/plain": [
       "array([0, 0, 0, 1, 0], dtype=int64)"
      ]
     },
     "metadata": {},
     "output_type": "display_data"
    }
   ],
   "source": [
    "# Define the target set y using the credit_ranking column\n",
    "\n",
    "y = loans_df['credit_ranking']\n",
    "# Display a sample of y\n",
    "display (np.array(y)[:5])\n"
   ]
  },
  {
   "cell_type": "code",
   "execution_count": 952,
   "metadata": {
    "colab": {
     "base_uri": "https://localhost:8080/",
     "height": 226
    },
    "id": "IIkrD2Sn6q6z",
    "outputId": "ce07c4a3-fb81-4657-d11e-ec85ae8554c9"
   },
   "outputs": [
    {
     "data": {
      "text/html": [
       "<div>\n",
       "<style scoped>\n",
       "    .dataframe tbody tr th:only-of-type {\n",
       "        vertical-align: middle;\n",
       "    }\n",
       "\n",
       "    .dataframe tbody tr th {\n",
       "        vertical-align: top;\n",
       "    }\n",
       "\n",
       "    .dataframe thead th {\n",
       "        text-align: right;\n",
       "    }\n",
       "</style>\n",
       "<table border=\"1\" class=\"dataframe\">\n",
       "  <thead>\n",
       "    <tr style=\"text-align: right;\">\n",
       "      <th></th>\n",
       "      <th>payment_history</th>\n",
       "      <th>location_parameter</th>\n",
       "      <th>stem_degree_score</th>\n",
       "      <th>gpa_ranking</th>\n",
       "      <th>alumni_success</th>\n",
       "      <th>study_major_code</th>\n",
       "      <th>time_to_completion</th>\n",
       "      <th>finance_workshop_score</th>\n",
       "      <th>cohort_ranking</th>\n",
       "      <th>total_loan_score</th>\n",
       "      <th>financial_aid_score</th>\n",
       "    </tr>\n",
       "  </thead>\n",
       "  <tbody>\n",
       "    <tr>\n",
       "      <th>0</th>\n",
       "      <td>7.4</td>\n",
       "      <td>0.70</td>\n",
       "      <td>0.00</td>\n",
       "      <td>1.9</td>\n",
       "      <td>0.076</td>\n",
       "      <td>11.0</td>\n",
       "      <td>34.0</td>\n",
       "      <td>0.9978</td>\n",
       "      <td>3.51</td>\n",
       "      <td>0.56</td>\n",
       "      <td>9.4</td>\n",
       "    </tr>\n",
       "    <tr>\n",
       "      <th>1</th>\n",
       "      <td>7.8</td>\n",
       "      <td>0.88</td>\n",
       "      <td>0.00</td>\n",
       "      <td>2.6</td>\n",
       "      <td>0.098</td>\n",
       "      <td>25.0</td>\n",
       "      <td>67.0</td>\n",
       "      <td>0.9968</td>\n",
       "      <td>3.20</td>\n",
       "      <td>0.68</td>\n",
       "      <td>9.8</td>\n",
       "    </tr>\n",
       "    <tr>\n",
       "      <th>2</th>\n",
       "      <td>7.8</td>\n",
       "      <td>0.76</td>\n",
       "      <td>0.04</td>\n",
       "      <td>2.3</td>\n",
       "      <td>0.092</td>\n",
       "      <td>15.0</td>\n",
       "      <td>54.0</td>\n",
       "      <td>0.9970</td>\n",
       "      <td>3.26</td>\n",
       "      <td>0.65</td>\n",
       "      <td>9.8</td>\n",
       "    </tr>\n",
       "    <tr>\n",
       "      <th>3</th>\n",
       "      <td>11.2</td>\n",
       "      <td>0.28</td>\n",
       "      <td>0.56</td>\n",
       "      <td>1.9</td>\n",
       "      <td>0.075</td>\n",
       "      <td>17.0</td>\n",
       "      <td>60.0</td>\n",
       "      <td>0.9980</td>\n",
       "      <td>3.16</td>\n",
       "      <td>0.58</td>\n",
       "      <td>9.8</td>\n",
       "    </tr>\n",
       "    <tr>\n",
       "      <th>4</th>\n",
       "      <td>7.4</td>\n",
       "      <td>0.70</td>\n",
       "      <td>0.00</td>\n",
       "      <td>1.9</td>\n",
       "      <td>0.076</td>\n",
       "      <td>11.0</td>\n",
       "      <td>34.0</td>\n",
       "      <td>0.9978</td>\n",
       "      <td>3.51</td>\n",
       "      <td>0.56</td>\n",
       "      <td>9.4</td>\n",
       "    </tr>\n",
       "  </tbody>\n",
       "</table>\n",
       "</div>"
      ],
      "text/plain": [
       "   payment_history  location_parameter  stem_degree_score  gpa_ranking  \\\n",
       "0              7.4                0.70               0.00          1.9   \n",
       "1              7.8                0.88               0.00          2.6   \n",
       "2              7.8                0.76               0.04          2.3   \n",
       "3             11.2                0.28               0.56          1.9   \n",
       "4              7.4                0.70               0.00          1.9   \n",
       "\n",
       "   alumni_success  study_major_code  time_to_completion  \\\n",
       "0           0.076              11.0                34.0   \n",
       "1           0.098              25.0                67.0   \n",
       "2           0.092              15.0                54.0   \n",
       "3           0.075              17.0                60.0   \n",
       "4           0.076              11.0                34.0   \n",
       "\n",
       "   finance_workshop_score  cohort_ranking  total_loan_score  \\\n",
       "0                  0.9978            3.51              0.56   \n",
       "1                  0.9968            3.20              0.68   \n",
       "2                  0.9970            3.26              0.65   \n",
       "3                  0.9980            3.16              0.58   \n",
       "4                  0.9978            3.51              0.56   \n",
       "\n",
       "   financial_aid_score  \n",
       "0                  9.4  \n",
       "1                  9.8  \n",
       "2                  9.8  \n",
       "3                  9.8  \n",
       "4                  9.4  "
      ]
     },
     "metadata": {},
     "output_type": "display_data"
    }
   ],
   "source": [
    "# Define features set X by selecting all columns but credit_ranking\n",
    "X=loans_df.drop(columns=['credit_ranking'])\n",
    "\n",
    "# Review the features DataFrame\n",
    "display (X.head())\n"
   ]
  },
  {
   "cell_type": "markdown",
   "metadata": {
    "id": "OD7xwU_96q6z"
   },
   "source": [
    "### Step 3: Split the data into training and testing sets."
   ]
  },
  {
   "cell_type": "code",
   "execution_count": 953,
   "metadata": {},
   "outputs": [],
   "source": [
    "X_train, X_test, y_train, y_test = train_test_split(X, y, test_size=0.20, random_state=1)\n"
   ]
  },
  {
   "cell_type": "markdown",
   "metadata": {
    "id": "G9i6DHY06q6z"
   },
   "source": [
    "### Step 4: Scale the feature data using scikit-learn's `StandardScaler`."
   ]
  },
  {
   "cell_type": "code",
   "execution_count": 954,
   "metadata": {
    "id": "BzD3z20m6q6z"
   },
   "outputs": [],
   "source": [
    "# Step 1: Create a StandardScaler instance\n",
    "scaler = StandardScaler()\n",
    "\n",
    "# Step 2: Fit the scaler to the features training dataset\n",
    "scaler.fit(X_train)\n",
    "\n",
    "# Step 3: Transform the features training dataset\n",
    "X_train_scaled = scaler.transform(X_train)\n",
    "\n",
    "# Step 4: Transform the features testing dataset\n",
    "X_test_scaled = scaler.transform(X_test)"
   ]
  },
  {
   "cell_type": "markdown",
   "metadata": {
    "id": "CZzVDjba6q6z"
   },
   "source": [
    "---\n",
    "\n",
    "## Part 2 Compile and Evaluate a Model Using a Neural Network"
   ]
  },
  {
   "cell_type": "markdown",
   "metadata": {
    "id": "m-pSux4Q6q60"
   },
   "source": [
    "### Step 1: Create a deep neural network by assigning the number of input features, the number of layers, and the number of neurons on each layer using Tensorflow’s Keras.\n",
    "\n",
    "> **Hint** You can start with a two-layer deep neural network model that uses the `relu` activation function for both layers.\n"
   ]
  },
  {
   "cell_type": "code",
   "execution_count": 955,
   "metadata": {
    "colab": {
     "base_uri": "https://localhost:8080/"
    },
    "id": "t5C94FCd6q60",
    "outputId": "cbf05783-2f56-4745-cd33-649a6152e510"
   },
   "outputs": [
    {
     "data": {
      "text/plain": [
       "'Number of input features:'"
      ]
     },
     "metadata": {},
     "output_type": "display_data"
    },
    {
     "data": {
      "text/plain": [
       "11"
      ]
     },
     "metadata": {},
     "output_type": "display_data"
    }
   ],
   "source": [
    "# Define the the number of inputs (features) to the model\n",
    "input_nodes  = X_train.shape[1]\n",
    "# or \n",
    "# input_nodes = len(X.columns)\n",
    "\n",
    "# Review the number of features\n",
    "display (\"Number of input features:\", input_nodes )"
   ]
  },
  {
   "cell_type": "markdown",
   "metadata": {},
   "source": [
    "# Neural Network Configuration Guide\n",
    "\n",
    "## 1. Define the Number of Hidden Nodes for the First Hidden Layer\n",
    "For the first hidden layer, a common approach is to start with a number of nodes that is somewhere between the number of input features and the number of output neurons. A typical strategy might be to use a number of nodes that is the mean or the geometric mean of these two numbers, adjusted based on the complexity of the problem or empirical testing.\n",
    "\n",
    "## 2. Define the Number of Hidden Nodes for the Second Hidden Layer\n",
    "For the second hidden layer, you might choose to reduce the number of nodes compared to the first hidden layer. This is often done to gradually reduce the dimensionality and to aggregate the features extracted by the first layer. A typical rule might be to halve the number of nodes in each subsequent layer, although the specific number should be tuned based on model performance and overfitting concerns.\n",
    "\n",
    "## 3. Define the Number of Neurons in the Output Layer\n",
    "The number of neurons in the output layer depends on the type of problem:\n",
    "\n",
    "- **Binary Classification**: Use 1 neuron with a sigmoid activation function.\n",
    "- **Multiclass Classification**: Use as many neurons as there are classes, with a softmax activation function.\n",
    "- **Regression**: Typically use 1 neuron for a single output; for multiple outputs, use as many neurons as there are outputs.\n"
   ]
  },
  {
   "cell_type": "code",
   "execution_count": 956,
   "metadata": {
    "id": "c_KXDLkF6q60"
   },
   "outputs": [
    {
     "data": {
      "text/plain": [
       "'Number of hidden nodes for the first hidden layer  : 6'"
      ]
     },
     "metadata": {},
     "output_type": "display_data"
    },
    {
     "data": {
      "text/plain": [
       "'Number of hidden nodes for the second hidden layer : 3'"
      ]
     },
     "metadata": {},
     "output_type": "display_data"
    },
    {
     "data": {
      "text/plain": [
       "'Number of neurons in the output layer              : 1'"
      ]
     },
     "metadata": {},
     "output_type": "display_data"
    }
   ],
   "source": [
    "# Define the number of hidden nodes for the first hidden layer\n",
    "num_nodes_first_hidden_layer = (12 // 2)  \n",
    "# Define the number of hidden nodes for the second hidden layer\n",
    "num_nodes_second_hidden_layer = num_nodes_first_hidden_layer // 2\n",
    "# Define the number of hidden nodes for the second hidden layer\n",
    "num_nodes_third_hidden_layer = num_nodes_second_hidden_layer // 2\n",
    "# Define the number of neurons in the output layer\n",
    "num_output_neurons = 1  # Using sigmoid activation\n",
    "\n",
    "\n",
    "display (f'Number of hidden nodes for the first hidden layer  : {num_nodes_first_hidden_layer}')\n",
    "display (f'Number of hidden nodes for the second hidden layer : {num_nodes_second_hidden_layer}')\n",
    "display (f'Number of neurons in the output layer              : {num_output_neurons}')\n"
   ]
  },
  {
   "cell_type": "markdown",
   "metadata": {
    "id": "63UdFncw6q60"
   },
   "source": [
    "# Create the Sequential model instance\n",
    "model = Sequential()\n",
    "\n",
    "# Add the first hidden layer\n",
    "model.add(Dense(units=num_nodes_first_hidden_layer, activation='relu', input_dim=input_nodes))\n",
    "\n",
    "# Add the second hidden layer\n",
    "model.add(Dense(units=num_nodes_second_hidden_layer, activation='relu'))\n",
    "\n",
    "# Add the output layer to the model specifying the number of output neurons and activation function\n",
    "model.add(Dense(num_output_neurons, activation='sigmoid'))"
   ]
  },
  {
   "cell_type": "code",
   "execution_count": 957,
   "metadata": {},
   "outputs": [],
   "source": [
    "# Create the Sequential model instance\n",
    "model = Sequential(name='Student_Loan_Model')\n",
    "\n",
    "# Add the first hidden layer with input dimension specified\n",
    "model.add(Dense(units=num_nodes_first_hidden_layer, activation='relu', input_dim=input_nodes, kernel_regularizer=l2(0.05), name='First_Hidden_Layer'))\n",
    "\n",
    "# Add the second hidden layer\n",
    "model.add(Dense(units=num_nodes_second_hidden_layer, activation='relu', name='Second_Hidden_Layer'))\n",
    "\n",
    "# model.add(BatchNormalization(name='BatchNorm_Layer_2'))  # Normalize the activations from the second hidden layer\n",
    "\n",
    "\n",
    "# Add the output layer\n",
    "# If this is a binary classification problem, use 'sigmoid'. If it's regression, no activation or 'linear' can be used.\n",
    "model.add(Dense(num_output_neurons, activation='sigmoid', name='Output_Layer'))  # Use 'linear' if it's a regression task\n"
   ]
  },
  {
   "cell_type": "code",
   "execution_count": 958,
   "metadata": {
    "colab": {
     "base_uri": "https://localhost:8080/"
    },
    "id": "-Beoh4f_6q61",
    "outputId": "2e50f810-086b-4d89-bf7d-98afbe0d649d"
   },
   "outputs": [
    {
     "name": "stdout",
     "output_type": "stream",
     "text": [
      "Model: \"Student_Loan_Model\"\n",
      "_________________________________________________________________\n",
      " Layer (type)                Output Shape              Param #   \n",
      "=================================================================\n",
      " First_Hidden_Layer (Dense)  (None, 6)                 72        \n",
      "                                                                 \n",
      " Second_Hidden_Layer (Dense)  (None, 3)                21        \n",
      "                                                                 \n",
      " Output_Layer (Dense)        (None, 1)                 4         \n",
      "                                                                 \n",
      "=================================================================\n",
      "Total params: 97\n",
      "Trainable params: 97\n",
      "Non-trainable params: 0\n",
      "_________________________________________________________________\n"
     ]
    },
    {
     "data": {
      "text/plain": [
       "None"
      ]
     },
     "metadata": {},
     "output_type": "display_data"
    }
   ],
   "source": [
    "# Display the Sequential model summary\n",
    "display (model.summary())"
   ]
  },
  {
   "cell_type": "markdown",
   "metadata": {
    "id": "nRqWGIRo6q61"
   },
   "source": [
    "### Step 2: Compile and fit the model using the `binary_crossentropy` loss function, the `adam` optimizer, and the `accuracy` evaluation metric.\n"
   ]
  },
  {
   "cell_type": "code",
   "execution_count": 959,
   "metadata": {},
   "outputs": [],
   "source": [
    "class_weights = compute_class_weight('balanced', classes=np.unique(y_train), y=y_train)\n",
    "class_weight_dict = dict(enumerate(class_weights))"
   ]
  },
  {
   "cell_type": "code",
   "execution_count": 960,
   "metadata": {
    "id": "E-hZaeSn6q61"
   },
   "outputs": [],
   "source": [
    "# Compile the Sequential model\n",
    "model.compile(optimizer=Adam(),\n",
    "              loss='binary_crossentropy',\n",
    "              metrics=['accuracy'])"
   ]
  },
  {
   "cell_type": "code",
   "execution_count": 961,
   "metadata": {},
   "outputs": [],
   "source": [
    "# Early stopping callback\n",
    "early_stopping = EarlyStopping(monitor='val_loss', patience=20, restore_best_weights=True)\n"
   ]
  },
  {
   "cell_type": "code",
   "execution_count": 973,
   "metadata": {
    "colab": {
     "base_uri": "https://localhost:8080/"
    },
    "id": "x25e8Idc6q61",
    "outputId": "e95946ba-23da-47a3-a1c1-5e9a2a484a47"
   },
   "outputs": [
    {
     "name": "stdout",
     "output_type": "stream",
     "text": [
      "Epoch 1/100\n",
      "11/11 [==============================] - 0s 11ms/step - loss: 0.5618 - accuracy: 0.7400 - val_loss: 0.5676 - val_accuracy: 0.7383\n",
      "Epoch 2/100\n",
      "11/11 [==============================] - 0s 4ms/step - loss: 0.5623 - accuracy: 0.7370 - val_loss: 0.5705 - val_accuracy: 0.7266\n",
      "Epoch 3/100\n",
      "11/11 [==============================] - 0s 4ms/step - loss: 0.5599 - accuracy: 0.7429 - val_loss: 0.5673 - val_accuracy: 0.7266\n",
      "Epoch 4/100\n",
      "11/11 [==============================] - 0s 4ms/step - loss: 0.5603 - accuracy: 0.7410 - val_loss: 0.5710 - val_accuracy: 0.7227\n",
      "Epoch 5/100\n",
      "11/11 [==============================] - 0s 7ms/step - loss: 0.5593 - accuracy: 0.7449 - val_loss: 0.5758 - val_accuracy: 0.6953\n",
      "Epoch 6/100\n",
      "11/11 [==============================] - 0s 6ms/step - loss: 0.5603 - accuracy: 0.7488 - val_loss: 0.5724 - val_accuracy: 0.7109\n",
      "Epoch 7/100\n",
      "11/11 [==============================] - 0s 4ms/step - loss: 0.5580 - accuracy: 0.7468 - val_loss: 0.5678 - val_accuracy: 0.7344\n",
      "Epoch 8/100\n",
      "11/11 [==============================] - 0s 4ms/step - loss: 0.5662 - accuracy: 0.7331 - val_loss: 0.5720 - val_accuracy: 0.7188\n",
      "Epoch 9/100\n",
      "11/11 [==============================] - 0s 5ms/step - loss: 0.5585 - accuracy: 0.7468 - val_loss: 0.5715 - val_accuracy: 0.7227\n",
      "Epoch 10/100\n",
      "11/11 [==============================] - 0s 4ms/step - loss: 0.5575 - accuracy: 0.7449 - val_loss: 0.5686 - val_accuracy: 0.7344\n",
      "Epoch 11/100\n",
      "11/11 [==============================] - 0s 5ms/step - loss: 0.5598 - accuracy: 0.7449 - val_loss: 0.5700 - val_accuracy: 0.7266\n",
      "Epoch 12/100\n",
      "11/11 [==============================] - 0s 4ms/step - loss: 0.5579 - accuracy: 0.7458 - val_loss: 0.5685 - val_accuracy: 0.7344\n",
      "Epoch 13/100\n",
      "11/11 [==============================] - 0s 4ms/step - loss: 0.5591 - accuracy: 0.7478 - val_loss: 0.5691 - val_accuracy: 0.7266\n",
      "Epoch 14/100\n",
      "11/11 [==============================] - 0s 4ms/step - loss: 0.5591 - accuracy: 0.7449 - val_loss: 0.5714 - val_accuracy: 0.7188\n",
      "Epoch 15/100\n",
      "11/11 [==============================] - 0s 4ms/step - loss: 0.5573 - accuracy: 0.7498 - val_loss: 0.5681 - val_accuracy: 0.7266\n",
      "Epoch 16/100\n",
      "11/11 [==============================] - 0s 4ms/step - loss: 0.5594 - accuracy: 0.7331 - val_loss: 0.5762 - val_accuracy: 0.6992\n",
      "Epoch 17/100\n",
      "11/11 [==============================] - 0s 5ms/step - loss: 0.5583 - accuracy: 0.7468 - val_loss: 0.5689 - val_accuracy: 0.7305\n",
      "Epoch 18/100\n",
      "11/11 [==============================] - 0s 4ms/step - loss: 0.5615 - accuracy: 0.7361 - val_loss: 0.5671 - val_accuracy: 0.7266\n",
      "Epoch 19/100\n",
      "11/11 [==============================] - 0s 6ms/step - loss: 0.5596 - accuracy: 0.7361 - val_loss: 0.5715 - val_accuracy: 0.7148\n",
      "Epoch 20/100\n",
      "11/11 [==============================] - 0s 5ms/step - loss: 0.5567 - accuracy: 0.7498 - val_loss: 0.5694 - val_accuracy: 0.7266\n",
      "Epoch 21/100\n",
      "11/11 [==============================] - 0s 5ms/step - loss: 0.5563 - accuracy: 0.7517 - val_loss: 0.5738 - val_accuracy: 0.7070\n",
      "Epoch 22/100\n",
      "11/11 [==============================] - 0s 5ms/step - loss: 0.5566 - accuracy: 0.7468 - val_loss: 0.5682 - val_accuracy: 0.7305\n",
      "Epoch 23/100\n",
      "11/11 [==============================] - 0s 4ms/step - loss: 0.5564 - accuracy: 0.7449 - val_loss: 0.5799 - val_accuracy: 0.7148\n",
      "Epoch 24/100\n",
      "11/11 [==============================] - 0s 4ms/step - loss: 0.5623 - accuracy: 0.7468 - val_loss: 0.5682 - val_accuracy: 0.7383\n",
      "Epoch 25/100\n",
      "11/11 [==============================] - 0s 4ms/step - loss: 0.5591 - accuracy: 0.7468 - val_loss: 0.5667 - val_accuracy: 0.7422\n",
      "Epoch 26/100\n",
      "11/11 [==============================] - 0s 4ms/step - loss: 0.5613 - accuracy: 0.7458 - val_loss: 0.5704 - val_accuracy: 0.7188\n",
      "Epoch 27/100\n",
      "11/11 [==============================] - 0s 5ms/step - loss: 0.5568 - accuracy: 0.7429 - val_loss: 0.5712 - val_accuracy: 0.7148\n",
      "Epoch 28/100\n",
      "11/11 [==============================] - 0s 4ms/step - loss: 0.5575 - accuracy: 0.7419 - val_loss: 0.5670 - val_accuracy: 0.7383\n",
      "Epoch 29/100\n",
      "11/11 [==============================] - 0s 4ms/step - loss: 0.5592 - accuracy: 0.7449 - val_loss: 0.5678 - val_accuracy: 0.7383\n",
      "Epoch 30/100\n",
      "11/11 [==============================] - 0s 3ms/step - loss: 0.5593 - accuracy: 0.7341 - val_loss: 0.5737 - val_accuracy: 0.7031\n",
      "Epoch 31/100\n",
      "11/11 [==============================] - 0s 5ms/step - loss: 0.5599 - accuracy: 0.7361 - val_loss: 0.5667 - val_accuracy: 0.7305\n",
      "Epoch 32/100\n",
      "11/11 [==============================] - 0s 5ms/step - loss: 0.5562 - accuracy: 0.7419 - val_loss: 0.5730 - val_accuracy: 0.7070\n",
      "Epoch 33/100\n",
      "11/11 [==============================] - 0s 7ms/step - loss: 0.5587 - accuracy: 0.7419 - val_loss: 0.5672 - val_accuracy: 0.7383\n",
      "Epoch 34/100\n",
      "11/11 [==============================] - 0s 4ms/step - loss: 0.5635 - accuracy: 0.7341 - val_loss: 0.5683 - val_accuracy: 0.7383\n",
      "Epoch 35/100\n",
      "11/11 [==============================] - 0s 4ms/step - loss: 0.5620 - accuracy: 0.7302 - val_loss: 0.5855 - val_accuracy: 0.7148\n",
      "Epoch 36/100\n",
      "11/11 [==============================] - 0s 4ms/step - loss: 0.5619 - accuracy: 0.7253 - val_loss: 0.5684 - val_accuracy: 0.7422\n",
      "Epoch 37/100\n",
      "11/11 [==============================] - 0s 3ms/step - loss: 0.5580 - accuracy: 0.7380 - val_loss: 0.5751 - val_accuracy: 0.6875\n",
      "Epoch 38/100\n",
      "11/11 [==============================] - 0s 3ms/step - loss: 0.5555 - accuracy: 0.7478 - val_loss: 0.5675 - val_accuracy: 0.7344\n",
      "Epoch 39/100\n",
      "11/11 [==============================] - 0s 5ms/step - loss: 0.5592 - accuracy: 0.7410 - val_loss: 0.5703 - val_accuracy: 0.7109\n",
      "Epoch 40/100\n",
      "11/11 [==============================] - 0s 5ms/step - loss: 0.5567 - accuracy: 0.7449 - val_loss: 0.5719 - val_accuracy: 0.7109\n",
      "Epoch 41/100\n",
      "11/11 [==============================] - 0s 5ms/step - loss: 0.5557 - accuracy: 0.7478 - val_loss: 0.5677 - val_accuracy: 0.7266\n",
      "Epoch 42/100\n",
      "11/11 [==============================] - 0s 5ms/step - loss: 0.5554 - accuracy: 0.7488 - val_loss: 0.5743 - val_accuracy: 0.7109\n",
      "Epoch 43/100\n",
      "11/11 [==============================] - 0s 5ms/step - loss: 0.5557 - accuracy: 0.7449 - val_loss: 0.5662 - val_accuracy: 0.7305\n",
      "Epoch 44/100\n",
      "11/11 [==============================] - 0s 4ms/step - loss: 0.5557 - accuracy: 0.7361 - val_loss: 0.5662 - val_accuracy: 0.7305\n",
      "Epoch 45/100\n",
      "11/11 [==============================] - 0s 5ms/step - loss: 0.5594 - accuracy: 0.7292 - val_loss: 0.5795 - val_accuracy: 0.7109\n",
      "Epoch 46/100\n",
      "11/11 [==============================] - 0s 9ms/step - loss: 0.5600 - accuracy: 0.7458 - val_loss: 0.5673 - val_accuracy: 0.7344\n",
      "Epoch 47/100\n",
      "11/11 [==============================] - 0s 4ms/step - loss: 0.5555 - accuracy: 0.7498 - val_loss: 0.5739 - val_accuracy: 0.6992\n",
      "Epoch 48/100\n",
      "11/11 [==============================] - 0s 4ms/step - loss: 0.5537 - accuracy: 0.7468 - val_loss: 0.5662 - val_accuracy: 0.7305\n",
      "Epoch 49/100\n",
      "11/11 [==============================] - 0s 4ms/step - loss: 0.5625 - accuracy: 0.7322 - val_loss: 0.5752 - val_accuracy: 0.7031\n",
      "Epoch 50/100\n",
      "11/11 [==============================] - 0s 4ms/step - loss: 0.5554 - accuracy: 0.7439 - val_loss: 0.5657 - val_accuracy: 0.7305\n",
      "Epoch 51/100\n",
      "11/11 [==============================] - 0s 4ms/step - loss: 0.5546 - accuracy: 0.7478 - val_loss: 0.5667 - val_accuracy: 0.7383\n",
      "Epoch 52/100\n",
      "11/11 [==============================] - 0s 4ms/step - loss: 0.5545 - accuracy: 0.7410 - val_loss: 0.5805 - val_accuracy: 0.7148\n",
      "Epoch 53/100\n",
      "11/11 [==============================] - 0s 4ms/step - loss: 0.5697 - accuracy: 0.7331 - val_loss: 0.5648 - val_accuracy: 0.7305\n",
      "Epoch 54/100\n",
      "11/11 [==============================] - 0s 4ms/step - loss: 0.5535 - accuracy: 0.7468 - val_loss: 0.5734 - val_accuracy: 0.6992\n",
      "Epoch 55/100\n",
      "11/11 [==============================] - 0s 4ms/step - loss: 0.5553 - accuracy: 0.7478 - val_loss: 0.5659 - val_accuracy: 0.7344\n",
      "Epoch 56/100\n",
      "11/11 [==============================] - 0s 4ms/step - loss: 0.5545 - accuracy: 0.7517 - val_loss: 0.5667 - val_accuracy: 0.7266\n",
      "Epoch 57/100\n",
      "11/11 [==============================] - 0s 4ms/step - loss: 0.5561 - accuracy: 0.7410 - val_loss: 0.5652 - val_accuracy: 0.7305\n",
      "Epoch 58/100\n",
      "11/11 [==============================] - 0s 8ms/step - loss: 0.5563 - accuracy: 0.7322 - val_loss: 0.5759 - val_accuracy: 0.7188\n",
      "Epoch 59/100\n",
      "11/11 [==============================] - 0s 5ms/step - loss: 0.5556 - accuracy: 0.7449 - val_loss: 0.5658 - val_accuracy: 0.7344\n",
      "Epoch 60/100\n",
      "11/11 [==============================] - 0s 4ms/step - loss: 0.5530 - accuracy: 0.7488 - val_loss: 0.5666 - val_accuracy: 0.7305\n",
      "Epoch 61/100\n",
      "11/11 [==============================] - 0s 4ms/step - loss: 0.5536 - accuracy: 0.7478 - val_loss: 0.5766 - val_accuracy: 0.7188\n",
      "Epoch 62/100\n",
      "11/11 [==============================] - 0s 4ms/step - loss: 0.5560 - accuracy: 0.7439 - val_loss: 0.5669 - val_accuracy: 0.7305\n",
      "Epoch 63/100\n",
      "11/11 [==============================] - 0s 4ms/step - loss: 0.5573 - accuracy: 0.7361 - val_loss: 0.5816 - val_accuracy: 0.7109\n",
      "Epoch 64/100\n",
      "11/11 [==============================] - 0s 5ms/step - loss: 0.5600 - accuracy: 0.7292 - val_loss: 0.5655 - val_accuracy: 0.7305\n",
      "Epoch 65/100\n",
      "11/11 [==============================] - 0s 4ms/step - loss: 0.5561 - accuracy: 0.7498 - val_loss: 0.5642 - val_accuracy: 0.7305\n",
      "Epoch 66/100\n",
      "11/11 [==============================] - 0s 4ms/step - loss: 0.5574 - accuracy: 0.7400 - val_loss: 0.5745 - val_accuracy: 0.7148\n",
      "Epoch 67/100\n",
      "11/11 [==============================] - 0s 4ms/step - loss: 0.5588 - accuracy: 0.7322 - val_loss: 0.5641 - val_accuracy: 0.7344\n",
      "Epoch 68/100\n",
      "11/11 [==============================] - 0s 4ms/step - loss: 0.5570 - accuracy: 0.7331 - val_loss: 0.5646 - val_accuracy: 0.7422\n",
      "Epoch 69/100\n",
      "11/11 [==============================] - 0s 4ms/step - loss: 0.5522 - accuracy: 0.7468 - val_loss: 0.5773 - val_accuracy: 0.7148\n",
      "Epoch 70/100\n",
      "11/11 [==============================] - 0s 5ms/step - loss: 0.5596 - accuracy: 0.7273 - val_loss: 0.5647 - val_accuracy: 0.7305\n",
      "Epoch 71/100\n",
      "11/11 [==============================] - 0s 8ms/step - loss: 0.5546 - accuracy: 0.7410 - val_loss: 0.5658 - val_accuracy: 0.7266\n",
      "Epoch 72/100\n",
      "11/11 [==============================] - 0s 5ms/step - loss: 0.5535 - accuracy: 0.7449 - val_loss: 0.5714 - val_accuracy: 0.7031\n",
      "Epoch 73/100\n",
      "11/11 [==============================] - 0s 4ms/step - loss: 0.5564 - accuracy: 0.7449 - val_loss: 0.5652 - val_accuracy: 0.7305\n",
      "Epoch 74/100\n",
      "11/11 [==============================] - 0s 5ms/step - loss: 0.5548 - accuracy: 0.7498 - val_loss: 0.5641 - val_accuracy: 0.7344\n",
      "Epoch 75/100\n",
      "11/11 [==============================] - 0s 4ms/step - loss: 0.5537 - accuracy: 0.7380 - val_loss: 0.5731 - val_accuracy: 0.7148\n",
      "Epoch 76/100\n",
      "11/11 [==============================] - 0s 5ms/step - loss: 0.5517 - accuracy: 0.7449 - val_loss: 0.5639 - val_accuracy: 0.7422\n",
      "Epoch 77/100\n",
      "11/11 [==============================] - 0s 4ms/step - loss: 0.5524 - accuracy: 0.7498 - val_loss: 0.5644 - val_accuracy: 0.7266\n",
      "Epoch 78/100\n",
      "11/11 [==============================] - 0s 4ms/step - loss: 0.5553 - accuracy: 0.7361 - val_loss: 0.5646 - val_accuracy: 0.7266\n",
      "Epoch 79/100\n",
      "11/11 [==============================] - 0s 4ms/step - loss: 0.5510 - accuracy: 0.7478 - val_loss: 0.5634 - val_accuracy: 0.7422\n",
      "Epoch 80/100\n",
      "11/11 [==============================] - 0s 5ms/step - loss: 0.5520 - accuracy: 0.7498 - val_loss: 0.5655 - val_accuracy: 0.7305\n",
      "Epoch 81/100\n",
      "11/11 [==============================] - 0s 5ms/step - loss: 0.5523 - accuracy: 0.7468 - val_loss: 0.5685 - val_accuracy: 0.7188\n",
      "Epoch 82/100\n",
      "11/11 [==============================] - 0s 4ms/step - loss: 0.5515 - accuracy: 0.7478 - val_loss: 0.5648 - val_accuracy: 0.7266\n",
      "Epoch 83/100\n",
      "11/11 [==============================] - 0s 10ms/step - loss: 0.5520 - accuracy: 0.7478 - val_loss: 0.5643 - val_accuracy: 0.7305\n",
      "Epoch 84/100\n",
      "11/11 [==============================] - 0s 4ms/step - loss: 0.5510 - accuracy: 0.7517 - val_loss: 0.5731 - val_accuracy: 0.7188\n",
      "Epoch 85/100\n",
      "11/11 [==============================] - 0s 4ms/step - loss: 0.5517 - accuracy: 0.7488 - val_loss: 0.5642 - val_accuracy: 0.7344\n",
      "Epoch 86/100\n",
      "11/11 [==============================] - 0s 4ms/step - loss: 0.5597 - accuracy: 0.7302 - val_loss: 0.5639 - val_accuracy: 0.7461\n",
      "Epoch 87/100\n",
      "11/11 [==============================] - 0s 4ms/step - loss: 0.5582 - accuracy: 0.7400 - val_loss: 0.5747 - val_accuracy: 0.7109\n",
      "Epoch 88/100\n",
      "11/11 [==============================] - 0s 5ms/step - loss: 0.5524 - accuracy: 0.7556 - val_loss: 0.5633 - val_accuracy: 0.7383\n",
      "Epoch 89/100\n",
      "11/11 [==============================] - 0s 5ms/step - loss: 0.5533 - accuracy: 0.7478 - val_loss: 0.5625 - val_accuracy: 0.7422\n",
      "Epoch 90/100\n",
      "11/11 [==============================] - 0s 4ms/step - loss: 0.5535 - accuracy: 0.7322 - val_loss: 0.5681 - val_accuracy: 0.7109\n",
      "Epoch 91/100\n",
      "11/11 [==============================] - 0s 4ms/step - loss: 0.5509 - accuracy: 0.7566 - val_loss: 0.5702 - val_accuracy: 0.7070\n",
      "Epoch 92/100\n",
      "11/11 [==============================] - 0s 4ms/step - loss: 0.5592 - accuracy: 0.7283 - val_loss: 0.5629 - val_accuracy: 0.7383\n",
      "Epoch 93/100\n",
      "11/11 [==============================] - 0s 4ms/step - loss: 0.5533 - accuracy: 0.7400 - val_loss: 0.5667 - val_accuracy: 0.7188\n",
      "Epoch 94/100\n",
      "11/11 [==============================] - 0s 4ms/step - loss: 0.5519 - accuracy: 0.7400 - val_loss: 0.5685 - val_accuracy: 0.7070\n",
      "Epoch 95/100\n",
      "11/11 [==============================] - 0s 7ms/step - loss: 0.5515 - accuracy: 0.7507 - val_loss: 0.5656 - val_accuracy: 0.7227\n",
      "Epoch 96/100\n",
      "11/11 [==============================] - 0s 6ms/step - loss: 0.5531 - accuracy: 0.7390 - val_loss: 0.5625 - val_accuracy: 0.7422\n",
      "Epoch 97/100\n",
      "11/11 [==============================] - 0s 4ms/step - loss: 0.5517 - accuracy: 0.7410 - val_loss: 0.5629 - val_accuracy: 0.7383\n",
      "Epoch 98/100\n",
      "11/11 [==============================] - 0s 5ms/step - loss: 0.5513 - accuracy: 0.7458 - val_loss: 0.5703 - val_accuracy: 0.7148\n",
      "Epoch 99/100\n",
      "11/11 [==============================] - 0s 4ms/step - loss: 0.5519 - accuracy: 0.7390 - val_loss: 0.5688 - val_accuracy: 0.7109\n",
      "Epoch 100/100\n",
      "11/11 [==============================] - 0s 4ms/step - loss: 0.5528 - accuracy: 0.7429 - val_loss: 0.5692 - val_accuracy: 0.7109\n"
     ]
    }
   ],
   "source": [
    "# Fit the model using 50 epochs and the training data\n",
    "fit_model = model.fit(X_train, y_train, \n",
    "                      epochs=100, \n",
    "                      batch_size=100,\n",
    "                      validation_split=0.20,\n",
    "                      callbacks=[early_stopping])\n",
    "                   \n"
   ]
  },
  {
   "cell_type": "markdown",
   "metadata": {
    "id": "RfHMPZVI6q61"
   },
   "source": [
    "### Step 3: Evaluate the model using the test data to determine the model’s loss and accuracy.\n"
   ]
  },
  {
   "cell_type": "code",
   "execution_count": 963,
   "metadata": {
    "colab": {
     "base_uri": "https://localhost:8080/"
    },
    "id": "5hfVADKo6q61",
    "outputId": "7df473ad-3301-4b49-e5c3-16e1687cc1cf"
   },
   "outputs": [
    {
     "name": "stdout",
     "output_type": "stream",
     "text": [
      "10/10 [==============================] - 0s 1ms/step - loss: 0.6552 - accuracy: 0.6187\n",
      "Test Loss: 0.655156672000885\n",
      "Test Accuracy: 0.6187499761581421\n"
     ]
    }
   ],
   "source": [
    "# Evaluate the model loss and accuracy metrics using the evaluate method and the test data\n",
    "loss, accuracy = model.evaluate(X_test, y_test)\n",
    "\n",
    "# Display the model loss and accuracy results\n",
    "print(f\"Test Loss: {loss}\")\n",
    "print(f\"Test Accuracy: {accuracy}\")"
   ]
  },
  {
   "cell_type": "code",
   "execution_count": 964,
   "metadata": {},
   "outputs": [
    {
     "name": "stdout",
     "output_type": "stream",
     "text": [
      "{'loss': [1.5318394899368286, 1.2829375267028809, 1.136741280555725, 1.048323631286621, 0.9977816343307495, 0.9564067125320435, 0.92364102602005, 0.8966132998466492, 0.8734210729598999, 0.8534539937973022, 0.8358116149902344, 0.8202012777328491, 0.8061856031417847, 0.7937854528427124, 0.7826462388038635, 0.7729420065879822, 0.7634861469268799, 0.7550767660140991, 0.7482894062995911, 0.7416896820068359, 0.7358904480934143, 0.7303629517555237, 0.7248716354370117, 0.720525324344635, 0.7165010571479797, 0.7126778364181519, 0.7093414068222046, 0.7066106200218201, 0.70323646068573, 0.7012148499488831, 0.6983633041381836, 0.6960431337356567, 0.6937471032142639, 0.6918635368347168, 0.6903151273727417, 0.6884850263595581, 0.686569094657898, 0.6852922439575195, 0.6838189363479614, 0.6823794841766357, 0.6814499497413635, 0.6818587779998779, 0.6789771318435669, 0.6779836416244507, 0.6765814423561096, 0.6755662560462952, 0.6744350790977478, 0.6736258864402771, 0.6733385920524597, 0.6727107167243958, 0.6715290546417236, 0.6706286668777466, 0.6704596281051636, 0.6691784858703613, 0.6692267656326294, 0.6689654588699341, 0.6678428053855896, 0.6670998334884644, 0.6661503314971924, 0.6657572388648987, 0.665364682674408, 0.6645481586456299, 0.6644702553749084, 0.6641682386398315, 0.6635243892669678, 0.6629089713096619, 0.6627001166343689, 0.6618869304656982, 0.662260890007019, 0.6614582538604736, 0.6608516573905945, 0.6607014536857605, 0.6602903604507446, 0.6601470708847046, 0.6606719493865967, 0.6596009135246277, 0.6605693697929382, 0.6597437262535095, 0.6589507460594177, 0.6582067608833313, 0.6580799221992493, 0.6587197184562683, 0.6578267812728882, 0.6573354005813599, 0.6575900912284851, 0.6570770144462585, 0.6569469571113586, 0.6569952964782715, 0.6567636728286743, 0.6567016839981079, 0.6563132405281067, 0.6565154790878296, 0.6574808359146118, 0.6560462713241577, 0.6562402844429016, 0.6573322415351868, 0.6550901532173157, 0.6559727787971497, 0.6556840538978577, 0.6554251313209534], 'accuracy': [0.5171065330505371, 0.5532746911048889, 0.5757575631141663, 0.6207233667373657, 0.6236559152603149, 0.6275659799575806, 0.6295210123062134, 0.6324535608291626, 0.633431077003479, 0.6304985284805298, 0.6344085931777954, 0.6344085931777954, 0.6392961740493774, 0.6412512063980103, 0.6402736902236938, 0.6344085931777954, 0.6353861093521118, 0.6353861093521118, 0.6412512063980103, 0.6324535608291626, 0.6363636255264282, 0.6373411417007446, 0.6373411417007446, 0.6314760446548462, 0.6324535608291626, 0.6304985284805298, 0.628543496131897, 0.628543496131897, 0.6295210123062134, 0.6246334314346313, 0.6295210123062134, 0.628543496131897, 0.628543496131897, 0.6275659799575806, 0.628543496131897, 0.6275659799575806, 0.6275659799575806, 0.6256109476089478, 0.6275659799575806, 0.6275659799575806, 0.6246334314346313, 0.6265884637832642, 0.6314760446548462, 0.6236559152603149, 0.6246334314346313, 0.6275659799575806, 0.6265884637832642, 0.6275659799575806, 0.6256109476089478, 0.6265884637832642, 0.6265884637832642, 0.6226783990859985, 0.6265884637832642, 0.6265884637832642, 0.6256109476089478, 0.6226783990859985, 0.6275659799575806, 0.6236559152603149, 0.6275659799575806, 0.6265884637832642, 0.6265884637832642, 0.628543496131897, 0.6265884637832642, 0.6256109476089478, 0.6295210123062134, 0.6265884637832642, 0.6324535608291626, 0.628543496131897, 0.6265884637832642, 0.6275659799575806, 0.6275659799575806, 0.6295210123062134, 0.6226783990859985, 0.6246334314346313, 0.6236559152603149, 0.6246334314346313, 0.6275659799575806, 0.6226783990859985, 0.628543496131897, 0.6265884637832642, 0.6256109476089478, 0.6226783990859985, 0.6265884637832642, 0.6256109476089478, 0.6295210123062134, 0.6236559152603149, 0.628543496131897, 0.6236559152603149, 0.6265884637832642, 0.6256109476089478, 0.6275659799575806, 0.628543496131897, 0.6226783990859985, 0.6246334314346313, 0.6275659799575806, 0.6246334314346313, 0.6304985284805298, 0.6236559152603149, 0.6246334314346313, 0.6226783990859985], 'val_loss': [1.3541898727416992, 1.1907904148101807, 1.0808837413787842, 1.0147581100463867, 0.961840033531189, 0.9255363345146179, 0.8967812657356262, 0.8729495406150818, 0.8521769046783447, 0.8342515230178833, 0.8178985714912415, 0.803003191947937, 0.7900307178497314, 0.7786493301391602, 0.7683908939361572, 0.7593109011650085, 0.7508394718170166, 0.7435922622680664, 0.7368683218955994, 0.7312873601913452, 0.7253531217575073, 0.7200207710266113, 0.715438961982727, 0.7113708257675171, 0.7073922753334045, 0.7036898732185364, 0.7010456323623657, 0.6977392435073853, 0.6950839161872864, 0.6924995183944702, 0.690065860748291, 0.6880356669425964, 0.6858502626419067, 0.6841437220573425, 0.6822069883346558, 0.6810140609741211, 0.6794232130050659, 0.6776871681213379, 0.6764582395553589, 0.6750304102897644, 0.6736361384391785, 0.6729077696800232, 0.6726043820381165, 0.6706048846244812, 0.6700152158737183, 0.6690876483917236, 0.6682447195053101, 0.66745924949646, 0.6663272380828857, 0.6660120487213135, 0.6653690338134766, 0.6643751263618469, 0.6643569469451904, 0.664089560508728, 0.6626909375190735, 0.6636614203453064, 0.6622245907783508, 0.6616620421409607, 0.6613484025001526, 0.6612524390220642, 0.6607272028923035, 0.6602165102958679, 0.659703254699707, 0.6603666543960571, 0.6595736145973206, 0.6597599387168884, 0.6597369313240051, 0.6585545539855957, 0.6581913828849792, 0.658435583114624, 0.6584557294845581, 0.6579379439353943, 0.6578807830810547, 0.6575684547424316, 0.6575067639350891, 0.6573273539543152, 0.657478928565979, 0.6570907831192017, 0.6571555137634277, 0.6565853357315063, 0.6563733220100403, 0.6563013792037964, 0.6565144062042236, 0.6561781764030457, 0.6562153697013855, 0.6560593247413635, 0.6558039784431458, 0.6557074785232544, 0.6557809114456177, 0.655575692653656, 0.6557018160820007, 0.6555241346359253, 0.6558544635772705, 0.6552753448486328, 0.6552221775054932, 0.6546931266784668, 0.6554462909698486, 0.6547789573669434, 0.6549127101898193, 0.6549776196479797], 'val_accuracy': [0.515625, 0.55078125, 0.56640625, 0.5859375, 0.59765625, 0.609375, 0.62109375, 0.62890625, 0.625, 0.6171875, 0.62109375, 0.62109375, 0.62109375, 0.62890625, 0.625, 0.625, 0.62890625, 0.62890625, 0.625, 0.625, 0.625, 0.62109375, 0.62890625, 0.62109375, 0.62109375, 0.62109375, 0.62109375, 0.6171875, 0.62109375, 0.6171875, 0.6171875, 0.6171875, 0.6171875, 0.6171875, 0.6171875, 0.6171875, 0.6171875, 0.6171875, 0.61328125, 0.61328125, 0.6171875, 0.6171875, 0.61328125, 0.6171875, 0.6171875, 0.62109375, 0.6171875, 0.6171875, 0.6171875, 0.6171875, 0.6171875, 0.62109375, 0.6171875, 0.609375, 0.6171875, 0.609375, 0.6171875, 0.61328125, 0.6171875, 0.60546875, 0.6171875, 0.6171875, 0.61328125, 0.609375, 0.62109375, 0.61328125, 0.609375, 0.61328125, 0.61328125, 0.6015625, 0.609375, 0.6015625, 0.6015625, 0.60546875, 0.6015625, 0.61328125, 0.6015625, 0.62109375, 0.60546875, 0.60546875, 0.6171875, 0.609375, 0.6015625, 0.6171875, 0.60546875, 0.609375, 0.609375, 0.60546875, 0.609375, 0.60546875, 0.609375, 0.609375, 0.6015625, 0.609375, 0.60546875, 0.609375, 0.6015625, 0.609375, 0.60546875, 0.60546875]}\n"
     ]
    },
    {
     "data": {
      "text/plain": [
       "<Axes: >"
      ]
     },
     "execution_count": 964,
     "metadata": {},
     "output_type": "execute_result"
    },
    {
     "data": {
      "image/png": "[encoded data removed]",
      "text/plain": [
       "<Figure size 640x480 with 1 Axes>"
      ]
     },
     "metadata": {},
     "output_type": "display_data"
    }
   ],
   "source": [
    "# Create a DataFrame containing training history\n",
    "history_df = pd.DataFrame(fit_model.history)\n",
    "print (fit_model.history)\n",
    "\n",
    "# Increase the index by 1 to match the number of epochs\n",
    "history_df.index += 1\n",
    "\n",
    "# Plot the loss\n",
    "history_df.plot(y=\"loss\")\n"
   ]
  },
  {
   "cell_type": "markdown",
   "metadata": {
    "id": "jpAv0rXA6q61"
   },
   "source": [
    "### Step 4: Save the model to a file named 'student_loans.keras'."
   ]
  },
  {
   "cell_type": "code",
   "execution_count": 965,
   "metadata": {
    "id": "q0MetN0W6q61"
   },
   "outputs": [],
   "source": [
    "# Set the model's file path\n",
    "file_path = Path(\"student_loans.keras\")\n",
    "\n",
    "# Export your model to a keras file\n",
    "model.save(file_path)"
   ]
  },
  {
   "cell_type": "markdown",
   "metadata": {
    "id": "R1opCDdN6q61"
   },
   "source": [
    "---\n",
    "## Predict Loan Repayment Success by Using your Neural Network Model"
   ]
  },
  {
   "cell_type": "markdown",
   "metadata": {
    "id": "TfIfpeiy6q61"
   },
   "source": [
    "### Step 1: Reload your saved model."
   ]
  },
  {
   "cell_type": "code",
   "execution_count": 966,
   "metadata": {
    "id": "OCET2mvW6q61"
   },
   "outputs": [
    {
     "name": "stdout",
     "output_type": "stream",
     "text": [
      "<keras.engine.sequential.Sequential object at 0x000002A48C715FC0>\n"
     ]
    }
   ],
   "source": [
    "# Set the model's file path\n",
    "file_path = Path(\"student_loans.keras\")\n",
    "\n",
    "# Load the model to a new object\n",
    "lr_model = load_model(file_path)\n",
    "print (lr_model)"
   ]
  },
  {
   "cell_type": "markdown",
   "metadata": {
    "id": "rTPKooGw6q61"
   },
   "source": [
    "### Step 2: Make predictions on the testing data and save the predictions to a DataFrame."
   ]
  },
  {
   "cell_type": "code",
   "execution_count": 967,
   "metadata": {
    "colab": {
     "base_uri": "https://localhost:8080/"
    },
    "id": "Vet7qjgx6q62",
    "outputId": "0925af42-7e12-4978-8396-2a2c1580e1eb"
   },
   "outputs": [
    {
     "name": "stdout",
     "output_type": "stream",
     "text": [
      "10/10 - 0s - 47ms/epoch - 5ms/step\n"
     ]
    },
    {
     "data": {
      "text/plain": [
       "array([[0.6279603 ],\n",
       "       [0.6232804 ],\n",
       "       [0.63708395],\n",
       "       [0.6365972 ],\n",
       "       [0.63112646]], dtype=float32)"
      ]
     },
     "metadata": {},
     "output_type": "display_data"
    }
   ],
   "source": [
    "# Make predictions with the test data\n",
    "predictions = lr_model.predict(X_test_scaled,verbose=2)\n",
    "\n",
    "\n",
    "# Display a sample of the predictions\n",
    "display (predictions[:5])"
   ]
  },
  {
   "cell_type": "code",
   "execution_count": 968,
   "metadata": {
    "colab": {
     "base_uri": "https://localhost:8080/",
     "height": 424
    },
    "id": "87o8exFPhjfl",
    "outputId": "da5339c5-cea7-43e4-ec22-e168ea16dfa2"
   },
   "outputs": [
    {
     "data": {
      "text/html": [
       "<div>\n",
       "<style scoped>\n",
       "    .dataframe tbody tr th:only-of-type {\n",
       "        vertical-align: middle;\n",
       "    }\n",
       "\n",
       "    .dataframe tbody tr th {\n",
       "        vertical-align: top;\n",
       "    }\n",
       "\n",
       "    .dataframe thead th {\n",
       "        text-align: right;\n",
       "    }\n",
       "</style>\n",
       "<table border=\"1\" class=\"dataframe\">\n",
       "  <thead>\n",
       "    <tr style=\"text-align: right;\">\n",
       "      <th></th>\n",
       "      <th>Predicted_Probability</th>\n",
       "      <th>Predicted_Class</th>\n",
       "    </tr>\n",
       "  </thead>\n",
       "  <tbody>\n",
       "    <tr>\n",
       "      <th>0</th>\n",
       "      <td>0.627960</td>\n",
       "      <td>1.0</td>\n",
       "    </tr>\n",
       "    <tr>\n",
       "      <th>1</th>\n",
       "      <td>0.623280</td>\n",
       "      <td>1.0</td>\n",
       "    </tr>\n",
       "    <tr>\n",
       "      <th>2</th>\n",
       "      <td>0.637084</td>\n",
       "      <td>1.0</td>\n",
       "    </tr>\n",
       "    <tr>\n",
       "      <th>3</th>\n",
       "      <td>0.636597</td>\n",
       "      <td>1.0</td>\n",
       "    </tr>\n",
       "    <tr>\n",
       "      <th>4</th>\n",
       "      <td>0.631126</td>\n",
       "      <td>1.0</td>\n",
       "    </tr>\n",
       "  </tbody>\n",
       "</table>\n",
       "</div>"
      ],
      "text/plain": [
       "   Predicted_Probability  Predicted_Class\n",
       "0               0.627960              1.0\n",
       "1               0.623280              1.0\n",
       "2               0.637084              1.0\n",
       "3               0.636597              1.0\n",
       "4               0.631126              1.0"
      ]
     },
     "execution_count": 968,
     "metadata": {},
     "output_type": "execute_result"
    }
   ],
   "source": [
    "# Save the predictions to a DataFrame and round the predictions to binary results\n",
    "predictions_df = pd.DataFrame(data=predictions, columns=['Predicted_Probability'])\n",
    "# Round predictions to binary results (0 or 1) using 0.5 as the threshold\n",
    "predictions_df['Predicted_Class'] = round(predictions_df['Predicted_Probability'])\n",
    "predictions_df.head()"
   ]
  },
  {
   "cell_type": "markdown",
   "metadata": {
    "id": "oxxLwycg6q62"
   },
   "source": [
    "### Step 4: Generate a classification report using the test data and predictions."
   ]
  },
  {
   "cell_type": "code",
   "execution_count": 969,
   "metadata": {
    "colab": {
     "base_uri": "https://localhost:8080/"
    },
    "id": "UTxYZibW6q67",
    "outputId": "f341b396-9b4c-478c-dba8-f6d904ba10e3"
   },
   "outputs": [
    {
     "name": "stdout",
     "output_type": "stream",
     "text": [
      "              precision    recall  f1-score   support\n",
      "\n",
      "           0       0.00      0.00      0.00       154\n",
      "           1       0.52      1.00      0.68       166\n",
      "\n",
      "    accuracy                           0.52       320\n",
      "   macro avg       0.26      0.50      0.34       320\n",
      "weighted avg       0.27      0.52      0.35       320\n",
      "\n"
     ]
    },
    {
     "name": "stderr",
     "output_type": "stream",
     "text": [
      "c:\\Users\\gefhz\\anaconda3\\envs\\dev\\lib\\site-packages\\sklearn\\metrics\\_classification.py:1509: UndefinedMetricWarning: Precision is ill-defined and being set to 0.0 in labels with no predicted samples. Use `zero_division` parameter to control this behavior.\n",
      "  _warn_prf(average, modifier, f\"{metric.capitalize()} is\", len(result))\n",
      "c:\\Users\\gefhz\\anaconda3\\envs\\dev\\lib\\site-packages\\sklearn\\metrics\\_classification.py:1509: UndefinedMetricWarning: Precision is ill-defined and being set to 0.0 in labels with no predicted samples. Use `zero_division` parameter to control this behavior.\n",
      "  _warn_prf(average, modifier, f\"{metric.capitalize()} is\", len(result))\n",
      "c:\\Users\\gefhz\\anaconda3\\envs\\dev\\lib\\site-packages\\sklearn\\metrics\\_classification.py:1509: UndefinedMetricWarning: Precision is ill-defined and being set to 0.0 in labels with no predicted samples. Use `zero_division` parameter to control this behavior.\n",
      "  _warn_prf(average, modifier, f\"{metric.capitalize()} is\", len(result))\n"
     ]
    }
   ],
   "source": [
    "# Print the classification report with the y test data and predictions\n",
    "print(classification_report(y_test, predictions_df[\"Predicted_Class\"].values))"
   ]
  },
  {
   "cell_type": "markdown",
   "metadata": {
    "id": "8Aaof1tBtcp6"
   },
   "source": [
    "---\n",
    "## Discuss creating a recommendation system for student loans"
   ]
  },
  {
   "cell_type": "markdown",
   "metadata": {
    "id": "_CC8cNpNtcp6"
   },
   "source": [
    "Briefly answer the following questions in the space provided:\n",
    "\n",
    "1. Describe the data that you would need to collect to build a recommendation system to recommend student loan options for students. Explain why this data would be relevant and appropriate.\n",
    "\n",
    "2. Based on the data you chose to use in this recommendation system, would your model be using collaborative filtering, content-based filtering, or context-based filtering? Justify why the data you selected would be suitable for your choice of filtering method.\n",
    "\n",
    "3. Describe two real-world challenges that you would take into consideration while building a recommendation system for student loans. Explain why these challenges would be of concern for a student loan recommendation system."
   ]
  },
  {
   "cell_type": "markdown",
   "metadata": {
    "id": "5KqIT8kYtcp6"
   },
   "source": [
    "1. Describe the data that you would need to collect to build a recommendation system to recommend student loan options for students. Explain why this data would be relevant and appropriate.\n",
    "\n",
    "Building a recommendation system for student loan options involves collecting and analyzing a variety of data types to ensure personalized and accurate recommendations. Here are some key data categories that would be relevant and why:\n",
    "\n",
    "1. **Personal Information:**\n",
    "   - **Age, Gender, Marital Status:** These demographics can affect loan eligibility and terms.\n",
    "   - **Dependents:** Number of dependents can influence repayment capacity.\n",
    "   - **Income Level:** Directly impacts ability to repay loans and determines what kind of loan terms are feasible.\n",
    "\n",
    "2. **Educational Background:**\n",
    "   - **Type of Institution (public/private, 2-year/4-year):** Different institutions may have different associated costs and potential financial aid options.\n",
    "   - **Major/Field of Study:** Certain fields might have higher earning potential, affecting loan repayment terms.\n",
    "   - **Academic Performance (GPA):** Some loan options might offer better terms for higher academic achievements.\n",
    "\n",
    "3. **Financial History:**\n",
    "   - **Credit Score:** Essential for assessing risk and determining the interest rates offered.\n",
    "   - **Current Financial Obligations (e.g., existing loans, rent):** Helps assess debt-to-income ratio.\n",
    "   - **Employment History:** Stability and type of employment can influence loan repayment conditions.\n",
    "\n",
    "4. **Loan Requirements:**\n",
    "   - **Amount Needed:** Essential for matching with suitable loan options.\n",
    "   - **Preferred Repayment Period:** Influences the types of loans that can be recommended.\n",
    "   - **Interest Rate Sensitivity:** Some students may prefer lower interest rates with stricter repayment conditions, while others might opt for higher rates with more flexibility.\n",
    "\n",
    "5. **Geographical Location:**\n",
    "   - **State/Region:** Loan availability and terms can vary by location due to differing state regulations and cost of living.\n",
    "\n",
    "6. **Behavioral Data (if using an online system):**\n",
    "   - **Interaction with Loan Information:** Tracks which loan terms and details catch a student’s attention, which can guide personalized recommendations.\n",
    "   - **Feedback on Previous Recommendations:** Helps refine future recommendations by learning what was or wasn’t accepted by the user.\n",
    "\n",
    "Collecting these types of data is critical for building a model that understands the nuanced financial, educational, and personal circumstances of each student. This holistic approach allows the recommendation system to offer the most suitable and sustainable student loan options, tailored to each individual’s unique situation. However, it's also vital to handle this sensitive data with robust privacy measures and comply with all relevant data protection regulations (like GDPR in the EU or CCPA in California) to protect students' privacy and security.\n",
    "\n",
    "\n",
    "\n",
    "\n",
    "\n"
   ]
  },
  {
   "cell_type": "markdown",
   "metadata": {},
   "source": [
    "2. Based on the data you chose to use in this recommendation system, would your model be using collaborative filtering, content-based filtering, or context-based filtering? Justify why the data you selected would be suitable for your choice of filtering method.\n",
    "\n",
    "## Analysis of Data Features\n",
    "\n",
    "The dataset includes a range of features that can be classified primarily as personal and academic attributes:\n",
    "\n",
    "### Personal and Financial Attributes:\n",
    "- `payment_history`\n",
    "- `financial_aid_score`\n",
    "- `total_loan_score`\n",
    "\n",
    "### Academic Attributes:\n",
    "- `stem_degree_score`\n",
    "- `gpa_ranking`\n",
    "- `study_major_code`\n",
    "- `time_to_completion`\n",
    "\n",
    "### Workshop and Alumni Metrics:\n",
    "- `finance_workshop_score`\n",
    "- `alumni_success`\n",
    "\n",
    "### Rankings and Scores:\n",
    "- `cohort_ranking`\n",
    "- `location_parameter`\n",
    "- `credit_ranking`\n",
    "\n",
    "## Choosing a Filtering Method\n",
    "\n",
    "Given the types of data available, here are the considerations for selecting a suitable filtering method:\n",
    "\n",
    "### Collaborative Filtering:\n",
    "This method typically requires user-item interaction data, such as user ratings for items, which doesn't appear to be directly available in your dataset. Collaborative filtering might not be suitable unless there's implicit interaction data that can be derived from the existing features, like inferring preferences from `payment_history` or `credit_ranking`.\n",
    "\n",
    "### Content-Based Filtering:\n",
    "This approach seems highly suitable because:\n",
    "- **You have detailed attributes related to each student's academic and financial background.**\n",
    "- **Content-based systems can utilize these attributes to recommend loan products or financial options that match closely with individual student profiles based on their needs and past behaviors.**\n",
    "\n",
    "### Context-Based Filtering:\n",
    "While you have some features that could be considered contextual, like `location_parameter`, the context does not seem to be the primary driver of the recommendation logic needed for a student loan system. This method might be used to enhance another method but may not be sufficient on its own.\n",
    "\n",
    "## Justification for Content-Based Filtering\n",
    "\n",
    "Given the detailed and specific nature of the features in your dataset, content-based filtering is likely the most effective approach for several reasons:\n",
    "\n",
    "### Personalization:\n",
    "- It can leverage detailed academic scores, financial scores, and other personal attributes to match students with the most suitable loan options.\n",
    "\n",
    "### Direct Relevance:\n",
    "- Features like `finance_workshop_score`, `gpa_ranking`, and `financial_aid_score` provide a solid basis for profiling and matching, as these metrics are likely directly correlated with the suitability of various loan products or financial advice.\n",
    "\n",
    "### Data Utilization:\n",
    "- This method can effectively utilize almost all the features you have to create detailed profiles and recommendations, maximizing the use of available data without needing additional information.\n"
   ]
  },
  {
   "cell_type": "markdown",
   "metadata": {},
   "source": [
    "3. Describe two real-world challenges that you would take into consideration while building a recommendation system for student loans. Explain why these challenges would be of concern for a student loan recommendation system.\n",
    "\n",
    "Using machine learning models to set interest rates for student loans can have various real-world implications, both beneficial and challenging. Here are some key considerations:\n",
    "\n",
    "1. **Fairness and Bias**: One of the primary concerns is the risk of bias in the model. Machine learning models can inadvertently perpetuate or even amplify existing biases if the data on which they are trained is not representative or contains historical biases. This can lead to unfair interest rates for certain groups of students based on factors like race, gender, or socioeconomic background.\n",
    "\n",
    "2. **Transparency and Explainability**: Machine learning models, especially complex ones like deep learning, can be opaque, meaning it's difficult to understand how they arrive at specific decisions (e.g., interest rates). This lack of transparency can be problematic in finance, where borrowers have the right to understand how their rates are being set.\n",
    "\n",
    "3. **Regulatory Compliance**: There are numerous regulations in financial services designed to protect consumers, such as the Equal Credit Opportunity Act in the U.S., which prohibits discrimination on the basis of race, color, religion, national origin, sex, marital status, or age. Ensuring that a machine learning model complies with these regulations can be challenging but is crucial.\n",
    "\n",
    "4. **Accuracy and Reliability**: The accuracy of predictions made by machine learning models depends heavily on the quality and quantity of the data used for training. Inaccuracies in prediction can lead to inappropriate interest rates, which might not accurately reflect the borrower's credit risk.\n",
    "\n",
    "5. **Economic Impact**: Appropriately set interest rates based on predictive models could potentially make student loans more accessible and affordable to a broader group of students by more accurately assessing risk than traditional models. However, if not carefully managed, it could also lead to increased debt burdens for vulnerable populations.\n",
    "\n",
    "6. **Ethical Considerations**: There are significant ethical considerations in using AI in scenarios that significantly impact people's lives, like education financing. Ensuring that the use of such technologies is in the best interest of the students rather than purely for profit is crucial.\n",
    "\n",
    "In deploying machine learning models for setting student loan interest rates, it's important to continuously monitor and update the models to ensure they remain fair, accurate, and compliant with all applicable laws and regulations. Regular audits and transparency with the public can help maintain trust and ensure ethical use of technology in such critical applications."
   ]
  }
 ],
 "metadata": {
  "colab": {
   "provenance": []
  },
  "kernelspec": {
   "display_name": "Python 3 (ipykernel)",
   "language": "python",
   "name": "python3"
  },
  "language_info": {
   "codemirror_mode": {
    "name": "ipython",
    "version": 3
   },
   "file_extension": ".py",
   "mimetype": "text/x-python",
   "name": "python",
   "nbconvert_exporter": "python",
   "pygments_lexer": "ipython3",
   "version": "3.10.13"
  }
 },
 "nbformat": 4,
 "nbformat_minor": 0
}
