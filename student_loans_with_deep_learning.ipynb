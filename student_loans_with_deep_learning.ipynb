{
  "cells": [
    {
      "cell_type": "markdown",
      "metadata": {
        "id": "T7ZNhGcW6q6r"
      },
      "source": [
        "# Student Loan Risk with Deep Learning"
      ]
    },
    {
      "cell_type": "code",
      "execution_count": 1491,
      "metadata": {
        "id": "0otrXpJc6q6u"
      },
      "outputs": [],
      "source": [
        "# Imports\n",
        "import pandas as pd\n",
        "import tensorflow as tf\n",
        "from tensorflow.keras.layers import Dense, Dropout, BatchNormalization\n",
        "from tensorflow.keras.models import Sequential\n",
        "from tensorflow.keras.models import load_model\n",
        "from tensorflow.keras.callbacks import EarlyStopping\n",
        "from tensorflow.keras.optimizers import Adam, Adamax, Nadam\n",
        "\n",
        "from sklearn.model_selection import train_test_split\n",
        "from sklearn.preprocessing import StandardScaler,MinMaxScaler\n",
        "from sklearn.metrics import classification_report\n",
        "from sklearn.utils.class_weight import compute_class_weight\n",
        "from imblearn.over_sampling import SMOTE\n",
        "\n",
        "from pathlib import Path\n",
        "\n",
        "import numpy as np\n",
        "from sklearn.utils import shuffle\n",
        "from sklearn.metrics import accuracy_score\n",
        "import seaborn as sns\n",
        "import matplotlib.pyplot as plt\n",
        "from statsmodels.stats.outliers_influence import variance_inflation_factor\n"
      ]
    },
    {
      "cell_type": "markdown",
      "metadata": {
        "id": "OpV4Y-3Z6q6w"
      },
      "source": [
        "---\n",
        "\n",
        "## Part 1: Prepare the data to be used on a neural network model"
      ]
    },
    {
      "cell_type": "markdown",
      "metadata": {
        "id": "TUuSzp2l6q6w"
      },
      "source": [
        "### Step 1: Read the `student-loans.csv` file into a Pandas DataFrame. Review the DataFrame, looking for columns that could eventually define your features and target variables.   "
      ]
    },
    {
      "cell_type": "code",
      "execution_count": 1492,
      "metadata": {
        "colab": {
          "base_uri": "https://localhost:8080/",
          "height": 226
        },
        "id": "G65km1KD6q6x",
        "outputId": "93d12d8d-c415-4017-8452-5b4966e4dde5"
      },
      "outputs": [
        {
          "data": {
            "text/html": [
              "<div>\n",
              "<style scoped>\n",
              "    .dataframe tbody tr th:only-of-type {\n",
              "        vertical-align: middle;\n",
              "    }\n",
              "\n",
              "    .dataframe tbody tr th {\n",
              "        vertical-align: top;\n",
              "    }\n",
              "\n",
              "    .dataframe thead th {\n",
              "        text-align: right;\n",
              "    }\n",
              "</style>\n",
              "<table border=\"1\" class=\"dataframe\">\n",
              "  <thead>\n",
              "    <tr style=\"text-align: right;\">\n",
              "      <th></th>\n",
              "      <th>payment_history</th>\n",
              "      <th>location_parameter</th>\n",
              "      <th>stem_degree_score</th>\n",
              "      <th>gpa_ranking</th>\n",
              "      <th>alumni_success</th>\n",
              "      <th>study_major_code</th>\n",
              "      <th>time_to_completion</th>\n",
              "      <th>finance_workshop_score</th>\n",
              "      <th>cohort_ranking</th>\n",
              "      <th>total_loan_score</th>\n",
              "      <th>financial_aid_score</th>\n",
              "      <th>credit_ranking</th>\n",
              "    </tr>\n",
              "  </thead>\n",
              "  <tbody>\n",
              "    <tr>\n",
              "      <th>0</th>\n",
              "      <td>7.4</td>\n",
              "      <td>0.70</td>\n",
              "      <td>0.00</td>\n",
              "      <td>1.9</td>\n",
              "      <td>0.076</td>\n",
              "      <td>11.0</td>\n",
              "      <td>34.0</td>\n",
              "      <td>0.9978</td>\n",
              "      <td>3.51</td>\n",
              "      <td>0.56</td>\n",
              "      <td>9.4</td>\n",
              "      <td>0</td>\n",
              "    </tr>\n",
              "    <tr>\n",
              "      <th>1</th>\n",
              "      <td>7.8</td>\n",
              "      <td>0.88</td>\n",
              "      <td>0.00</td>\n",
              "      <td>2.6</td>\n",
              "      <td>0.098</td>\n",
              "      <td>25.0</td>\n",
              "      <td>67.0</td>\n",
              "      <td>0.9968</td>\n",
              "      <td>3.20</td>\n",
              "      <td>0.68</td>\n",
              "      <td>9.8</td>\n",
              "      <td>0</td>\n",
              "    </tr>\n",
              "    <tr>\n",
              "      <th>2</th>\n",
              "      <td>7.8</td>\n",
              "      <td>0.76</td>\n",
              "      <td>0.04</td>\n",
              "      <td>2.3</td>\n",
              "      <td>0.092</td>\n",
              "      <td>15.0</td>\n",
              "      <td>54.0</td>\n",
              "      <td>0.9970</td>\n",
              "      <td>3.26</td>\n",
              "      <td>0.65</td>\n",
              "      <td>9.8</td>\n",
              "      <td>0</td>\n",
              "    </tr>\n",
              "    <tr>\n",
              "      <th>3</th>\n",
              "      <td>11.2</td>\n",
              "      <td>0.28</td>\n",
              "      <td>0.56</td>\n",
              "      <td>1.9</td>\n",
              "      <td>0.075</td>\n",
              "      <td>17.0</td>\n",
              "      <td>60.0</td>\n",
              "      <td>0.9980</td>\n",
              "      <td>3.16</td>\n",
              "      <td>0.58</td>\n",
              "      <td>9.8</td>\n",
              "      <td>1</td>\n",
              "    </tr>\n",
              "    <tr>\n",
              "      <th>4</th>\n",
              "      <td>7.4</td>\n",
              "      <td>0.70</td>\n",
              "      <td>0.00</td>\n",
              "      <td>1.9</td>\n",
              "      <td>0.076</td>\n",
              "      <td>11.0</td>\n",
              "      <td>34.0</td>\n",
              "      <td>0.9978</td>\n",
              "      <td>3.51</td>\n",
              "      <td>0.56</td>\n",
              "      <td>9.4</td>\n",
              "      <td>0</td>\n",
              "    </tr>\n",
              "  </tbody>\n",
              "</table>\n",
              "</div>"
            ],
            "text/plain": [
              "   payment_history  location_parameter  stem_degree_score  gpa_ranking  \\\n",
              "0              7.4                0.70               0.00          1.9   \n",
              "1              7.8                0.88               0.00          2.6   \n",
              "2              7.8                0.76               0.04          2.3   \n",
              "3             11.2                0.28               0.56          1.9   \n",
              "4              7.4                0.70               0.00          1.9   \n",
              "\n",
              "   alumni_success  study_major_code  time_to_completion  \\\n",
              "0           0.076              11.0                34.0   \n",
              "1           0.098              25.0                67.0   \n",
              "2           0.092              15.0                54.0   \n",
              "3           0.075              17.0                60.0   \n",
              "4           0.076              11.0                34.0   \n",
              "\n",
              "   finance_workshop_score  cohort_ranking  total_loan_score  \\\n",
              "0                  0.9978            3.51              0.56   \n",
              "1                  0.9968            3.20              0.68   \n",
              "2                  0.9970            3.26              0.65   \n",
              "3                  0.9980            3.16              0.58   \n",
              "4                  0.9978            3.51              0.56   \n",
              "\n",
              "   financial_aid_score  credit_ranking  \n",
              "0                  9.4               0  \n",
              "1                  9.8               0  \n",
              "2                  9.8               0  \n",
              "3                  9.8               1  \n",
              "4                  9.4               0  "
            ]
          },
          "metadata": {},
          "output_type": "display_data"
        },
        {
          "data": {
            "text/plain": [
              "(1599, 12)"
            ]
          },
          "metadata": {},
          "output_type": "display_data"
        }
      ],
      "source": [
        "# Read the csv into a Pandas DataFrame\n",
        "file_path = \"https://static.bc-edx.com/ai/ail-v-1-0/m18/lms/datasets/student-loans.csv\"\n",
        "loans_df = pd.read_csv(file_path)\n",
        "\n",
        "# Review the DataFrame\n",
        "display (loans_df.head())\n",
        "display (loans_df.shape)"
      ]
    },
    {
      "cell_type": "code",
      "execution_count": 1493,
      "metadata": {
        "colab": {
          "base_uri": "https://localhost:8080/"
        },
        "id": "K8ZYB8wx6q6x",
        "outputId": "b509fc34-4488-406e-e451-2069fec37371"
      },
      "outputs": [
        {
          "data": {
            "text/plain": [
              "payment_history           float64\n",
              "location_parameter        float64\n",
              "stem_degree_score         float64\n",
              "gpa_ranking               float64\n",
              "alumni_success            float64\n",
              "study_major_code          float64\n",
              "time_to_completion        float64\n",
              "finance_workshop_score    float64\n",
              "cohort_ranking            float64\n",
              "total_loan_score          float64\n",
              "financial_aid_score       float64\n",
              "credit_ranking              int64\n",
              "dtype: object"
            ]
          },
          "execution_count": 1493,
          "metadata": {},
          "output_type": "execute_result"
        }
      ],
      "source": [
        "# Review the data types associated with the columns\n",
        "loans_df.dtypes"
      ]
    },
    {
      "cell_type": "code",
      "execution_count": 1494,
      "metadata": {
        "colab": {
          "base_uri": "https://localhost:8080/"
        },
        "id": "9P8aX-dW75JO",
        "outputId": "63251fa8-5ac1-4112-c2f7-bc5d97ea8491"
      },
      "outputs": [
        {
          "data": {
            "text/plain": [
              "credit_ranking\n",
              "1    855\n",
              "0    744\n",
              "Name: count, dtype: int64"
            ]
          },
          "metadata": {},
          "output_type": "display_data"
        },
        {
          "data": {
            "text/plain": [
              "array([0, 1], dtype=int64)"
            ]
          },
          "metadata": {},
          "output_type": "display_data"
        }
      ],
      "source": [
        "# Check the credit_ranking value counts\n",
        "display (loans_df[\"credit_ranking\"].value_counts())\n",
        "# another way of looking at the feature. not prefered as this does not show the count per class\n",
        "display (loans_df['credit_ranking'].unique())"
      ]
    },
    {
      "cell_type": "markdown",
      "metadata": {
        "id": "R6vbZeDH6q6y"
      },
      "source": [
        "### Step 2: Using the preprocessed data, create the features (`X`) and target (`y`) datasets. The target dataset should be defined by the preprocessed DataFrame column “credit_ranking”. The remaining columns should define the features dataset."
      ]
    },
    {
      "cell_type": "code",
      "execution_count": 1495,
      "metadata": {
        "colab": {
          "base_uri": "https://localhost:8080/"
        },
        "id": "Q5eVAP5M6q6y",
        "outputId": "89728bbf-6930-4573-a126-9f1b66ed8859"
      },
      "outputs": [
        {
          "data": {
            "text/plain": [
              "array([0, 0, 0, 1, 0], dtype=int64)"
            ]
          },
          "execution_count": 1495,
          "metadata": {},
          "output_type": "execute_result"
        }
      ],
      "source": [
        "# Define the target set y using the credit_ranking column\n",
        "\n",
        "y = loans_df['credit_ranking']\n",
        "# Display a sample of y\n",
        "\n",
        "np.array(y)[:5]"
      ]
    },
    {
      "cell_type": "code",
      "execution_count": 1496,
      "metadata": {
        "colab": {
          "base_uri": "https://localhost:8080/",
          "height": 226
        },
        "id": "IIkrD2Sn6q6z",
        "outputId": "ce07c4a3-fb81-4657-d11e-ec85ae8554c9"
      },
      "outputs": [
        {
          "data": {
            "text/html": [
              "<div>\n",
              "<style scoped>\n",
              "    .dataframe tbody tr th:only-of-type {\n",
              "        vertical-align: middle;\n",
              "    }\n",
              "\n",
              "    .dataframe tbody tr th {\n",
              "        vertical-align: top;\n",
              "    }\n",
              "\n",
              "    .dataframe thead th {\n",
              "        text-align: right;\n",
              "    }\n",
              "</style>\n",
              "<table border=\"1\" class=\"dataframe\">\n",
              "  <thead>\n",
              "    <tr style=\"text-align: right;\">\n",
              "      <th></th>\n",
              "      <th>payment_history</th>\n",
              "      <th>location_parameter</th>\n",
              "      <th>stem_degree_score</th>\n",
              "      <th>gpa_ranking</th>\n",
              "      <th>alumni_success</th>\n",
              "      <th>study_major_code</th>\n",
              "      <th>time_to_completion</th>\n",
              "      <th>finance_workshop_score</th>\n",
              "      <th>cohort_ranking</th>\n",
              "      <th>total_loan_score</th>\n",
              "      <th>financial_aid_score</th>\n",
              "    </tr>\n",
              "  </thead>\n",
              "  <tbody>\n",
              "    <tr>\n",
              "      <th>0</th>\n",
              "      <td>7.4</td>\n",
              "      <td>0.70</td>\n",
              "      <td>0.00</td>\n",
              "      <td>1.9</td>\n",
              "      <td>0.076</td>\n",
              "      <td>11.0</td>\n",
              "      <td>34.0</td>\n",
              "      <td>0.9978</td>\n",
              "      <td>3.51</td>\n",
              "      <td>0.56</td>\n",
              "      <td>9.4</td>\n",
              "    </tr>\n",
              "    <tr>\n",
              "      <th>1</th>\n",
              "      <td>7.8</td>\n",
              "      <td>0.88</td>\n",
              "      <td>0.00</td>\n",
              "      <td>2.6</td>\n",
              "      <td>0.098</td>\n",
              "      <td>25.0</td>\n",
              "      <td>67.0</td>\n",
              "      <td>0.9968</td>\n",
              "      <td>3.20</td>\n",
              "      <td>0.68</td>\n",
              "      <td>9.8</td>\n",
              "    </tr>\n",
              "    <tr>\n",
              "      <th>2</th>\n",
              "      <td>7.8</td>\n",
              "      <td>0.76</td>\n",
              "      <td>0.04</td>\n",
              "      <td>2.3</td>\n",
              "      <td>0.092</td>\n",
              "      <td>15.0</td>\n",
              "      <td>54.0</td>\n",
              "      <td>0.9970</td>\n",
              "      <td>3.26</td>\n",
              "      <td>0.65</td>\n",
              "      <td>9.8</td>\n",
              "    </tr>\n",
              "    <tr>\n",
              "      <th>3</th>\n",
              "      <td>11.2</td>\n",
              "      <td>0.28</td>\n",
              "      <td>0.56</td>\n",
              "      <td>1.9</td>\n",
              "      <td>0.075</td>\n",
              "      <td>17.0</td>\n",
              "      <td>60.0</td>\n",
              "      <td>0.9980</td>\n",
              "      <td>3.16</td>\n",
              "      <td>0.58</td>\n",
              "      <td>9.8</td>\n",
              "    </tr>\n",
              "    <tr>\n",
              "      <th>4</th>\n",
              "      <td>7.4</td>\n",
              "      <td>0.70</td>\n",
              "      <td>0.00</td>\n",
              "      <td>1.9</td>\n",
              "      <td>0.076</td>\n",
              "      <td>11.0</td>\n",
              "      <td>34.0</td>\n",
              "      <td>0.9978</td>\n",
              "      <td>3.51</td>\n",
              "      <td>0.56</td>\n",
              "      <td>9.4</td>\n",
              "    </tr>\n",
              "  </tbody>\n",
              "</table>\n",
              "</div>"
            ],
            "text/plain": [
              "   payment_history  location_parameter  stem_degree_score  gpa_ranking  \\\n",
              "0              7.4                0.70               0.00          1.9   \n",
              "1              7.8                0.88               0.00          2.6   \n",
              "2              7.8                0.76               0.04          2.3   \n",
              "3             11.2                0.28               0.56          1.9   \n",
              "4              7.4                0.70               0.00          1.9   \n",
              "\n",
              "   alumni_success  study_major_code  time_to_completion  \\\n",
              "0           0.076              11.0                34.0   \n",
              "1           0.098              25.0                67.0   \n",
              "2           0.092              15.0                54.0   \n",
              "3           0.075              17.0                60.0   \n",
              "4           0.076              11.0                34.0   \n",
              "\n",
              "   finance_workshop_score  cohort_ranking  total_loan_score  \\\n",
              "0                  0.9978            3.51              0.56   \n",
              "1                  0.9968            3.20              0.68   \n",
              "2                  0.9970            3.26              0.65   \n",
              "3                  0.9980            3.16              0.58   \n",
              "4                  0.9978            3.51              0.56   \n",
              "\n",
              "   financial_aid_score  \n",
              "0                  9.4  \n",
              "1                  9.8  \n",
              "2                  9.8  \n",
              "3                  9.8  \n",
              "4                  9.4  "
            ]
          },
          "metadata": {},
          "output_type": "display_data"
        }
      ],
      "source": [
        "# Define features set X by selecting all columns but credit_ranking\n",
        "X=loans_df.drop(columns=['credit_ranking'])\n",
        "\n",
        "# Review the features DataFrame\n",
        "display (X.head())\n"
      ]
    },
    {
      "cell_type": "code",
      "execution_count": null,
      "metadata": {},
      "outputs": [],
      "source": []
    },
    {
      "cell_type": "markdown",
      "metadata": {
        "id": "QmM9c-tj6q6z"
      },
      "source": [
        "### Step 3: Split the features and target sets into training and testing datasets.\n"
      ]
    },
    {
      "cell_type": "code",
      "execution_count": 1497,
      "metadata": {},
      "outputs": [
        {
          "name": "stdout",
          "output_type": "stream",
          "text": [
            "                   feature          VIF\n",
            "7   finance_workshop_score  1479.287209\n",
            "8           cohort_ranking  1070.967685\n",
            "10     financial_aid_score   124.394866\n",
            "0          payment_history    74.452265\n",
            "9         total_loan_score    21.590621\n",
            "1       location_parameter    17.060026\n",
            "2        stem_degree_score     9.183495\n",
            "4           alumni_success     6.554877\n",
            "6       time_to_completion     6.519699\n",
            "5         study_major_code     6.442682\n",
            "3              gpa_ranking     4.662992\n"
          ]
        }
      ],
      "source": [
        "# Calculating VIF for each feature\n",
        "vif = pd.DataFrame()\n",
        "vif[\"feature\"] = X.columns\n",
        "vif[\"VIF\"] = [variance_inflation_factor(X.values, i) for i in range(X.shape[1])]\n",
        "\n",
        "# Displaying VIF scores\n",
        "sorted_vif =  vif.sort_values(by='VIF', ascending=False)\n",
        "print(sorted_vif)"
      ]
    },
    {
      "cell_type": "code",
      "execution_count": 1498,
      "metadata": {},
      "outputs": [],
      "source": [
        "# drop_columns = ['finance_workshop_score','cohort_ranking','financial_aid_score','payment_history','total_loan_score','location_parameter']\n",
        "drop_columns = ['gpa_ranking','alumni_success','finance_workshop_score','cohort_ranking']\n",
        "# X = X.drop(columns=drop_columns)"
      ]
    },
    {
      "cell_type": "code",
      "execution_count": 1499,
      "metadata": {},
      "outputs": [
        {
          "name": "stdout",
          "output_type": "stream",
          "text": [
            "                   feature          VIF\n",
            "7   finance_workshop_score  1479.287209\n",
            "8           cohort_ranking  1070.967685\n",
            "10     financial_aid_score   124.394866\n",
            "0          payment_history    74.452265\n",
            "9         total_loan_score    21.590621\n",
            "1       location_parameter    17.060026\n",
            "2        stem_degree_score     9.183495\n",
            "4           alumni_success     6.554877\n",
            "6       time_to_completion     6.519699\n",
            "5         study_major_code     6.442682\n",
            "3              gpa_ranking     4.662992\n"
          ]
        }
      ],
      "source": [
        "# Calculating VIF for each feature\n",
        "vif = pd.DataFrame()\n",
        "vif[\"feature\"] = X.columns\n",
        "vif[\"VIF\"] = [variance_inflation_factor(X.values, i) for i in range(X.shape[1])]\n",
        "\n",
        "# Displaying VIF scores\n",
        "sorted_vif = vif.sort_values(by='VIF', ascending=False)\n",
        "print(sorted_vif)"
      ]
    },
    {
      "cell_type": "markdown",
      "metadata": {
        "id": "OD7xwU_96q6z"
      },
      "source": [
        "# Split the preprocessed data into a training and testing dataset\n",
        "# Assign the function a random_state equal to 1\n",
        "X_train,X_test,y_train,y_test = train_test_split(X,y,test_size=.2,random_state=1)"
      ]
    },
    {
      "cell_type": "code",
      "execution_count": 1500,
      "metadata": {},
      "outputs": [],
      "source": [
        "# Assume X and y are your features and labels respectively\n",
        "X_train, X_temp, y_train, y_temp = train_test_split(X, y, test_size=0.40, random_state=1)  # Split into training and temp (validation + test)\n",
        "X_val, X_test, y_val, y_test = train_test_split(X_temp, y_temp, test_size=0.50, random_state=1)  # Split the temp into validation and test\n"
      ]
    },
    {
      "cell_type": "code",
      "execution_count": 1501,
      "metadata": {},
      "outputs": [
        {
          "data": {
            "image/png": "[encoded data removed]",
            "text/plain": [
              "<Figure size 1000x800 with 2 Axes>"
            ]
          },
          "metadata": {},
          "output_type": "display_data"
        }
      ],
      "source": [
        "# Check for high corrilation\n",
        "correlation_matrix = X_train.corr()\n",
        "\n",
        "# Plotting the correlation matrix\n",
        "plt.figure(figsize=(10, 8))\n",
        "sns.heatmap(correlation_matrix, annot=True, fmt=\".2f\", cmap='coolwarm')\n",
        "plt.title('Feature Correlation Matrix')\n",
        "plt.show()"
      ]
    },
    {
      "cell_type": "markdown",
      "metadata": {
        "id": "G9i6DHY06q6z"
      },
      "source": [
        "### Step 4: Use scikit-learn's `StandardScaler` to scale the features data."
      ]
    },
    {
      "cell_type": "code",
      "execution_count": 1502,
      "metadata": {
        "id": "BzD3z20m6q6z"
      },
      "outputs": [],
      "source": [
        "# Step 1: Create a StandardScaler instance\n",
        "scaler = StandardScaler()\n",
        "\n",
        "# Step 2: Fit the scaler to the features training dataset\n",
        "scaler.fit(X_train)\n",
        "\n",
        "# Step 3: Transform the features training dataset\n",
        "X_train_scaled = scaler.transform(X_train)\n",
        "\n",
        "# Step 4: Transform the features testing dataset\n",
        "X_test_scaled = scaler.transform(X_test)\n",
        "\n",
        "# Step 4: Transform the features testing dataset\n",
        "X_val_scaled = scaler.transform(X_val)\n",
        "\n",
        "\n",
        "# Optional: Display the first few entries of the scaled features to verify the scaling\n",
        "# print(\"Scaled X_train sample:\\n\", X_train_scaled[:5])\n",
        "# print(\"Scaled X_test sample:\\n\", X_test_scaled[:5])"
      ]
    },
    {
      "cell_type": "markdown",
      "metadata": {
        "id": "CZzVDjba6q6z"
      },
      "source": [
        "---\n",
        "\n",
        "## Part 2 Compile and Evaluate a Model Using a Neural Network"
      ]
    },
    {
      "cell_type": "markdown",
      "metadata": {
        "id": "m-pSux4Q6q60"
      },
      "source": [
        "### Step 1: Create a deep neural network by assigning the number of input features, the number of layers, and the number of neurons on each layer using Tensorflow’s Keras.\n",
        "\n",
        "> **Hint** You can start with a two-layer deep neural network model that uses the `relu` activation function for both layers.\n"
      ]
    },
    {
      "cell_type": "code",
      "execution_count": 1503,
      "metadata": {
        "colab": {
          "base_uri": "https://localhost:8080/"
        },
        "id": "t5C94FCd6q60",
        "outputId": "cbf05783-2f56-4745-cd33-649a6152e510"
      },
      "outputs": [
        {
          "data": {
            "text/plain": [
              "'Number of input features:'"
            ]
          },
          "metadata": {},
          "output_type": "display_data"
        },
        {
          "data": {
            "text/plain": [
              "11"
            ]
          },
          "metadata": {},
          "output_type": "display_data"
        }
      ],
      "source": [
        "# Define the the number of inputs (features) to the model\n",
        "input_nodes  = X_train_scaled.shape[1]\n",
        "# or \n",
        "# input_nodes = len(X.columns)\n",
        "\n",
        "# Review the number of features\n",
        "display (\"Number of input features:\", input_nodes )"
      ]
    },
    {
      "cell_type": "markdown",
      "metadata": {},
      "source": [
        "# Neural Network Configuration Guide\n",
        "\n",
        "## 1. Define the Number of Hidden Nodes for the First Hidden Layer\n",
        "For the first hidden layer, a common approach is to start with a number of nodes that is somewhere between the number of input features and the number of output neurons. A typical strategy might be to use a number of nodes that is the mean or the geometric mean of these two numbers, adjusted based on the complexity of the problem or empirical testing.\n",
        "\n",
        "## 2. Define the Number of Hidden Nodes for the Second Hidden Layer\n",
        "For the second hidden layer, you might choose to reduce the number of nodes compared to the first hidden layer. This is often done to gradually reduce the dimensionality and to aggregate the features extracted by the first layer. A typical rule might be to halve the number of nodes in each subsequent layer, although the specific number should be tuned based on model performance and overfitting concerns.\n",
        "\n",
        "## 3. Define the Number of Neurons in the Output Layer\n",
        "The number of neurons in the output layer depends on the type of problem:\n",
        "\n",
        "- **Binary Classification**: Use 1 neuron with a sigmoid activation function.\n",
        "- **Multiclass Classification**: Use as many neurons as there are classes, with a softmax activation function.\n",
        "- **Regression**: Typically use 1 neuron for a single output; for multiple outputs, use as many neurons as there are outputs.\n"
      ]
    },
    {
      "cell_type": "code",
      "execution_count": 1504,
      "metadata": {
        "id": "c_KXDLkF6q60"
      },
      "outputs": [
        {
          "data": {
            "text/plain": [
              "'Number of hidden nodes for the first hidden layer  : 550'"
            ]
          },
          "metadata": {},
          "output_type": "display_data"
        },
        {
          "data": {
            "text/plain": [
              "'Number of hidden nodes for the second hidden layer : 275'"
            ]
          },
          "metadata": {},
          "output_type": "display_data"
        },
        {
          "data": {
            "text/plain": [
              "'Number of hidden nodes for the third hidden layer  : 137'"
            ]
          },
          "metadata": {},
          "output_type": "display_data"
        },
        {
          "data": {
            "text/plain": [
              "'Number of neurons in the output layer              : 1'"
            ]
          },
          "metadata": {},
          "output_type": "display_data"
        }
      ],
      "source": [
        "# Define the number of hidden nodes for the first hidden layer\n",
        "num_nodes_first_hidden_layer = ((input_nodes * 50)  )  # Example calculation\n",
        "\n",
        "# Define the number of hidden nodes for the second hidden layer\n",
        "num_nodes_second_hidden_layer = num_nodes_first_hidden_layer // 2\n",
        "\n",
        "# Define the number of hidden nodes for the second hidden layer\n",
        "num_nodes_third_hidden_layer = num_nodes_second_hidden_layer // 2\n",
        "# Define the number of neurons in the output layer\n",
        "# For binary classification\n",
        "num_output_neurons = 1  # Using sigmoid activation\n",
        "\n",
        "# For multiclass classification (e.g., 3 classes)\n",
        "# num_output_neurons = 3  # Using softmax activation\n",
        "\n",
        "# For regression\n",
        "# num_output_neurons = 1  # Typically with no activation (or linear activation)\n",
        "\n",
        "\n",
        "display (f'Number of hidden nodes for the first hidden layer  : {num_nodes_first_hidden_layer}')\n",
        "display (f'Number of hidden nodes for the second hidden layer : {num_nodes_second_hidden_layer}')\n",
        "display (f'Number of hidden nodes for the third hidden layer  : {num_nodes_third_hidden_layer}')\n",
        "display (f'Number of neurons in the output layer              : {num_output_neurons}')\n"
      ]
    },
    {
      "cell_type": "markdown",
      "metadata": {
        "id": "63UdFncw6q60"
      },
      "source": [
        "# Create the Sequential model instance\n",
        "model = Sequential()\n",
        "\n",
        "# Add the first hidden layer\n",
        "model.add(Dense(units=num_nodes_first_hidden_layer, activation='relu', input_dim=input_nodes))\n",
        "\n",
        "# Add the second hidden layer\n",
        "model.add(Dense(units=num_nodes_second_hidden_layer, activation='relu'))\n",
        "\n",
        "# Add the output layer to the model specifying the number of output neurons and activation function\n",
        "model.add(Dense(num_output_neurons, activation='sigmoid'))"
      ]
    },
    {
      "cell_type": "code",
      "execution_count": 1505,
      "metadata": {},
      "outputs": [],
      "source": [
        "# Create the Sequential model instance\n",
        "model = Sequential(name='Student_Loan_Model')\n",
        "\n",
        "# Add the first hidden layer with input dimension specified\n",
        "model.add(Dense(units=num_nodes_first_hidden_layer, activation='relu', input_dim=input_nodes, name='First_Hidden_Layer'))\n",
        "model.add(BatchNormalization(name='BatchNorm_Layer_1'))  # Normalize the activations from the first hidden layer\n",
        "model.add(Dropout(0.7, name='Dropout_Layer_1'))  # Dropout for regularization to prevent overfitting\n",
        "\n",
        "# Add the second hidden layer\n",
        "model.add(Dense(units=num_nodes_second_hidden_layer, activation='relu', name='Second_Hidden_Layer'))\n",
        "model.add(BatchNormalization(name='BatchNorm_Layer_2'))  # Normalize the activations from the second hidden layer\n",
        "model.add(Dropout(0.7, name='Dropout_Layer_2'))  # Additional dropout layer for regularization\n",
        "\n",
        "# Add the output layer\n",
        "# If this is a binary classification problem, use 'sigmoid'. If it's regression, no activation or 'linear' can be used.\n",
        "model.add(Dense(num_output_neurons, activation='sigmoid', name='Output_Layer'))  # Use 'linear' if it's a regression task\n"
      ]
    },
    {
      "cell_type": "code",
      "execution_count": 1506,
      "metadata": {
        "colab": {
          "base_uri": "https://localhost:8080/"
        },
        "id": "-Beoh4f_6q61",
        "outputId": "2e50f810-086b-4d89-bf7d-98afbe0d649d"
      },
      "outputs": [
        {
          "name": "stdout",
          "output_type": "stream",
          "text": [
            "Model: \"Student_Loan_Model\"\n",
            "_________________________________________________________________\n",
            " Layer (type)                Output Shape              Param #   \n",
            "=================================================================\n",
            " First_Hidden_Layer (Dense)  (None, 550)               6600      \n",
            "                                                                 \n",
            " BatchNorm_Layer_1 (BatchNor  (None, 550)              2200      \n",
            " malization)                                                     \n",
            "                                                                 \n",
            " Dropout_Layer_1 (Dropout)   (None, 550)               0         \n",
            "                                                                 \n",
            " Second_Hidden_Layer (Dense)  (None, 275)              151525    \n",
            "                                                                 \n",
            " BatchNorm_Layer_2 (BatchNor  (None, 275)              1100      \n",
            " malization)                                                     \n",
            "                                                                 \n",
            " Dropout_Layer_2 (Dropout)   (None, 275)               0         \n",
            "                                                                 \n",
            " Output_Layer (Dense)        (None, 1)                 276       \n",
            "                                                                 \n",
            "=================================================================\n",
            "Total params: 161,701\n",
            "Trainable params: 160,051\n",
            "Non-trainable params: 1,650\n",
            "_________________________________________________________________\n"
          ]
        },
        {
          "data": {
            "text/plain": [
              "None"
            ]
          },
          "metadata": {},
          "output_type": "display_data"
        }
      ],
      "source": [
        "# Display the Sequential model summary\n",
        "display (model.summary())"
      ]
    },
    {
      "cell_type": "markdown",
      "metadata": {
        "id": "nRqWGIRo6q61"
      },
      "source": [
        "### Step 2: Compile and fit the model using the `binary_crossentropy` loss function, the `adam` optimizer, and the `accuracy` evaluation metric.\n"
      ]
    },
    {
      "cell_type": "code",
      "execution_count": 1507,
      "metadata": {},
      "outputs": [],
      "source": [
        "class_weights = compute_class_weight('balanced', classes=np.unique(y_train), y=y_train)\n",
        "class_weight_dict = dict(enumerate(class_weights))"
      ]
    },
    {
      "cell_type": "code",
      "execution_count": 1508,
      "metadata": {
        "id": "E-hZaeSn6q61"
      },
      "outputs": [],
      "source": [
        "# Compile the Sequential model\n",
        "model.compile(optimizer=Nadam(),\n",
        "              loss='binary_crossentropy',\n",
        "              metrics=['accuracy'])"
      ]
    },
    {
      "cell_type": "code",
      "execution_count": 1509,
      "metadata": {},
      "outputs": [],
      "source": [
        "# Early stopping callback\n",
        "early_stopping = EarlyStopping(monitor='val_loss', patience=20, restore_best_weights=True)\n"
      ]
    },
    {
      "cell_type": "code",
      "execution_count": 1510,
      "metadata": {
        "colab": {
          "base_uri": "https://localhost:8080/"
        },
        "id": "x25e8Idc6q61",
        "outputId": "e95946ba-23da-47a3-a1c1-5e9a2a484a47"
      },
      "outputs": [
        {
          "name": "stdout",
          "output_type": "stream",
          "text": [
            "Epoch 1/100\n",
            "7/7 [==============================] - 1s 40ms/step - loss: 0.9976 - accuracy: 0.5871 - val_loss: 0.6408 - val_accuracy: 0.7375\n",
            "Epoch 2/100\n",
            "7/7 [==============================] - 0s 8ms/step - loss: 0.8718 - accuracy: 0.6496 - val_loss: 0.6213 - val_accuracy: 0.7531\n",
            "Epoch 3/100\n",
            "7/7 [==============================] - 0s 8ms/step - loss: 0.8700 - accuracy: 0.6663 - val_loss: 0.6058 - val_accuracy: 0.7469\n",
            "Epoch 4/100\n",
            "7/7 [==============================] - 0s 8ms/step - loss: 0.8277 - accuracy: 0.6747 - val_loss: 0.6057 - val_accuracy: 0.7375\n",
            "Epoch 5/100\n",
            "7/7 [==============================] - 0s 8ms/step - loss: 0.7757 - accuracy: 0.6840 - val_loss: 0.5980 - val_accuracy: 0.7563\n",
            "Epoch 6/100\n",
            "7/7 [==============================] - 0s 8ms/step - loss: 0.7626 - accuracy: 0.7039 - val_loss: 0.5922 - val_accuracy: 0.7563\n",
            "Epoch 7/100\n",
            "7/7 [==============================] - 0s 8ms/step - loss: 0.7058 - accuracy: 0.7112 - val_loss: 0.5902 - val_accuracy: 0.7625\n",
            "Epoch 8/100\n",
            "7/7 [==============================] - 0s 8ms/step - loss: 0.7566 - accuracy: 0.7007 - val_loss: 0.5912 - val_accuracy: 0.7469\n",
            "Epoch 9/100\n",
            "7/7 [==============================] - 0s 8ms/step - loss: 0.7313 - accuracy: 0.6903 - val_loss: 0.5895 - val_accuracy: 0.7563\n",
            "Epoch 10/100\n",
            "7/7 [==============================] - 0s 9ms/step - loss: 0.6543 - accuracy: 0.7258 - val_loss: 0.5840 - val_accuracy: 0.7469\n",
            "Epoch 11/100\n",
            "7/7 [==============================] - 0s 8ms/step - loss: 0.7226 - accuracy: 0.7070 - val_loss: 0.5880 - val_accuracy: 0.7406\n",
            "Epoch 12/100\n",
            "7/7 [==============================] - 0s 8ms/step - loss: 0.6976 - accuracy: 0.7101 - val_loss: 0.5869 - val_accuracy: 0.7469\n",
            "Epoch 13/100\n",
            "7/7 [==============================] - 0s 10ms/step - loss: 0.6490 - accuracy: 0.7164 - val_loss: 0.5832 - val_accuracy: 0.7375\n",
            "Epoch 14/100\n",
            "7/7 [==============================] - 0s 8ms/step - loss: 0.6744 - accuracy: 0.7174 - val_loss: 0.5786 - val_accuracy: 0.7625\n",
            "Epoch 15/100\n",
            "7/7 [==============================] - 0s 8ms/step - loss: 0.5777 - accuracy: 0.7435 - val_loss: 0.5784 - val_accuracy: 0.7500\n",
            "Epoch 16/100\n",
            "7/7 [==============================] - 0s 10ms/step - loss: 0.6633 - accuracy: 0.6945 - val_loss: 0.5794 - val_accuracy: 0.7406\n",
            "Epoch 17/100\n",
            "7/7 [==============================] - 0s 7ms/step - loss: 0.6593 - accuracy: 0.7007 - val_loss: 0.5793 - val_accuracy: 0.7469\n",
            "Epoch 18/100\n",
            "7/7 [==============================] - 0s 10ms/step - loss: 0.6620 - accuracy: 0.7112 - val_loss: 0.5751 - val_accuracy: 0.7469\n",
            "Epoch 19/100\n",
            "7/7 [==============================] - 0s 10ms/step - loss: 0.6169 - accuracy: 0.7331 - val_loss: 0.5755 - val_accuracy: 0.7531\n",
            "Epoch 20/100\n",
            "7/7 [==============================] - 0s 10ms/step - loss: 0.6384 - accuracy: 0.7278 - val_loss: 0.5761 - val_accuracy: 0.7531\n",
            "Epoch 21/100\n",
            "7/7 [==============================] - 0s 9ms/step - loss: 0.6296 - accuracy: 0.7143 - val_loss: 0.5745 - val_accuracy: 0.7469\n",
            "Epoch 22/100\n",
            "7/7 [==============================] - 0s 8ms/step - loss: 0.6111 - accuracy: 0.7299 - val_loss: 0.5763 - val_accuracy: 0.7125\n",
            "Epoch 23/100\n",
            "7/7 [==============================] - 0s 9ms/step - loss: 0.5924 - accuracy: 0.7393 - val_loss: 0.5720 - val_accuracy: 0.7188\n",
            "Epoch 24/100\n",
            "7/7 [==============================] - 0s 8ms/step - loss: 0.5730 - accuracy: 0.7310 - val_loss: 0.5698 - val_accuracy: 0.7281\n",
            "Epoch 25/100\n",
            "7/7 [==============================] - 0s 9ms/step - loss: 0.5724 - accuracy: 0.7424 - val_loss: 0.5668 - val_accuracy: 0.7406\n",
            "Epoch 26/100\n",
            "7/7 [==============================] - 0s 8ms/step - loss: 0.5823 - accuracy: 0.7320 - val_loss: 0.5677 - val_accuracy: 0.7156\n",
            "Epoch 27/100\n",
            "7/7 [==============================] - 0s 7ms/step - loss: 0.5628 - accuracy: 0.7487 - val_loss: 0.5680 - val_accuracy: 0.7219\n",
            "Epoch 28/100\n",
            "7/7 [==============================] - 0s 8ms/step - loss: 0.5794 - accuracy: 0.7424 - val_loss: 0.5658 - val_accuracy: 0.7406\n",
            "Epoch 29/100\n",
            "7/7 [==============================] - 0s 8ms/step - loss: 0.5686 - accuracy: 0.7456 - val_loss: 0.5648 - val_accuracy: 0.7500\n",
            "Epoch 30/100\n",
            "7/7 [==============================] - 0s 8ms/step - loss: 0.5469 - accuracy: 0.7320 - val_loss: 0.5622 - val_accuracy: 0.7500\n",
            "Epoch 31/100\n",
            "7/7 [==============================] - 0s 8ms/step - loss: 0.5520 - accuracy: 0.7435 - val_loss: 0.5605 - val_accuracy: 0.7563\n",
            "Epoch 32/100\n",
            "7/7 [==============================] - 0s 9ms/step - loss: 0.5597 - accuracy: 0.7310 - val_loss: 0.5609 - val_accuracy: 0.7531\n",
            "Epoch 33/100\n",
            "7/7 [==============================] - 0s 9ms/step - loss: 0.5362 - accuracy: 0.7560 - val_loss: 0.5606 - val_accuracy: 0.7344\n",
            "Epoch 34/100\n",
            "7/7 [==============================] - 0s 10ms/step - loss: 0.5493 - accuracy: 0.7643 - val_loss: 0.5563 - val_accuracy: 0.7594\n",
            "Epoch 35/100\n",
            "7/7 [==============================] - 0s 8ms/step - loss: 0.5251 - accuracy: 0.7539 - val_loss: 0.5544 - val_accuracy: 0.7531\n",
            "Epoch 36/100\n",
            "7/7 [==============================] - 0s 9ms/step - loss: 0.5337 - accuracy: 0.7466 - val_loss: 0.5546 - val_accuracy: 0.7531\n",
            "Epoch 37/100\n",
            "7/7 [==============================] - 0s 8ms/step - loss: 0.5189 - accuracy: 0.7508 - val_loss: 0.5554 - val_accuracy: 0.7500\n",
            "Epoch 38/100\n",
            "7/7 [==============================] - 0s 8ms/step - loss: 0.5155 - accuracy: 0.7581 - val_loss: 0.5535 - val_accuracy: 0.7500\n",
            "Epoch 39/100\n",
            "7/7 [==============================] - 0s 10ms/step - loss: 0.5280 - accuracy: 0.7508 - val_loss: 0.5522 - val_accuracy: 0.7563\n",
            "Epoch 40/100\n",
            "7/7 [==============================] - 0s 10ms/step - loss: 0.5375 - accuracy: 0.7591 - val_loss: 0.5501 - val_accuracy: 0.7656\n",
            "Epoch 41/100\n",
            "7/7 [==============================] - 0s 8ms/step - loss: 0.5015 - accuracy: 0.7508 - val_loss: 0.5493 - val_accuracy: 0.7563\n",
            "Epoch 42/100\n",
            "7/7 [==============================] - 0s 8ms/step - loss: 0.5186 - accuracy: 0.7341 - val_loss: 0.5461 - val_accuracy: 0.7594\n",
            "Epoch 43/100\n",
            "7/7 [==============================] - 0s 7ms/step - loss: 0.5064 - accuracy: 0.7852 - val_loss: 0.5458 - val_accuracy: 0.7594\n",
            "Epoch 44/100\n",
            "7/7 [==============================] - 0s 6ms/step - loss: 0.5248 - accuracy: 0.7529 - val_loss: 0.5476 - val_accuracy: 0.7656\n",
            "Epoch 45/100\n",
            "7/7 [==============================] - 0s 7ms/step - loss: 0.5116 - accuracy: 0.7758 - val_loss: 0.5458 - val_accuracy: 0.7625\n",
            "Epoch 46/100\n",
            "7/7 [==============================] - 0s 8ms/step - loss: 0.5153 - accuracy: 0.7706 - val_loss: 0.5434 - val_accuracy: 0.7531\n",
            "Epoch 47/100\n",
            "7/7 [==============================] - 0s 7ms/step - loss: 0.5153 - accuracy: 0.7518 - val_loss: 0.5448 - val_accuracy: 0.7563\n",
            "Epoch 48/100\n",
            "7/7 [==============================] - 0s 8ms/step - loss: 0.4989 - accuracy: 0.7654 - val_loss: 0.5421 - val_accuracy: 0.7344\n",
            "Epoch 49/100\n",
            "7/7 [==============================] - 0s 7ms/step - loss: 0.5015 - accuracy: 0.7591 - val_loss: 0.5422 - val_accuracy: 0.7469\n",
            "Epoch 50/100\n",
            "7/7 [==============================] - 0s 8ms/step - loss: 0.5221 - accuracy: 0.7602 - val_loss: 0.5404 - val_accuracy: 0.7406\n",
            "Epoch 51/100\n",
            "7/7 [==============================] - 0s 10ms/step - loss: 0.4871 - accuracy: 0.7779 - val_loss: 0.5368 - val_accuracy: 0.7406\n",
            "Epoch 52/100\n",
            "7/7 [==============================] - 0s 8ms/step - loss: 0.5233 - accuracy: 0.7383 - val_loss: 0.5353 - val_accuracy: 0.7375\n",
            "Epoch 53/100\n",
            "7/7 [==============================] - 0s 10ms/step - loss: 0.5026 - accuracy: 0.7623 - val_loss: 0.5373 - val_accuracy: 0.7281\n",
            "Epoch 54/100\n",
            "7/7 [==============================] - 0s 7ms/step - loss: 0.5026 - accuracy: 0.7581 - val_loss: 0.5371 - val_accuracy: 0.7312\n",
            "Epoch 55/100\n",
            "7/7 [==============================] - 0s 8ms/step - loss: 0.5090 - accuracy: 0.7633 - val_loss: 0.5384 - val_accuracy: 0.7406\n",
            "Epoch 56/100\n",
            "7/7 [==============================] - 0s 7ms/step - loss: 0.4744 - accuracy: 0.7800 - val_loss: 0.5373 - val_accuracy: 0.7406\n",
            "Epoch 57/100\n",
            "7/7 [==============================] - 0s 9ms/step - loss: 0.5158 - accuracy: 0.7518 - val_loss: 0.5354 - val_accuracy: 0.7344\n",
            "Epoch 58/100\n",
            "7/7 [==============================] - 0s 9ms/step - loss: 0.4925 - accuracy: 0.7696 - val_loss: 0.5341 - val_accuracy: 0.7344\n",
            "Epoch 59/100\n",
            "7/7 [==============================] - 0s 9ms/step - loss: 0.5098 - accuracy: 0.7706 - val_loss: 0.5337 - val_accuracy: 0.7312\n",
            "Epoch 60/100\n",
            "7/7 [==============================] - 0s 9ms/step - loss: 0.4906 - accuracy: 0.7633 - val_loss: 0.5334 - val_accuracy: 0.7281\n",
            "Epoch 61/100\n",
            "7/7 [==============================] - 0s 7ms/step - loss: 0.4685 - accuracy: 0.7696 - val_loss: 0.5331 - val_accuracy: 0.7312\n",
            "Epoch 62/100\n",
            "7/7 [==============================] - 0s 7ms/step - loss: 0.4800 - accuracy: 0.7821 - val_loss: 0.5331 - val_accuracy: 0.7250\n",
            "Epoch 63/100\n",
            "7/7 [==============================] - 0s 8ms/step - loss: 0.4655 - accuracy: 0.8050 - val_loss: 0.5318 - val_accuracy: 0.7281\n",
            "Epoch 64/100\n",
            "7/7 [==============================] - 0s 7ms/step - loss: 0.4661 - accuracy: 0.7935 - val_loss: 0.5305 - val_accuracy: 0.7344\n",
            "Epoch 65/100\n",
            "7/7 [==============================] - 0s 7ms/step - loss: 0.4793 - accuracy: 0.7623 - val_loss: 0.5304 - val_accuracy: 0.7312\n",
            "Epoch 66/100\n",
            "7/7 [==============================] - 0s 8ms/step - loss: 0.4931 - accuracy: 0.7696 - val_loss: 0.5308 - val_accuracy: 0.7406\n",
            "Epoch 67/100\n",
            "7/7 [==============================] - 0s 7ms/step - loss: 0.4605 - accuracy: 0.7914 - val_loss: 0.5321 - val_accuracy: 0.7406\n",
            "Epoch 68/100\n",
            "7/7 [==============================] - 0s 7ms/step - loss: 0.4874 - accuracy: 0.7685 - val_loss: 0.5337 - val_accuracy: 0.7469\n",
            "Epoch 69/100\n",
            "7/7 [==============================] - 0s 8ms/step - loss: 0.4677 - accuracy: 0.7737 - val_loss: 0.5325 - val_accuracy: 0.7375\n",
            "Epoch 70/100\n",
            "7/7 [==============================] - 0s 7ms/step - loss: 0.4775 - accuracy: 0.7737 - val_loss: 0.5308 - val_accuracy: 0.7250\n",
            "Epoch 71/100\n",
            "7/7 [==============================] - 0s 8ms/step - loss: 0.4548 - accuracy: 0.7758 - val_loss: 0.5295 - val_accuracy: 0.7312\n",
            "Epoch 72/100\n",
            "7/7 [==============================] - 0s 7ms/step - loss: 0.4674 - accuracy: 0.7821 - val_loss: 0.5327 - val_accuracy: 0.7250\n",
            "Epoch 73/100\n",
            "7/7 [==============================] - 0s 6ms/step - loss: 0.4706 - accuracy: 0.7842 - val_loss: 0.5344 - val_accuracy: 0.7250\n",
            "Epoch 74/100\n",
            "7/7 [==============================] - 0s 7ms/step - loss: 0.4827 - accuracy: 0.7904 - val_loss: 0.5341 - val_accuracy: 0.7250\n",
            "Epoch 75/100\n",
            "7/7 [==============================] - 0s 8ms/step - loss: 0.4878 - accuracy: 0.7800 - val_loss: 0.5349 - val_accuracy: 0.7281\n",
            "Epoch 76/100\n",
            "7/7 [==============================] - 0s 7ms/step - loss: 0.4711 - accuracy: 0.7883 - val_loss: 0.5345 - val_accuracy: 0.7219\n",
            "Epoch 77/100\n",
            "7/7 [==============================] - 0s 9ms/step - loss: 0.4741 - accuracy: 0.7727 - val_loss: 0.5328 - val_accuracy: 0.7188\n",
            "Epoch 78/100\n",
            "7/7 [==============================] - 0s 7ms/step - loss: 0.4744 - accuracy: 0.7862 - val_loss: 0.5338 - val_accuracy: 0.7219\n",
            "Epoch 79/100\n",
            "7/7 [==============================] - 0s 10ms/step - loss: 0.4804 - accuracy: 0.7737 - val_loss: 0.5341 - val_accuracy: 0.7188\n",
            "Epoch 80/100\n",
            "7/7 [==============================] - 0s 7ms/step - loss: 0.4645 - accuracy: 0.7831 - val_loss: 0.5353 - val_accuracy: 0.7188\n",
            "Epoch 81/100\n",
            "7/7 [==============================] - 0s 9ms/step - loss: 0.4777 - accuracy: 0.7925 - val_loss: 0.5338 - val_accuracy: 0.7156\n",
            "Epoch 82/100\n",
            "7/7 [==============================] - 0s 9ms/step - loss: 0.4703 - accuracy: 0.7914 - val_loss: 0.5363 - val_accuracy: 0.7188\n",
            "Epoch 83/100\n",
            "7/7 [==============================] - 0s 10ms/step - loss: 0.4639 - accuracy: 0.7758 - val_loss: 0.5357 - val_accuracy: 0.7188\n",
            "Epoch 84/100\n",
            "7/7 [==============================] - 0s 7ms/step - loss: 0.4839 - accuracy: 0.7675 - val_loss: 0.5372 - val_accuracy: 0.7156\n",
            "Epoch 85/100\n",
            "7/7 [==============================] - 0s 8ms/step - loss: 0.4638 - accuracy: 0.7810 - val_loss: 0.5374 - val_accuracy: 0.7188\n",
            "Epoch 86/100\n",
            "7/7 [==============================] - 0s 7ms/step - loss: 0.4820 - accuracy: 0.7643 - val_loss: 0.5373 - val_accuracy: 0.7188\n",
            "Epoch 87/100\n",
            "7/7 [==============================] - 0s 8ms/step - loss: 0.4612 - accuracy: 0.7800 - val_loss: 0.5372 - val_accuracy: 0.7219\n",
            "Epoch 88/100\n",
            "7/7 [==============================] - 0s 7ms/step - loss: 0.4746 - accuracy: 0.7821 - val_loss: 0.5345 - val_accuracy: 0.7188\n",
            "Epoch 89/100\n",
            "7/7 [==============================] - 0s 8ms/step - loss: 0.4686 - accuracy: 0.7769 - val_loss: 0.5369 - val_accuracy: 0.7250\n",
            "Epoch 90/100\n",
            "7/7 [==============================] - 0s 7ms/step - loss: 0.4719 - accuracy: 0.7769 - val_loss: 0.5385 - val_accuracy: 0.7188\n",
            "Epoch 91/100\n",
            "7/7 [==============================] - 0s 11ms/step - loss: 0.4599 - accuracy: 0.7998 - val_loss: 0.5401 - val_accuracy: 0.7219\n"
          ]
        }
      ],
      "source": [
        "# Fit the model using 50 epochs and the training data\n",
        "fit_model = model.fit(X_train_scaled, y_train, \n",
        "                      epochs=100, \n",
        "                      batch_size=150,\n",
        "                      class_weight=class_weight_dict, \n",
        "                      validation_data=(X_val_scaled, y_val),\n",
        "                      callbacks=[early_stopping])\n",
        "                   \n"
      ]
    },
    {
      "cell_type": "markdown",
      "metadata": {
        "id": "RfHMPZVI6q61"
      },
      "source": [
        "### Step 3: Evaluate the model using the test data to determine the model’s loss and accuracy.\n"
      ]
    },
    {
      "cell_type": "code",
      "execution_count": 1511,
      "metadata": {
        "colab": {
          "base_uri": "https://localhost:8080/"
        },
        "id": "5hfVADKo6q61",
        "outputId": "7df473ad-3301-4b49-e5c3-16e1687cc1cf"
      },
      "outputs": [
        {
          "name": "stdout",
          "output_type": "stream",
          "text": [
            "10/10 [==============================] - 0s 1ms/step - loss: 0.4868 - accuracy: 0.7719\n",
            "Test Loss: 0.48681750893592834\n",
            "Test Accuracy: 0.7718750238418579\n"
          ]
        }
      ],
      "source": [
        "# Evaluate the model loss and accuracy metrics using the evaluate method and the test data\n",
        "loss, accuracy = model.evaluate(X_test_scaled, y_test)\n",
        "\n",
        "# Display the model loss and accuracy results\n",
        "print(f\"Test Loss: {loss}\")\n",
        "print(f\"Test Accuracy: {accuracy}\")"
      ]
    },
    {
      "cell_type": "code",
      "execution_count": 1512,
      "metadata": {},
      "outputs": [
        {
          "name": "stdout",
          "output_type": "stream",
          "text": [
            "{'loss': [0.9976234436035156, 0.8717779517173767, 0.8699610233306885, 0.8277100920677185, 0.7757116556167603, 0.7625648379325867, 0.7058446407318115, 0.7566117644309998, 0.7312564849853516, 0.654321551322937, 0.7226284742355347, 0.6976306438446045, 0.649000883102417, 0.6744440197944641, 0.5777251124382019, 0.663304328918457, 0.6592575907707214, 0.6619823575019836, 0.6169437766075134, 0.6384286284446716, 0.6295961141586304, 0.6111099123954773, 0.5923707485198975, 0.5730104446411133, 0.5724025368690491, 0.5822680592536926, 0.5628279447555542, 0.5794097781181335, 0.5685518980026245, 0.5469379425048828, 0.5519853234291077, 0.5596633553504944, 0.5362009406089783, 0.5492533445358276, 0.5251310467720032, 0.5337270498275757, 0.5189321041107178, 0.5154584050178528, 0.5279647707939148, 0.537542462348938, 0.5014562010765076, 0.5185768604278564, 0.5064141750335693, 0.5248143076896667, 0.511624276638031, 0.5153453946113586, 0.5153427720069885, 0.49887099862098694, 0.501521110534668, 0.5220874547958374, 0.48713234066963196, 0.523250937461853, 0.5026131868362427, 0.5025787949562073, 0.5090392231941223, 0.4744325280189514, 0.5157917737960815, 0.49250733852386475, 0.5098185539245605, 0.49064546823501587, 0.46850839257240295, 0.48004278540611267, 0.4654558300971985, 0.4661378562450409, 0.4793435335159302, 0.49308452010154724, 0.46050140261650085, 0.4874069094657898, 0.46765169501304626, 0.477491557598114, 0.45477592945098877, 0.4673684537410736, 0.470611035823822, 0.48269224166870117, 0.48777318000793457, 0.47108009457588196, 0.4740869700908661, 0.47444286942481995, 0.4803875684738159, 0.4644995629787445, 0.4776926636695862, 0.47026893496513367, 0.46393343806266785, 0.48393023014068604, 0.4637550711631775, 0.48203784227371216, 0.46118906140327454, 0.4745877981185913, 0.46857553720474243, 0.4719087481498718, 0.45986300706863403], 'accuracy': [0.5870698690414429, 0.6496350169181824, 0.6663190722465515, 0.6746610999107361, 0.6840459108352661, 0.7038581967353821, 0.7111574411392212, 0.7007299065589905, 0.6903023719787598, 0.7257559895515442, 0.7069864273071289, 0.7101147174835205, 0.7163712382316589, 0.7174139618873596, 0.743482768535614, 0.694473385810852, 0.7007299065589905, 0.7111574411392212, 0.7330552935600281, 0.7278414964675903, 0.7142857313156128, 0.7299270033836365, 0.7393117547035217, 0.7309697866439819, 0.7424400448799133, 0.7320125102996826, 0.7486965656280518, 0.7424400448799133, 0.7455682754516602, 0.7320125102996826, 0.743482768535614, 0.7309697866439819, 0.7559958100318909, 0.7643378376960754, 0.7539103031158447, 0.7466110587120056, 0.7507820725440979, 0.758081316947937, 0.7507820725440979, 0.7591241002082825, 0.7507820725440979, 0.7340980172157288, 0.7851929068565369, 0.752867579460144, 0.7758081555366516, 0.7705943584442139, 0.7518247961997986, 0.7653806209564209, 0.7591241002082825, 0.7601668238639832, 0.7778936624526978, 0.738269031047821, 0.7622523307800293, 0.758081316947937, 0.7632951140403748, 0.7799791693687439, 0.7518247961997986, 0.7695516347885132, 0.7705943584442139, 0.7632951140403748, 0.7695516347885132, 0.78206467628479, 0.8050051927566528, 0.7935349345207214, 0.7622523307800293, 0.7695516347885132, 0.7914494276046753, 0.7685088515281677, 0.7737226486206055, 0.7737226486206055, 0.7758081555366516, 0.78206467628479, 0.7841501832008362, 0.7904066443443298, 0.7799791693687439, 0.7883211970329285, 0.77267986536026, 0.7862356901168823, 0.7737226486206055, 0.7831073999404907, 0.792492151260376, 0.7914494276046753, 0.7758081555366516, 0.767466127872467, 0.7810218930244446, 0.7643378376960754, 0.7799791693687439, 0.78206467628479, 0.7768508791923523, 0.7768508791923523, 0.7997914552688599], 'val_loss': [0.6408017873764038, 0.621308445930481, 0.6058117151260376, 0.6057237386703491, 0.597955584526062, 0.5922435522079468, 0.590171217918396, 0.5911728143692017, 0.5895205736160278, 0.5839636325836182, 0.5880454182624817, 0.5868861079216003, 0.5831984877586365, 0.5786138772964478, 0.5783582329750061, 0.5794328451156616, 0.5792559385299683, 0.5751006007194519, 0.5755422115325928, 0.5761302709579468, 0.5745427012443542, 0.5763179659843445, 0.5719911456108093, 0.569792628288269, 0.5667557120323181, 0.5676604509353638, 0.568006694316864, 0.5657702088356018, 0.5648288726806641, 0.5621715784072876, 0.5604641437530518, 0.5608763098716736, 0.5605598092079163, 0.5562511682510376, 0.5544114112854004, 0.554604172706604, 0.5554405450820923, 0.5535171031951904, 0.5522474050521851, 0.5501204133033752, 0.5492714643478394, 0.5460947751998901, 0.5458357930183411, 0.5476115345954895, 0.5458441972732544, 0.5434149503707886, 0.5448242425918579, 0.5420814752578735, 0.5421684384346008, 0.5403825044631958, 0.5367611646652222, 0.5352819561958313, 0.5372635722160339, 0.5370520353317261, 0.5384148955345154, 0.5373256206512451, 0.5353549122810364, 0.5340752601623535, 0.5336705446243286, 0.5333855152130127, 0.5330745577812195, 0.5331262350082397, 0.5317864418029785, 0.530517041683197, 0.5303971171379089, 0.5307700037956238, 0.5320644974708557, 0.5336705446243286, 0.5325465202331543, 0.530758261680603, 0.5294983983039856, 0.5326989889144897, 0.5344445705413818, 0.5341166257858276, 0.5348739624023438, 0.5344809293746948, 0.5327527523040771, 0.5337575674057007, 0.5341075658798218, 0.5353170037269592, 0.5338191390037537, 0.5363351106643677, 0.5356570482254028, 0.5372486710548401, 0.5374045968055725, 0.5373214483261108, 0.537209689617157, 0.5345183610916138, 0.5368772149085999, 0.538467288017273, 0.5401442646980286], 'val_accuracy': [0.737500011920929, 0.753125011920929, 0.746874988079071, 0.737500011920929, 0.7562500238418579, 0.7562500238418579, 0.762499988079071, 0.746874988079071, 0.7562500238418579, 0.746874988079071, 0.7406250238418579, 0.746874988079071, 0.737500011920929, 0.762499988079071, 0.75, 0.7406250238418579, 0.746874988079071, 0.746874988079071, 0.753125011920929, 0.753125011920929, 0.746874988079071, 0.7124999761581421, 0.71875, 0.7281249761581421, 0.7406250238418579, 0.715624988079071, 0.721875011920929, 0.7406250238418579, 0.75, 0.75, 0.7562500238418579, 0.753125011920929, 0.734375, 0.7593749761581421, 0.753125011920929, 0.753125011920929, 0.75, 0.75, 0.7562500238418579, 0.765625, 0.7562500238418579, 0.7593749761581421, 0.7593749761581421, 0.765625, 0.762499988079071, 0.753125011920929, 0.7562500238418579, 0.734375, 0.746874988079071, 0.7406250238418579, 0.7406250238418579, 0.737500011920929, 0.7281249761581421, 0.731249988079071, 0.7406250238418579, 0.7406250238418579, 0.734375, 0.734375, 0.731249988079071, 0.7281249761581421, 0.731249988079071, 0.7250000238418579, 0.7281249761581421, 0.734375, 0.731249988079071, 0.7406250238418579, 0.7406250238418579, 0.746874988079071, 0.737500011920929, 0.7250000238418579, 0.731249988079071, 0.7250000238418579, 0.7250000238418579, 0.7250000238418579, 0.7281249761581421, 0.721875011920929, 0.71875, 0.721875011920929, 0.71875, 0.71875, 0.715624988079071, 0.71875, 0.71875, 0.715624988079071, 0.71875, 0.71875, 0.721875011920929, 0.71875, 0.7250000238418579, 0.71875, 0.721875011920929]}\n"
          ]
        },
        {
          "data": {
            "text/plain": [
              "<Axes: >"
            ]
          },
          "execution_count": 1512,
          "metadata": {},
          "output_type": "execute_result"
        },
        {
          "data": {
            "image/png": "[encoded data removed]",
            "text/plain": [
              "<Figure size 640x480 with 1 Axes>"
            ]
          },
          "metadata": {},
          "output_type": "display_data"
        }
      ],
      "source": [
        "# Create a DataFrame containing training history\n",
        "history_df = pd.DataFrame(fit_model.history)\n",
        "print (fit_model.history)\n",
        "\n",
        "# Increase the index by 1 to match the number of epochs\n",
        "history_df.index += 1\n",
        "\n",
        "# Plot the loss\n",
        "history_df.plot(y=\"loss\")\n"
      ]
    },
    {
      "cell_type": "markdown",
      "metadata": {
        "id": "jpAv0rXA6q61"
      },
      "source": [
        "### Step 4: Save and export your model to a keras file, and name the file `student_loans.keras`.\n"
      ]
    },
    {
      "cell_type": "code",
      "execution_count": 1513,
      "metadata": {
        "id": "q0MetN0W6q61"
      },
      "outputs": [],
      "source": [
        "# Set the model's file path\n",
        "file_path = Path(\"student_loans.keras\")\n",
        "\n",
        "# Export your model to a keras file\n",
        "model.save(file_path)"
      ]
    },
    {
      "cell_type": "markdown",
      "metadata": {
        "id": "R1opCDdN6q61"
      },
      "source": [
        "---\n",
        "## Predict Loan Repayment Success by Using your Neural Network Model"
      ]
    },
    {
      "cell_type": "markdown",
      "metadata": {
        "id": "TfIfpeiy6q61"
      },
      "source": [
        "### Step 1: Reload your saved model."
      ]
    },
    {
      "cell_type": "code",
      "execution_count": 1514,
      "metadata": {
        "id": "OCET2mvW6q61"
      },
      "outputs": [],
      "source": [
        "# Set the model's file path\n",
        "file_path = Path(\"student_loans.keras\")\n",
        "\n",
        "# Load the model to a new object\n",
        "lr_model = load_model(file_path)"
      ]
    },
    {
      "cell_type": "markdown",
      "metadata": {
        "id": "rTPKooGw6q61"
      },
      "source": [
        "### Step 2: Make predictions on the testing data and save the predictions to a DataFrame."
      ]
    },
    {
      "cell_type": "code",
      "execution_count": 1515,
      "metadata": {
        "colab": {
          "base_uri": "https://localhost:8080/"
        },
        "id": "Vet7qjgx6q62",
        "outputId": "0925af42-7e12-4978-8396-2a2c1580e1eb"
      },
      "outputs": [
        {
          "name": "stdout",
          "output_type": "stream",
          "text": [
            "10/10 - 0s - 58ms/epoch - 6ms/step\n"
          ]
        },
        {
          "data": {
            "text/plain": [
              "array([[0.926043  ],\n",
              "       [0.10808307],\n",
              "       [0.9745733 ],\n",
              "       [0.7263677 ],\n",
              "       [0.13727178]], dtype=float32)"
            ]
          },
          "metadata": {},
          "output_type": "display_data"
        }
      ],
      "source": [
        "# Make predictions with the test data\n",
        "predictions = lr_model.predict(X_test_scaled,verbose=2)\n",
        "\n",
        "\n",
        "# Display a sample of the predictions\n",
        "display (predictions[:5])"
      ]
    },
    {
      "cell_type": "code",
      "execution_count": 1519,
      "metadata": {
        "colab": {
          "base_uri": "https://localhost:8080/",
          "height": 424
        },
        "id": "87o8exFPhjfl",
        "outputId": "da5339c5-cea7-43e4-ec22-e168ea16dfa2"
      },
      "outputs": [
        {
          "data": {
            "text/html": [
              "<div>\n",
              "<style scoped>\n",
              "    .dataframe tbody tr th:only-of-type {\n",
              "        vertical-align: middle;\n",
              "    }\n",
              "\n",
              "    .dataframe tbody tr th {\n",
              "        vertical-align: top;\n",
              "    }\n",
              "\n",
              "    .dataframe thead th {\n",
              "        text-align: right;\n",
              "    }\n",
              "</style>\n",
              "<table border=\"1\" class=\"dataframe\">\n",
              "  <thead>\n",
              "    <tr style=\"text-align: right;\">\n",
              "      <th></th>\n",
              "      <th>Predicted_Probability</th>\n",
              "      <th>Predicted_Class</th>\n",
              "    </tr>\n",
              "  </thead>\n",
              "  <tbody>\n",
              "    <tr>\n",
              "      <th>0</th>\n",
              "      <td>0.926043</td>\n",
              "      <td>1.0</td>\n",
              "    </tr>\n",
              "    <tr>\n",
              "      <th>1</th>\n",
              "      <td>0.108083</td>\n",
              "      <td>0.0</td>\n",
              "    </tr>\n",
              "    <tr>\n",
              "      <th>2</th>\n",
              "      <td>0.974573</td>\n",
              "      <td>1.0</td>\n",
              "    </tr>\n",
              "    <tr>\n",
              "      <th>3</th>\n",
              "      <td>0.726368</td>\n",
              "      <td>1.0</td>\n",
              "    </tr>\n",
              "    <tr>\n",
              "      <th>4</th>\n",
              "      <td>0.137272</td>\n",
              "      <td>0.0</td>\n",
              "    </tr>\n",
              "    <tr>\n",
              "      <th>5</th>\n",
              "      <td>0.466745</td>\n",
              "      <td>0.0</td>\n",
              "    </tr>\n",
              "    <tr>\n",
              "      <th>6</th>\n",
              "      <td>0.121588</td>\n",
              "      <td>0.0</td>\n",
              "    </tr>\n",
              "    <tr>\n",
              "      <th>7</th>\n",
              "      <td>0.331119</td>\n",
              "      <td>0.0</td>\n",
              "    </tr>\n",
              "    <tr>\n",
              "      <th>8</th>\n",
              "      <td>0.972006</td>\n",
              "      <td>1.0</td>\n",
              "    </tr>\n",
              "    <tr>\n",
              "      <th>9</th>\n",
              "      <td>0.887671</td>\n",
              "      <td>1.0</td>\n",
              "    </tr>\n",
              "    <tr>\n",
              "      <th>10</th>\n",
              "      <td>0.696064</td>\n",
              "      <td>1.0</td>\n",
              "    </tr>\n",
              "    <tr>\n",
              "      <th>11</th>\n",
              "      <td>0.760933</td>\n",
              "      <td>1.0</td>\n",
              "    </tr>\n",
              "    <tr>\n",
              "      <th>12</th>\n",
              "      <td>0.649771</td>\n",
              "      <td>1.0</td>\n",
              "    </tr>\n",
              "    <tr>\n",
              "      <th>13</th>\n",
              "      <td>0.425285</td>\n",
              "      <td>0.0</td>\n",
              "    </tr>\n",
              "    <tr>\n",
              "      <th>14</th>\n",
              "      <td>0.952700</td>\n",
              "      <td>1.0</td>\n",
              "    </tr>\n",
              "    <tr>\n",
              "      <th>15</th>\n",
              "      <td>0.638814</td>\n",
              "      <td>1.0</td>\n",
              "    </tr>\n",
              "    <tr>\n",
              "      <th>16</th>\n",
              "      <td>0.899658</td>\n",
              "      <td>1.0</td>\n",
              "    </tr>\n",
              "    <tr>\n",
              "      <th>17</th>\n",
              "      <td>0.209525</td>\n",
              "      <td>0.0</td>\n",
              "    </tr>\n",
              "    <tr>\n",
              "      <th>18</th>\n",
              "      <td>0.976825</td>\n",
              "      <td>1.0</td>\n",
              "    </tr>\n",
              "    <tr>\n",
              "      <th>19</th>\n",
              "      <td>0.316927</td>\n",
              "      <td>0.0</td>\n",
              "    </tr>\n",
              "  </tbody>\n",
              "</table>\n",
              "</div>"
            ],
            "text/plain": [
              "    Predicted_Probability  Predicted_Class\n",
              "0                0.926043              1.0\n",
              "1                0.108083              0.0\n",
              "2                0.974573              1.0\n",
              "3                0.726368              1.0\n",
              "4                0.137272              0.0\n",
              "5                0.466745              0.0\n",
              "6                0.121588              0.0\n",
              "7                0.331119              0.0\n",
              "8                0.972006              1.0\n",
              "9                0.887671              1.0\n",
              "10               0.696064              1.0\n",
              "11               0.760933              1.0\n",
              "12               0.649771              1.0\n",
              "13               0.425285              0.0\n",
              "14               0.952700              1.0\n",
              "15               0.638814              1.0\n",
              "16               0.899658              1.0\n",
              "17               0.209525              0.0\n",
              "18               0.976825              1.0\n",
              "19               0.316927              0.0"
            ]
          },
          "execution_count": 1519,
          "metadata": {},
          "output_type": "execute_result"
        }
      ],
      "source": [
        "# Save the predictions to a DataFrame and round the predictions to binary results\n",
        "predictions_df = pd.DataFrame(data=predictions, columns=['Predicted_Probability'])\n",
        "# Round predictions to binary results (0 or 1) using 0.5 as the threshold\n",
        "predictions_df['Predicted_Class'] = round(predictions_df['Predicted_Probability'])\n",
        "predictions_df.head(20)"
      ]
    },
    {
      "cell_type": "markdown",
      "metadata": {
        "id": "oxxLwycg6q62"
      },
      "source": [
        "### Step 4: Display a classification report with the y test data and predictions"
      ]
    },
    {
      "cell_type": "code",
      "execution_count": 1517,
      "metadata": {
        "colab": {
          "base_uri": "https://localhost:8080/"
        },
        "id": "UTxYZibW6q67",
        "outputId": "f341b396-9b4c-478c-dba8-f6d904ba10e3"
      },
      "outputs": [
        {
          "name": "stdout",
          "output_type": "stream",
          "text": [
            "              precision    recall  f1-score   support\n",
            "\n",
            "           0       0.78      0.75      0.76       157\n",
            "           1       0.77      0.79      0.78       163\n",
            "\n",
            "    accuracy                           0.77       320\n",
            "   macro avg       0.77      0.77      0.77       320\n",
            "weighted avg       0.77      0.77      0.77       320\n",
            "\n"
          ]
        }
      ],
      "source": [
        "# Print the classification report with the y test data and predictions\n",
        "print(classification_report(y_test, predictions_df[\"Predicted_Class\"].values))"
      ]
    },
    {
      "cell_type": "markdown",
      "metadata": {
        "id": "8Aaof1tBtcp6"
      },
      "source": [
        "---\n",
        "## Discuss creating a recommendation system for student loans"
      ]
    },
    {
      "cell_type": "markdown",
      "metadata": {
        "id": "_CC8cNpNtcp6"
      },
      "source": [
        "Briefly answer the following questions in the space provided:\n",
        "\n",
        "1. Describe the data that you would need to collect to build a recommendation system to recommend student loan options for students. Explain why this data would be relevant and appropriate.\n",
        "\n",
        "2. Based on the data you chose to use in this recommendation system, would your model be using collaborative filtering, content-based filtering, or context-based filtering? Justify why the data you selected would be suitable for your choice of filtering method.\n",
        "\n",
        "3. Describe two real-world challenges that you would take into consideration while building a recommendation system for student loans. Explain why these challenges would be of concern for a student loan recommendation system."
      ]
    },
    {
      "cell_type": "markdown",
      "metadata": {
        "id": "5KqIT8kYtcp6"
      },
      "source": [
        "\n",
        "As we had no Feature descriptions, basic assumtions have been made about the Feature meaning and the values. In the case of credit_ranking we are assuming that 1 is a loan in good standing and 0 is a loan in bad standing. Our model, based on the feature provided need to predict future loan risk so that we set an appopreate insterest rate to mate the risk based on the feature provided for past loan and the outcomes. \n",
        "\n",
        "\n",
        "**1. Describe the data that you would need to collect to build a recommendation system to recommend student loan options for students. Explain why this data would be relevant and appropriate.**\n",
        "\n",
        "Based on our model the following feature had the highes importance\n",
        "financial_aid_score: 0.1022\n",
        "total_loan_score: 0.0626\n",
        "location_para meter: 0.0469\n",
        "time_to_completion: 0.0448\n",
        "stem_degree_score: 0.0261\n",
        "study_major_code: 0.0240\n",
        "payment_history: 0.0219\n",
        "\n",
        "\n",
        "**2. Based on the data you chose to use in this recommendation system, would your model be using collaborative filtering, content-based filtering, or context-based filtering? Justify why the data you selected would be suitable for your choice of filtering method.**\n",
        "\n",
        "\n",
        "\n",
        "**3. Describe two real-world challenges that you would take into consideration while building a recommendation system for student loans. Explain why these challenges would be of concern for a student loan recommendation system.**\n",
        "\n"
      ]
    },
    {
      "cell_type": "code",
      "execution_count": 1518,
      "metadata": {},
      "outputs": [
        {
          "name": "stdout",
          "output_type": "stream",
          "text": [
            "30/30 [==============================] - 0s 1ms/step - loss: 0.4263 - accuracy: 0.8050\n",
            "financial_aid_score: 0.0970\n",
            "total_loan_score: 0.0678\n",
            "time_to_completion: 0.0261\n",
            "study_major_code: 0.0219\n",
            "location_parameter: 0.0209\n",
            "payment_history: 0.0198\n",
            "finance_workshop_score: 0.0136\n",
            "alumni_success: 0.0104\n",
            "stem_degree_score: 0.0052\n",
            "cohort_ranking: 0.0052\n",
            "gpa_ranking: 0.0021\n"
          ]
        }
      ],
      "source": [
        "original_accuracy = lr_model.evaluate(X_train_scaled, y_train)[1]\n",
        "importances = []\n",
        "feature_names = X_train.columns.tolist()\n",
        "\n",
        "for i in range(X_train_scaled.shape[1]):\n",
        "    # Shuffling one column at a time\n",
        "    X_shuffled = X_train_scaled.copy()\n",
        "    X_shuffled[:, i] = shuffle(X_shuffled[:, i])\n",
        "    \n",
        "    # Recalculate the accuracy after permutation\n",
        "    shuffled_accuracy = model.evaluate(X_shuffled, y_train, verbose=0)[1]\n",
        "    importances.append(original_accuracy - shuffled_accuracy)\n",
        "\n",
        "# Display the importance of each feature\n",
        "feature_importance = dict(zip(feature_names, importances))\n",
        "\n",
        "# Sorting the feature_importance dictionary by importance values in descending order\n",
        "sorted_feature_importance = sorted(feature_importance.items(), key=lambda item: item[1], reverse=True)\n",
        "\n",
        "# Neatly printing each feature with its importance\n",
        "for feature, importance in sorted_feature_importance:\n",
        "    print(f\"{feature}: {importance:.4f}\")"
      ]
    }
  ],
  "metadata": {
    "colab": {
      "provenance": []
    },
    "kernelspec": {
      "display_name": "Python 3 (ipykernel)",
      "language": "python",
      "name": "python3"
    },
    "language_info": {
      "codemirror_mode": {
        "name": "ipython",
        "version": 3
      },
      "file_extension": ".py",
      "mimetype": "text/x-python",
      "name": "python",
      "nbconvert_exporter": "python",
      "pygments_lexer": "ipython3",
      "version": "3.10.13"
    }
  },
  "nbformat": 4,
  "nbformat_minor": 0
}
