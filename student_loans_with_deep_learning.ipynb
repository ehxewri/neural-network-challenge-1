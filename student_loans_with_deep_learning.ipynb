{
  "cells": [
    {
      "cell_type": "markdown",
      "metadata": {
        "id": "T7ZNhGcW6q6r"
      },
      "source": [
        "# Student Loan Risk with Deep Learning"
      ]
    },
    {
      "cell_type": "code",
      "execution_count": 1,
      "metadata": {
        "id": "0otrXpJc6q6u"
      },
      "outputs": [],
      "source": [
        "# Imports\n",
        "import pandas as pd\n",
        "import tensorflow as tf\n",
        "from tensorflow.keras.layers import Dense, Dropout, BatchNormalization\n",
        "from tensorflow.keras.models import Sequential\n",
        "from tensorflow.keras.models import load_model\n",
        "from tensorflow.keras.callbacks import EarlyStopping\n",
        "from tensorflow.keras.optimizers import Adam, Adamax, Nadam\n",
        "\n",
        "from sklearn.model_selection import train_test_split\n",
        "from sklearn.preprocessing import StandardScaler,MinMaxScaler\n",
        "from sklearn.metrics import classification_report\n",
        "from sklearn.utils.class_weight import compute_class_weight\n",
        "from imblearn.over_sampling import SMOTE\n",
        "\n",
        "from pathlib import Path\n",
        "\n",
        "import numpy as np\n",
        "from sklearn.utils import shuffle\n",
        "from sklearn.metrics import accuracy_score\n",
        "import seaborn as sns\n",
        "import matplotlib.pyplot as plt\n",
        "from statsmodels.stats.outliers_influence import variance_inflation_factor\n"
      ]
    },
    {
      "cell_type": "markdown",
      "metadata": {
        "id": "OpV4Y-3Z6q6w"
      },
      "source": [
        "---\n",
        "\n",
        "## Part 1: Prepare the data to be used on a neural network model"
      ]
    },
    {
      "cell_type": "markdown",
      "metadata": {
        "id": "TUuSzp2l6q6w"
      },
      "source": [
        "### Step 1: Read the `student-loans.csv` file into a Pandas DataFrame. Review the DataFrame, looking for columns that could eventually define your features and target variables.   "
      ]
    },
    {
      "cell_type": "code",
      "execution_count": 2,
      "metadata": {
        "colab": {
          "base_uri": "https://localhost:8080/",
          "height": 226
        },
        "id": "G65km1KD6q6x",
        "outputId": "93d12d8d-c415-4017-8452-5b4966e4dde5"
      },
      "outputs": [
        {
          "data": {
            "text/html": [
              "<div>\n",
              "<style scoped>\n",
              "    .dataframe tbody tr th:only-of-type {\n",
              "        vertical-align: middle;\n",
              "    }\n",
              "\n",
              "    .dataframe tbody tr th {\n",
              "        vertical-align: top;\n",
              "    }\n",
              "\n",
              "    .dataframe thead th {\n",
              "        text-align: right;\n",
              "    }\n",
              "</style>\n",
              "<table border=\"1\" class=\"dataframe\">\n",
              "  <thead>\n",
              "    <tr style=\"text-align: right;\">\n",
              "      <th></th>\n",
              "      <th>payment_history</th>\n",
              "      <th>location_parameter</th>\n",
              "      <th>stem_degree_score</th>\n",
              "      <th>gpa_ranking</th>\n",
              "      <th>alumni_success</th>\n",
              "      <th>study_major_code</th>\n",
              "      <th>time_to_completion</th>\n",
              "      <th>finance_workshop_score</th>\n",
              "      <th>cohort_ranking</th>\n",
              "      <th>total_loan_score</th>\n",
              "      <th>financial_aid_score</th>\n",
              "      <th>credit_ranking</th>\n",
              "    </tr>\n",
              "  </thead>\n",
              "  <tbody>\n",
              "    <tr>\n",
              "      <th>0</th>\n",
              "      <td>7.4</td>\n",
              "      <td>0.70</td>\n",
              "      <td>0.00</td>\n",
              "      <td>1.9</td>\n",
              "      <td>0.076</td>\n",
              "      <td>11.0</td>\n",
              "      <td>34.0</td>\n",
              "      <td>0.9978</td>\n",
              "      <td>3.51</td>\n",
              "      <td>0.56</td>\n",
              "      <td>9.4</td>\n",
              "      <td>0</td>\n",
              "    </tr>\n",
              "    <tr>\n",
              "      <th>1</th>\n",
              "      <td>7.8</td>\n",
              "      <td>0.88</td>\n",
              "      <td>0.00</td>\n",
              "      <td>2.6</td>\n",
              "      <td>0.098</td>\n",
              "      <td>25.0</td>\n",
              "      <td>67.0</td>\n",
              "      <td>0.9968</td>\n",
              "      <td>3.20</td>\n",
              "      <td>0.68</td>\n",
              "      <td>9.8</td>\n",
              "      <td>0</td>\n",
              "    </tr>\n",
              "    <tr>\n",
              "      <th>2</th>\n",
              "      <td>7.8</td>\n",
              "      <td>0.76</td>\n",
              "      <td>0.04</td>\n",
              "      <td>2.3</td>\n",
              "      <td>0.092</td>\n",
              "      <td>15.0</td>\n",
              "      <td>54.0</td>\n",
              "      <td>0.9970</td>\n",
              "      <td>3.26</td>\n",
              "      <td>0.65</td>\n",
              "      <td>9.8</td>\n",
              "      <td>0</td>\n",
              "    </tr>\n",
              "    <tr>\n",
              "      <th>3</th>\n",
              "      <td>11.2</td>\n",
              "      <td>0.28</td>\n",
              "      <td>0.56</td>\n",
              "      <td>1.9</td>\n",
              "      <td>0.075</td>\n",
              "      <td>17.0</td>\n",
              "      <td>60.0</td>\n",
              "      <td>0.9980</td>\n",
              "      <td>3.16</td>\n",
              "      <td>0.58</td>\n",
              "      <td>9.8</td>\n",
              "      <td>1</td>\n",
              "    </tr>\n",
              "    <tr>\n",
              "      <th>4</th>\n",
              "      <td>7.4</td>\n",
              "      <td>0.70</td>\n",
              "      <td>0.00</td>\n",
              "      <td>1.9</td>\n",
              "      <td>0.076</td>\n",
              "      <td>11.0</td>\n",
              "      <td>34.0</td>\n",
              "      <td>0.9978</td>\n",
              "      <td>3.51</td>\n",
              "      <td>0.56</td>\n",
              "      <td>9.4</td>\n",
              "      <td>0</td>\n",
              "    </tr>\n",
              "  </tbody>\n",
              "</table>\n",
              "</div>"
            ],
            "text/plain": [
              "   payment_history  location_parameter  stem_degree_score  gpa_ranking  \\\n",
              "0              7.4                0.70               0.00          1.9   \n",
              "1              7.8                0.88               0.00          2.6   \n",
              "2              7.8                0.76               0.04          2.3   \n",
              "3             11.2                0.28               0.56          1.9   \n",
              "4              7.4                0.70               0.00          1.9   \n",
              "\n",
              "   alumni_success  study_major_code  time_to_completion  \\\n",
              "0           0.076              11.0                34.0   \n",
              "1           0.098              25.0                67.0   \n",
              "2           0.092              15.0                54.0   \n",
              "3           0.075              17.0                60.0   \n",
              "4           0.076              11.0                34.0   \n",
              "\n",
              "   finance_workshop_score  cohort_ranking  total_loan_score  \\\n",
              "0                  0.9978            3.51              0.56   \n",
              "1                  0.9968            3.20              0.68   \n",
              "2                  0.9970            3.26              0.65   \n",
              "3                  0.9980            3.16              0.58   \n",
              "4                  0.9978            3.51              0.56   \n",
              "\n",
              "   financial_aid_score  credit_ranking  \n",
              "0                  9.4               0  \n",
              "1                  9.8               0  \n",
              "2                  9.8               0  \n",
              "3                  9.8               1  \n",
              "4                  9.4               0  "
            ]
          },
          "metadata": {},
          "output_type": "display_data"
        },
        {
          "data": {
            "text/plain": [
              "(1599, 12)"
            ]
          },
          "metadata": {},
          "output_type": "display_data"
        }
      ],
      "source": [
        "# Read the csv into a Pandas DataFrame\n",
        "file_path = \"https://static.bc-edx.com/ai/ail-v-1-0/m18/lms/datasets/student-loans.csv\"\n",
        "loans_df = pd.read_csv(file_path)\n",
        "\n",
        "# Review the DataFrame\n",
        "display (loans_df.head())\n",
        "display (loans_df.shape)"
      ]
    },
    {
      "cell_type": "code",
      "execution_count": 3,
      "metadata": {
        "colab": {
          "base_uri": "https://localhost:8080/"
        },
        "id": "K8ZYB8wx6q6x",
        "outputId": "b509fc34-4488-406e-e451-2069fec37371"
      },
      "outputs": [
        {
          "data": {
            "text/plain": [
              "payment_history           float64\n",
              "location_parameter        float64\n",
              "stem_degree_score         float64\n",
              "gpa_ranking               float64\n",
              "alumni_success            float64\n",
              "study_major_code          float64\n",
              "time_to_completion        float64\n",
              "finance_workshop_score    float64\n",
              "cohort_ranking            float64\n",
              "total_loan_score          float64\n",
              "financial_aid_score       float64\n",
              "credit_ranking              int64\n",
              "dtype: object"
            ]
          },
          "execution_count": 3,
          "metadata": {},
          "output_type": "execute_result"
        }
      ],
      "source": [
        "# Review the data types associated with the columns\n",
        "loans_df.dtypes"
      ]
    },
    {
      "cell_type": "code",
      "execution_count": 4,
      "metadata": {
        "colab": {
          "base_uri": "https://localhost:8080/"
        },
        "id": "9P8aX-dW75JO",
        "outputId": "63251fa8-5ac1-4112-c2f7-bc5d97ea8491"
      },
      "outputs": [
        {
          "data": {
            "text/plain": [
              "credit_ranking\n",
              "1    855\n",
              "0    744\n",
              "Name: count, dtype: int64"
            ]
          },
          "metadata": {},
          "output_type": "display_data"
        },
        {
          "data": {
            "text/plain": [
              "array([0, 1], dtype=int64)"
            ]
          },
          "metadata": {},
          "output_type": "display_data"
        }
      ],
      "source": [
        "# Check the credit_ranking value counts\n",
        "display (loans_df[\"credit_ranking\"].value_counts())\n",
        "# another way of looking at the feature. not prefered as this does not show the count per class\n",
        "display (loans_df['credit_ranking'].unique())"
      ]
    },
    {
      "cell_type": "markdown",
      "metadata": {
        "id": "R6vbZeDH6q6y"
      },
      "source": [
        "### Step 2: Using the preprocessed data, create the features (`X`) and target (`y`) datasets. The target dataset should be defined by the preprocessed DataFrame column “credit_ranking”. The remaining columns should define the features dataset."
      ]
    },
    {
      "cell_type": "code",
      "execution_count": 5,
      "metadata": {
        "colab": {
          "base_uri": "https://localhost:8080/"
        },
        "id": "Q5eVAP5M6q6y",
        "outputId": "89728bbf-6930-4573-a126-9f1b66ed8859"
      },
      "outputs": [
        {
          "data": {
            "text/plain": [
              "array([0, 0, 0, 1, 0], dtype=int64)"
            ]
          },
          "execution_count": 5,
          "metadata": {},
          "output_type": "execute_result"
        }
      ],
      "source": [
        "# Define the target set y using the credit_ranking column\n",
        "\n",
        "y = loans_df['credit_ranking']\n",
        "# Display a sample of y\n",
        "\n",
        "np.array(y)[:5]"
      ]
    },
    {
      "cell_type": "code",
      "execution_count": 6,
      "metadata": {
        "colab": {
          "base_uri": "https://localhost:8080/",
          "height": 226
        },
        "id": "IIkrD2Sn6q6z",
        "outputId": "ce07c4a3-fb81-4657-d11e-ec85ae8554c9"
      },
      "outputs": [
        {
          "data": {
            "text/html": [
              "<div>\n",
              "<style scoped>\n",
              "    .dataframe tbody tr th:only-of-type {\n",
              "        vertical-align: middle;\n",
              "    }\n",
              "\n",
              "    .dataframe tbody tr th {\n",
              "        vertical-align: top;\n",
              "    }\n",
              "\n",
              "    .dataframe thead th {\n",
              "        text-align: right;\n",
              "    }\n",
              "</style>\n",
              "<table border=\"1\" class=\"dataframe\">\n",
              "  <thead>\n",
              "    <tr style=\"text-align: right;\">\n",
              "      <th></th>\n",
              "      <th>payment_history</th>\n",
              "      <th>location_parameter</th>\n",
              "      <th>stem_degree_score</th>\n",
              "      <th>gpa_ranking</th>\n",
              "      <th>alumni_success</th>\n",
              "      <th>study_major_code</th>\n",
              "      <th>time_to_completion</th>\n",
              "      <th>finance_workshop_score</th>\n",
              "      <th>cohort_ranking</th>\n",
              "      <th>total_loan_score</th>\n",
              "      <th>financial_aid_score</th>\n",
              "    </tr>\n",
              "  </thead>\n",
              "  <tbody>\n",
              "    <tr>\n",
              "      <th>0</th>\n",
              "      <td>7.4</td>\n",
              "      <td>0.70</td>\n",
              "      <td>0.00</td>\n",
              "      <td>1.9</td>\n",
              "      <td>0.076</td>\n",
              "      <td>11.0</td>\n",
              "      <td>34.0</td>\n",
              "      <td>0.9978</td>\n",
              "      <td>3.51</td>\n",
              "      <td>0.56</td>\n",
              "      <td>9.4</td>\n",
              "    </tr>\n",
              "    <tr>\n",
              "      <th>1</th>\n",
              "      <td>7.8</td>\n",
              "      <td>0.88</td>\n",
              "      <td>0.00</td>\n",
              "      <td>2.6</td>\n",
              "      <td>0.098</td>\n",
              "      <td>25.0</td>\n",
              "      <td>67.0</td>\n",
              "      <td>0.9968</td>\n",
              "      <td>3.20</td>\n",
              "      <td>0.68</td>\n",
              "      <td>9.8</td>\n",
              "    </tr>\n",
              "    <tr>\n",
              "      <th>2</th>\n",
              "      <td>7.8</td>\n",
              "      <td>0.76</td>\n",
              "      <td>0.04</td>\n",
              "      <td>2.3</td>\n",
              "      <td>0.092</td>\n",
              "      <td>15.0</td>\n",
              "      <td>54.0</td>\n",
              "      <td>0.9970</td>\n",
              "      <td>3.26</td>\n",
              "      <td>0.65</td>\n",
              "      <td>9.8</td>\n",
              "    </tr>\n",
              "    <tr>\n",
              "      <th>3</th>\n",
              "      <td>11.2</td>\n",
              "      <td>0.28</td>\n",
              "      <td>0.56</td>\n",
              "      <td>1.9</td>\n",
              "      <td>0.075</td>\n",
              "      <td>17.0</td>\n",
              "      <td>60.0</td>\n",
              "      <td>0.9980</td>\n",
              "      <td>3.16</td>\n",
              "      <td>0.58</td>\n",
              "      <td>9.8</td>\n",
              "    </tr>\n",
              "    <tr>\n",
              "      <th>4</th>\n",
              "      <td>7.4</td>\n",
              "      <td>0.70</td>\n",
              "      <td>0.00</td>\n",
              "      <td>1.9</td>\n",
              "      <td>0.076</td>\n",
              "      <td>11.0</td>\n",
              "      <td>34.0</td>\n",
              "      <td>0.9978</td>\n",
              "      <td>3.51</td>\n",
              "      <td>0.56</td>\n",
              "      <td>9.4</td>\n",
              "    </tr>\n",
              "  </tbody>\n",
              "</table>\n",
              "</div>"
            ],
            "text/plain": [
              "   payment_history  location_parameter  stem_degree_score  gpa_ranking  \\\n",
              "0              7.4                0.70               0.00          1.9   \n",
              "1              7.8                0.88               0.00          2.6   \n",
              "2              7.8                0.76               0.04          2.3   \n",
              "3             11.2                0.28               0.56          1.9   \n",
              "4              7.4                0.70               0.00          1.9   \n",
              "\n",
              "   alumni_success  study_major_code  time_to_completion  \\\n",
              "0           0.076              11.0                34.0   \n",
              "1           0.098              25.0                67.0   \n",
              "2           0.092              15.0                54.0   \n",
              "3           0.075              17.0                60.0   \n",
              "4           0.076              11.0                34.0   \n",
              "\n",
              "   finance_workshop_score  cohort_ranking  total_loan_score  \\\n",
              "0                  0.9978            3.51              0.56   \n",
              "1                  0.9968            3.20              0.68   \n",
              "2                  0.9970            3.26              0.65   \n",
              "3                  0.9980            3.16              0.58   \n",
              "4                  0.9978            3.51              0.56   \n",
              "\n",
              "   financial_aid_score  \n",
              "0                  9.4  \n",
              "1                  9.8  \n",
              "2                  9.8  \n",
              "3                  9.8  \n",
              "4                  9.4  "
            ]
          },
          "metadata": {},
          "output_type": "display_data"
        }
      ],
      "source": [
        "# Define features set X by selecting all columns but credit_ranking\n",
        "X=loans_df.drop(columns=['credit_ranking'])\n",
        "\n",
        "# Review the features DataFrame\n",
        "display (X.head())\n"
      ]
    },
    {
      "cell_type": "code",
      "execution_count": null,
      "metadata": {},
      "outputs": [],
      "source": []
    },
    {
      "cell_type": "markdown",
      "metadata": {
        "id": "QmM9c-tj6q6z"
      },
      "source": [
        "### Step 3: Split the features and target sets into training and testing datasets.\n"
      ]
    },
    {
      "cell_type": "code",
      "execution_count": 7,
      "metadata": {},
      "outputs": [
        {
          "name": "stdout",
          "output_type": "stream",
          "text": [
            "                   feature          VIF\n",
            "7   finance_workshop_score  1479.287209\n",
            "8           cohort_ranking  1070.967685\n",
            "10     financial_aid_score   124.394866\n",
            "0          payment_history    74.452265\n",
            "9         total_loan_score    21.590621\n",
            "1       location_parameter    17.060026\n",
            "2        stem_degree_score     9.183495\n",
            "4           alumni_success     6.554877\n",
            "6       time_to_completion     6.519699\n",
            "5         study_major_code     6.442682\n",
            "3              gpa_ranking     4.662992\n"
          ]
        }
      ],
      "source": [
        "# Calculating VIF for each feature\n",
        "vif = pd.DataFrame()\n",
        "vif[\"feature\"] = X.columns\n",
        "vif[\"VIF\"] = [variance_inflation_factor(X.values, i) for i in range(X.shape[1])]\n",
        "\n",
        "# Displaying VIF scores\n",
        "sorted_vif =  vif.sort_values(by='VIF', ascending=False)\n",
        "print(sorted_vif)"
      ]
    },
    {
      "cell_type": "code",
      "execution_count": 8,
      "metadata": {},
      "outputs": [],
      "source": [
        "# trying different feature sets to improve loss and accuracy\n",
        "# drop_columns = ['finance_workshop_score','cohort_ranking','financial_aid_score','payment_history','total_loan_score','location_parameter']\n",
        "drop_columns = ['gpa_ranking','alumni_success','finance_workshop_score','cohort_ranking']\n",
        "# X = X.drop(columns=drop_columns)"
      ]
    },
    {
      "cell_type": "code",
      "execution_count": 9,
      "metadata": {},
      "outputs": [
        {
          "name": "stdout",
          "output_type": "stream",
          "text": [
            "                   feature          VIF\n",
            "7   finance_workshop_score  1479.287209\n",
            "8           cohort_ranking  1070.967685\n",
            "10     financial_aid_score   124.394866\n",
            "0          payment_history    74.452265\n",
            "9         total_loan_score    21.590621\n",
            "1       location_parameter    17.060026\n",
            "2        stem_degree_score     9.183495\n",
            "4           alumni_success     6.554877\n",
            "6       time_to_completion     6.519699\n",
            "5         study_major_code     6.442682\n",
            "3              gpa_ranking     4.662992\n"
          ]
        }
      ],
      "source": [
        "# Calculating VIF for each feature\n",
        "vif = pd.DataFrame()\n",
        "vif[\"feature\"] = X.columns\n",
        "vif[\"VIF\"] = [variance_inflation_factor(X.values, i) for i in range(X.shape[1])]\n",
        "\n",
        "# Displaying VIF scores\n",
        "sorted_vif = vif.sort_values(by='VIF', ascending=False)\n",
        "print(sorted_vif)"
      ]
    },
    {
      "cell_type": "markdown",
      "metadata": {
        "id": "OD7xwU_96q6z"
      },
      "source": [
        "# Split the preprocessed data into a training and testing dataset\n",
        "# Assign the function a random_state equal to 1\n",
        "X_train,X_test,y_train,y_test = train_test_split(X,y,test_size=.2,random_state=1)"
      ]
    },
    {
      "cell_type": "code",
      "execution_count": 10,
      "metadata": {},
      "outputs": [],
      "source": [
        "# Assume X and y are your features and labels respectively\n",
        "X_train, X_temp, y_train, y_temp = train_test_split(X, y, test_size=0.40, random_state=1)  # Split into training and temp (validation + test)\n",
        "X_val, X_test, y_val, y_test = train_test_split(X_temp, y_temp, test_size=0.50, random_state=1)  # Split the temp into validation and test\n"
      ]
    },
    {
      "cell_type": "code",
      "execution_count": 11,
      "metadata": {},
      "outputs": [
        {
          "data": {
            "image/png": "[encoded data removed]",
            "text/plain": [
              "<Figure size 1000x800 with 2 Axes>"
            ]
          },
          "metadata": {},
          "output_type": "display_data"
        }
      ],
      "source": [
        "# Check for high corrilation\n",
        "correlation_matrix = X_train.corr()\n",
        "\n",
        "# Plotting the correlation matrix\n",
        "plt.figure(figsize=(10, 8))\n",
        "sns.heatmap(correlation_matrix, annot=True, fmt=\".2f\", cmap='coolwarm')\n",
        "plt.title('Feature Correlation Matrix')\n",
        "plt.show()"
      ]
    },
    {
      "cell_type": "markdown",
      "metadata": {
        "id": "G9i6DHY06q6z"
      },
      "source": [
        "### Step 4: Use scikit-learn's `StandardScaler` to scale the features data."
      ]
    },
    {
      "cell_type": "code",
      "execution_count": 12,
      "metadata": {
        "id": "BzD3z20m6q6z"
      },
      "outputs": [],
      "source": [
        "# Step 1: Create a StandardScaler instance\n",
        "scaler = StandardScaler()\n",
        "\n",
        "# Step 2: Fit the scaler to the features training dataset\n",
        "scaler.fit(X_train)\n",
        "\n",
        "# Step 3: Transform the features training dataset\n",
        "X_train_scaled = scaler.transform(X_train)\n",
        "\n",
        "# Step 4: Transform the features testing dataset\n",
        "X_test_scaled = scaler.transform(X_test)\n",
        "\n",
        "# Step 4: Transform the features testing dataset\n",
        "X_val_scaled = scaler.transform(X_val)\n",
        "\n",
        "\n",
        "# Optional: Display the first few entries of the scaled features to verify the scaling\n",
        "# print(\"Scaled X_train sample:\\n\", X_train_scaled[:5])\n",
        "# print(\"Scaled X_test sample:\\n\", X_test_scaled[:5])"
      ]
    },
    {
      "cell_type": "markdown",
      "metadata": {
        "id": "CZzVDjba6q6z"
      },
      "source": [
        "---\n",
        "\n",
        "## Part 2 Compile and Evaluate a Model Using a Neural Network"
      ]
    },
    {
      "cell_type": "markdown",
      "metadata": {
        "id": "m-pSux4Q6q60"
      },
      "source": [
        "### Step 1: Create a deep neural network by assigning the number of input features, the number of layers, and the number of neurons on each layer using Tensorflow’s Keras.\n",
        "\n",
        "> **Hint** You can start with a two-layer deep neural network model that uses the `relu` activation function for both layers.\n"
      ]
    },
    {
      "cell_type": "code",
      "execution_count": 13,
      "metadata": {
        "colab": {
          "base_uri": "https://localhost:8080/"
        },
        "id": "t5C94FCd6q60",
        "outputId": "cbf05783-2f56-4745-cd33-649a6152e510"
      },
      "outputs": [
        {
          "data": {
            "text/plain": [
              "'Number of input features:'"
            ]
          },
          "metadata": {},
          "output_type": "display_data"
        },
        {
          "data": {
            "text/plain": [
              "11"
            ]
          },
          "metadata": {},
          "output_type": "display_data"
        }
      ],
      "source": [
        "# Define the the number of inputs (features) to the model\n",
        "input_nodes  = X_train_scaled.shape[1]\n",
        "# or \n",
        "# input_nodes = len(X.columns)\n",
        "\n",
        "# Review the number of features\n",
        "display (\"Number of input features:\", input_nodes )"
      ]
    },
    {
      "cell_type": "markdown",
      "metadata": {},
      "source": [
        "# Neural Network Configuration Guide\n",
        "\n",
        "## 1. Define the Number of Hidden Nodes for the First Hidden Layer\n",
        "For the first hidden layer, a common approach is to start with a number of nodes that is somewhere between the number of input features and the number of output neurons. A typical strategy might be to use a number of nodes that is the mean or the geometric mean of these two numbers, adjusted based on the complexity of the problem or empirical testing.\n",
        "\n",
        "## 2. Define the Number of Hidden Nodes for the Second Hidden Layer\n",
        "For the second hidden layer, you might choose to reduce the number of nodes compared to the first hidden layer. This is often done to gradually reduce the dimensionality and to aggregate the features extracted by the first layer. A typical rule might be to halve the number of nodes in each subsequent layer, although the specific number should be tuned based on model performance and overfitting concerns.\n",
        "\n",
        "## 3. Define the Number of Neurons in the Output Layer\n",
        "The number of neurons in the output layer depends on the type of problem:\n",
        "\n",
        "- **Binary Classification**: Use 1 neuron with a sigmoid activation function.\n",
        "- **Multiclass Classification**: Use as many neurons as there are classes, with a softmax activation function.\n",
        "- **Regression**: Typically use 1 neuron for a single output; for multiple outputs, use as many neurons as there are outputs.\n"
      ]
    },
    {
      "cell_type": "code",
      "execution_count": 14,
      "metadata": {
        "id": "c_KXDLkF6q60"
      },
      "outputs": [
        {
          "data": {
            "text/plain": [
              "'Number of hidden nodes for the first hidden layer  : 550'"
            ]
          },
          "metadata": {},
          "output_type": "display_data"
        },
        {
          "data": {
            "text/plain": [
              "'Number of hidden nodes for the second hidden layer : 275'"
            ]
          },
          "metadata": {},
          "output_type": "display_data"
        },
        {
          "data": {
            "text/plain": [
              "'Number of hidden nodes for the third hidden layer  : 137'"
            ]
          },
          "metadata": {},
          "output_type": "display_data"
        },
        {
          "data": {
            "text/plain": [
              "'Number of neurons in the output layer              : 1'"
            ]
          },
          "metadata": {},
          "output_type": "display_data"
        }
      ],
      "source": [
        "# Define the number of hidden nodes for the first hidden layer\n",
        "num_nodes_first_hidden_layer = ((input_nodes * 50)  )  # Example calculation\n",
        "\n",
        "# Define the number of hidden nodes for the second hidden layer\n",
        "num_nodes_second_hidden_layer = num_nodes_first_hidden_layer // 2\n",
        "\n",
        "# Define the number of hidden nodes for the second hidden layer\n",
        "num_nodes_third_hidden_layer = num_nodes_second_hidden_layer // 2\n",
        "# Define the number of neurons in the output layer\n",
        "# For binary classification\n",
        "num_output_neurons = 1  # Using sigmoid activation\n",
        "\n",
        "# For multiclass classification (e.g., 3 classes)\n",
        "# num_output_neurons = 3  # Using softmax activation\n",
        "\n",
        "# For regression\n",
        "# num_output_neurons = 1  # Typically with no activation (or linear activation)\n",
        "\n",
        "\n",
        "display (f'Number of hidden nodes for the first hidden layer  : {num_nodes_first_hidden_layer}')\n",
        "display (f'Number of hidden nodes for the second hidden layer : {num_nodes_second_hidden_layer}')\n",
        "display (f'Number of hidden nodes for the third hidden layer  : {num_nodes_third_hidden_layer}')\n",
        "display (f'Number of neurons in the output layer              : {num_output_neurons}')\n"
      ]
    },
    {
      "cell_type": "markdown",
      "metadata": {
        "id": "63UdFncw6q60"
      },
      "source": [
        "# Create the Sequential model instance\n",
        "model = Sequential()\n",
        "\n",
        "# Add the first hidden layer\n",
        "model.add(Dense(units=num_nodes_first_hidden_layer, activation='relu', input_dim=input_nodes))\n",
        "\n",
        "# Add the second hidden layer\n",
        "model.add(Dense(units=num_nodes_second_hidden_layer, activation='relu'))\n",
        "\n",
        "# Add the output layer to the model specifying the number of output neurons and activation function\n",
        "model.add(Dense(num_output_neurons, activation='sigmoid'))"
      ]
    },
    {
      "cell_type": "code",
      "execution_count": 15,
      "metadata": {},
      "outputs": [],
      "source": [
        "# Create the Sequential model instance\n",
        "model = Sequential(name='Student_Loan_Model')\n",
        "\n",
        "# Add the first hidden layer with input dimension specified\n",
        "model.add(Dense(units=num_nodes_first_hidden_layer, activation='relu', input_dim=input_nodes, name='First_Hidden_Layer'))\n",
        "model.add(BatchNormalization(name='BatchNorm_Layer_1'))  # Normalize the activations from the first hidden layer\n",
        "model.add(Dropout(0.7, name='Dropout_Layer_1'))  # Dropout for regularization to prevent overfitting\n",
        "\n",
        "# Add the second hidden layer\n",
        "model.add(Dense(units=num_nodes_second_hidden_layer, activation='relu', name='Second_Hidden_Layer'))\n",
        "model.add(BatchNormalization(name='BatchNorm_Layer_2'))  # Normalize the activations from the second hidden layer\n",
        "model.add(Dropout(0.7, name='Dropout_Layer_2'))  # Additional dropout layer for regularization\n",
        "\n",
        "# Add the output layer\n",
        "# If this is a binary classification problem, use 'sigmoid'. If it's regression, no activation or 'linear' can be used.\n",
        "model.add(Dense(num_output_neurons, activation='sigmoid', name='Output_Layer'))  # Use 'linear' if it's a regression task\n"
      ]
    },
    {
      "cell_type": "code",
      "execution_count": 16,
      "metadata": {
        "colab": {
          "base_uri": "https://localhost:8080/"
        },
        "id": "-Beoh4f_6q61",
        "outputId": "2e50f810-086b-4d89-bf7d-98afbe0d649d"
      },
      "outputs": [
        {
          "name": "stdout",
          "output_type": "stream",
          "text": [
            "Model: \"Student_Loan_Model\"\n",
            "_________________________________________________________________\n",
            " Layer (type)                Output Shape              Param #   \n",
            "=================================================================\n",
            " First_Hidden_Layer (Dense)  (None, 550)               6600      \n",
            "                                                                 \n",
            " BatchNorm_Layer_1 (BatchNor  (None, 550)              2200      \n",
            " malization)                                                     \n",
            "                                                                 \n",
            " Dropout_Layer_1 (Dropout)   (None, 550)               0         \n",
            "                                                                 \n",
            " Second_Hidden_Layer (Dense)  (None, 275)              151525    \n",
            "                                                                 \n",
            " BatchNorm_Layer_2 (BatchNor  (None, 275)              1100      \n",
            " malization)                                                     \n",
            "                                                                 \n",
            " Dropout_Layer_2 (Dropout)   (None, 275)               0         \n",
            "                                                                 \n",
            " Output_Layer (Dense)        (None, 1)                 276       \n",
            "                                                                 \n",
            "=================================================================\n",
            "Total params: 161,701\n",
            "Trainable params: 160,051\n",
            "Non-trainable params: 1,650\n",
            "_________________________________________________________________\n"
          ]
        },
        {
          "data": {
            "text/plain": [
              "None"
            ]
          },
          "metadata": {},
          "output_type": "display_data"
        }
      ],
      "source": [
        "# Display the Sequential model summary\n",
        "display (model.summary())"
      ]
    },
    {
      "cell_type": "markdown",
      "metadata": {
        "id": "nRqWGIRo6q61"
      },
      "source": [
        "### Step 2: Compile and fit the model using the `binary_crossentropy` loss function, the `adam` optimizer, and the `accuracy` evaluation metric.\n"
      ]
    },
    {
      "cell_type": "code",
      "execution_count": 17,
      "metadata": {},
      "outputs": [],
      "source": [
        "class_weights = compute_class_weight('balanced', classes=np.unique(y_train), y=y_train)\n",
        "class_weight_dict = dict(enumerate(class_weights))"
      ]
    },
    {
      "cell_type": "code",
      "execution_count": 18,
      "metadata": {
        "id": "E-hZaeSn6q61"
      },
      "outputs": [],
      "source": [
        "# Compile the Sequential model\n",
        "model.compile(optimizer=Nadam(),\n",
        "              loss='binary_crossentropy',\n",
        "              metrics=['accuracy'])"
      ]
    },
    {
      "cell_type": "code",
      "execution_count": 19,
      "metadata": {},
      "outputs": [],
      "source": [
        "# Early stopping callback\n",
        "early_stopping = EarlyStopping(monitor='val_loss', patience=20, restore_best_weights=True)\n"
      ]
    },
    {
      "cell_type": "code",
      "execution_count": 20,
      "metadata": {
        "colab": {
          "base_uri": "https://localhost:8080/"
        },
        "id": "x25e8Idc6q61",
        "outputId": "e95946ba-23da-47a3-a1c1-5e9a2a484a47"
      },
      "outputs": [
        {
          "name": "stdout",
          "output_type": "stream",
          "text": [
            "Epoch 1/100\n",
            "7/7 [==============================] - 2s 47ms/step - loss: 1.0477 - accuracy: 0.5579 - val_loss: 0.6266 - val_accuracy: 0.7094\n",
            "Epoch 2/100\n",
            "7/7 [==============================] - 0s 8ms/step - loss: 0.8695 - accuracy: 0.6538 - val_loss: 0.6067 - val_accuracy: 0.7406\n",
            "Epoch 3/100\n",
            "7/7 [==============================] - 0s 8ms/step - loss: 0.8014 - accuracy: 0.6830 - val_loss: 0.6002 - val_accuracy: 0.7406\n",
            "Epoch 4/100\n",
            "7/7 [==============================] - 0s 8ms/step - loss: 0.8221 - accuracy: 0.6893 - val_loss: 0.5964 - val_accuracy: 0.7531\n",
            "Epoch 5/100\n",
            "7/7 [==============================] - 0s 8ms/step - loss: 0.7230 - accuracy: 0.7101 - val_loss: 0.5968 - val_accuracy: 0.7531\n",
            "Epoch 6/100\n",
            "7/7 [==============================] - 0s 8ms/step - loss: 0.7275 - accuracy: 0.6893 - val_loss: 0.5957 - val_accuracy: 0.7469\n",
            "Epoch 7/100\n",
            "7/7 [==============================] - 0s 8ms/step - loss: 0.7410 - accuracy: 0.6820 - val_loss: 0.5890 - val_accuracy: 0.7375\n",
            "Epoch 8/100\n",
            "7/7 [==============================] - 0s 8ms/step - loss: 0.6561 - accuracy: 0.7185 - val_loss: 0.5832 - val_accuracy: 0.7437\n",
            "Epoch 9/100\n",
            "7/7 [==============================] - 0s 7ms/step - loss: 0.6953 - accuracy: 0.6986 - val_loss: 0.5848 - val_accuracy: 0.7406\n",
            "Epoch 10/100\n",
            "7/7 [==============================] - 0s 8ms/step - loss: 0.6855 - accuracy: 0.7164 - val_loss: 0.5874 - val_accuracy: 0.7437\n",
            "Epoch 11/100\n",
            "7/7 [==============================] - 0s 7ms/step - loss: 0.7039 - accuracy: 0.7049 - val_loss: 0.5845 - val_accuracy: 0.7312\n",
            "Epoch 12/100\n",
            "7/7 [==============================] - 0s 8ms/step - loss: 0.6691 - accuracy: 0.7132 - val_loss: 0.5793 - val_accuracy: 0.7344\n",
            "Epoch 13/100\n",
            "7/7 [==============================] - 0s 8ms/step - loss: 0.6565 - accuracy: 0.7059 - val_loss: 0.5808 - val_accuracy: 0.7437\n",
            "Epoch 14/100\n",
            "7/7 [==============================] - 0s 8ms/step - loss: 0.6491 - accuracy: 0.7278 - val_loss: 0.5792 - val_accuracy: 0.7563\n",
            "Epoch 15/100\n",
            "7/7 [==============================] - 0s 8ms/step - loss: 0.6703 - accuracy: 0.7059 - val_loss: 0.5781 - val_accuracy: 0.7500\n",
            "Epoch 16/100\n",
            "7/7 [==============================] - 0s 7ms/step - loss: 0.6394 - accuracy: 0.7101 - val_loss: 0.5791 - val_accuracy: 0.7375\n",
            "Epoch 17/100\n",
            "7/7 [==============================] - 0s 8ms/step - loss: 0.6140 - accuracy: 0.7216 - val_loss: 0.5801 - val_accuracy: 0.7312\n",
            "Epoch 18/100\n",
            "7/7 [==============================] - 0s 7ms/step - loss: 0.6084 - accuracy: 0.7185 - val_loss: 0.5768 - val_accuracy: 0.7281\n",
            "Epoch 19/100\n",
            "7/7 [==============================] - 0s 8ms/step - loss: 0.6135 - accuracy: 0.7174 - val_loss: 0.5718 - val_accuracy: 0.7281\n",
            "Epoch 20/100\n",
            "7/7 [==============================] - 0s 8ms/step - loss: 0.5875 - accuracy: 0.7445 - val_loss: 0.5747 - val_accuracy: 0.7344\n",
            "Epoch 21/100\n",
            "7/7 [==============================] - 0s 8ms/step - loss: 0.6226 - accuracy: 0.7383 - val_loss: 0.5762 - val_accuracy: 0.7250\n",
            "Epoch 22/100\n",
            "7/7 [==============================] - 0s 7ms/step - loss: 0.5918 - accuracy: 0.7143 - val_loss: 0.5767 - val_accuracy: 0.7031\n",
            "Epoch 23/100\n",
            "7/7 [==============================] - 0s 8ms/step - loss: 0.5949 - accuracy: 0.7205 - val_loss: 0.5735 - val_accuracy: 0.7250\n",
            "Epoch 24/100\n",
            "7/7 [==============================] - 0s 7ms/step - loss: 0.6074 - accuracy: 0.7351 - val_loss: 0.5763 - val_accuracy: 0.7156\n",
            "Epoch 25/100\n",
            "7/7 [==============================] - 0s 8ms/step - loss: 0.5762 - accuracy: 0.7477 - val_loss: 0.5718 - val_accuracy: 0.7219\n",
            "Epoch 26/100\n",
            "7/7 [==============================] - 0s 8ms/step - loss: 0.5686 - accuracy: 0.7372 - val_loss: 0.5717 - val_accuracy: 0.7250\n",
            "Epoch 27/100\n",
            "7/7 [==============================] - 0s 8ms/step - loss: 0.5631 - accuracy: 0.7258 - val_loss: 0.5679 - val_accuracy: 0.7375\n",
            "Epoch 28/100\n",
            "7/7 [==============================] - 0s 13ms/step - loss: 0.5792 - accuracy: 0.7383 - val_loss: 0.5670 - val_accuracy: 0.7469\n",
            "Epoch 29/100\n",
            "7/7 [==============================] - 0s 8ms/step - loss: 0.5662 - accuracy: 0.7331 - val_loss: 0.5659 - val_accuracy: 0.7469\n",
            "Epoch 30/100\n",
            "7/7 [==============================] - 0s 8ms/step - loss: 0.5174 - accuracy: 0.7466 - val_loss: 0.5616 - val_accuracy: 0.7656\n",
            "Epoch 31/100\n",
            "7/7 [==============================] - 0s 8ms/step - loss: 0.5516 - accuracy: 0.7487 - val_loss: 0.5619 - val_accuracy: 0.7563\n",
            "Epoch 32/100\n",
            "7/7 [==============================] - 0s 8ms/step - loss: 0.5218 - accuracy: 0.7602 - val_loss: 0.5611 - val_accuracy: 0.7594\n",
            "Epoch 33/100\n",
            "7/7 [==============================] - 0s 8ms/step - loss: 0.5498 - accuracy: 0.7424 - val_loss: 0.5580 - val_accuracy: 0.7563\n",
            "Epoch 34/100\n",
            "7/7 [==============================] - 0s 8ms/step - loss: 0.5113 - accuracy: 0.7685 - val_loss: 0.5562 - val_accuracy: 0.7625\n",
            "Epoch 35/100\n",
            "7/7 [==============================] - 0s 8ms/step - loss: 0.5044 - accuracy: 0.7758 - val_loss: 0.5555 - val_accuracy: 0.7625\n",
            "Epoch 36/100\n",
            "7/7 [==============================] - 0s 8ms/step - loss: 0.5063 - accuracy: 0.7550 - val_loss: 0.5557 - val_accuracy: 0.7656\n",
            "Epoch 37/100\n",
            "7/7 [==============================] - 0s 8ms/step - loss: 0.5314 - accuracy: 0.7508 - val_loss: 0.5524 - val_accuracy: 0.7469\n",
            "Epoch 38/100\n",
            "7/7 [==============================] - 0s 8ms/step - loss: 0.5051 - accuracy: 0.7539 - val_loss: 0.5505 - val_accuracy: 0.7500\n",
            "Epoch 39/100\n",
            "7/7 [==============================] - 0s 8ms/step - loss: 0.5136 - accuracy: 0.7675 - val_loss: 0.5492 - val_accuracy: 0.7531\n",
            "Epoch 40/100\n",
            "7/7 [==============================] - 0s 8ms/step - loss: 0.5554 - accuracy: 0.7383 - val_loss: 0.5511 - val_accuracy: 0.7594\n",
            "Epoch 41/100\n",
            "7/7 [==============================] - 0s 8ms/step - loss: 0.5228 - accuracy: 0.7581 - val_loss: 0.5454 - val_accuracy: 0.7500\n",
            "Epoch 42/100\n",
            "7/7 [==============================] - 0s 8ms/step - loss: 0.5197 - accuracy: 0.7529 - val_loss: 0.5437 - val_accuracy: 0.7500\n",
            "Epoch 43/100\n",
            "7/7 [==============================] - 0s 8ms/step - loss: 0.5150 - accuracy: 0.7581 - val_loss: 0.5458 - val_accuracy: 0.7625\n",
            "Epoch 44/100\n",
            "7/7 [==============================] - 0s 7ms/step - loss: 0.4947 - accuracy: 0.7716 - val_loss: 0.5446 - val_accuracy: 0.7563\n",
            "Epoch 45/100\n",
            "7/7 [==============================] - 0s 9ms/step - loss: 0.5073 - accuracy: 0.7696 - val_loss: 0.5424 - val_accuracy: 0.7688\n",
            "Epoch 46/100\n",
            "7/7 [==============================] - 0s 8ms/step - loss: 0.5277 - accuracy: 0.7497 - val_loss: 0.5406 - val_accuracy: 0.7563\n",
            "Epoch 47/100\n",
            "7/7 [==============================] - 0s 8ms/step - loss: 0.5012 - accuracy: 0.7550 - val_loss: 0.5369 - val_accuracy: 0.7688\n",
            "Epoch 48/100\n",
            "7/7 [==============================] - 0s 8ms/step - loss: 0.4794 - accuracy: 0.7842 - val_loss: 0.5367 - val_accuracy: 0.7531\n",
            "Epoch 49/100\n",
            "7/7 [==============================] - 0s 7ms/step - loss: 0.5194 - accuracy: 0.7477 - val_loss: 0.5381 - val_accuracy: 0.7563\n",
            "Epoch 50/100\n",
            "7/7 [==============================] - 0s 8ms/step - loss: 0.5039 - accuracy: 0.7560 - val_loss: 0.5391 - val_accuracy: 0.7563\n",
            "Epoch 51/100\n",
            "7/7 [==============================] - 0s 7ms/step - loss: 0.4744 - accuracy: 0.7758 - val_loss: 0.5373 - val_accuracy: 0.7469\n",
            "Epoch 52/100\n",
            "7/7 [==============================] - 0s 8ms/step - loss: 0.4944 - accuracy: 0.7623 - val_loss: 0.5381 - val_accuracy: 0.7437\n",
            "Epoch 53/100\n",
            "7/7 [==============================] - 0s 8ms/step - loss: 0.4833 - accuracy: 0.7654 - val_loss: 0.5396 - val_accuracy: 0.7406\n",
            "Epoch 54/100\n",
            "7/7 [==============================] - 0s 8ms/step - loss: 0.4867 - accuracy: 0.7685 - val_loss: 0.5358 - val_accuracy: 0.7375\n",
            "Epoch 55/100\n",
            "7/7 [==============================] - 0s 8ms/step - loss: 0.4949 - accuracy: 0.7862 - val_loss: 0.5325 - val_accuracy: 0.7406\n",
            "Epoch 56/100\n",
            "7/7 [==============================] - 0s 8ms/step - loss: 0.5089 - accuracy: 0.7581 - val_loss: 0.5301 - val_accuracy: 0.7406\n",
            "Epoch 57/100\n",
            "7/7 [==============================] - 0s 8ms/step - loss: 0.4820 - accuracy: 0.7675 - val_loss: 0.5297 - val_accuracy: 0.7406\n",
            "Epoch 58/100\n",
            "7/7 [==============================] - 0s 8ms/step - loss: 0.4845 - accuracy: 0.7758 - val_loss: 0.5289 - val_accuracy: 0.7500\n",
            "Epoch 59/100\n",
            "7/7 [==============================] - 0s 8ms/step - loss: 0.4673 - accuracy: 0.7977 - val_loss: 0.5288 - val_accuracy: 0.7531\n",
            "Epoch 60/100\n",
            "7/7 [==============================] - 0s 8ms/step - loss: 0.4746 - accuracy: 0.7894 - val_loss: 0.5261 - val_accuracy: 0.7500\n",
            "Epoch 61/100\n",
            "7/7 [==============================] - 0s 8ms/step - loss: 0.4861 - accuracy: 0.7852 - val_loss: 0.5241 - val_accuracy: 0.7250\n",
            "Epoch 62/100\n",
            "7/7 [==============================] - 0s 7ms/step - loss: 0.4908 - accuracy: 0.7831 - val_loss: 0.5267 - val_accuracy: 0.7281\n",
            "Epoch 63/100\n",
            "7/7 [==============================] - 0s 8ms/step - loss: 0.4873 - accuracy: 0.7560 - val_loss: 0.5272 - val_accuracy: 0.7281\n",
            "Epoch 64/100\n",
            "7/7 [==============================] - 0s 8ms/step - loss: 0.4870 - accuracy: 0.7925 - val_loss: 0.5248 - val_accuracy: 0.7219\n",
            "Epoch 65/100\n",
            "7/7 [==============================] - 0s 8ms/step - loss: 0.4701 - accuracy: 0.7779 - val_loss: 0.5254 - val_accuracy: 0.7312\n",
            "Epoch 66/100\n",
            "7/7 [==============================] - 0s 8ms/step - loss: 0.4832 - accuracy: 0.7633 - val_loss: 0.5254 - val_accuracy: 0.7312\n",
            "Epoch 67/100\n",
            "7/7 [==============================] - 0s 8ms/step - loss: 0.4706 - accuracy: 0.7852 - val_loss: 0.5239 - val_accuracy: 0.7375\n",
            "Epoch 68/100\n",
            "7/7 [==============================] - 0s 8ms/step - loss: 0.4700 - accuracy: 0.7873 - val_loss: 0.5246 - val_accuracy: 0.7375\n",
            "Epoch 69/100\n",
            "7/7 [==============================] - 0s 8ms/step - loss: 0.4601 - accuracy: 0.7862 - val_loss: 0.5265 - val_accuracy: 0.7375\n",
            "Epoch 70/100\n",
            "7/7 [==============================] - 0s 8ms/step - loss: 0.4852 - accuracy: 0.7706 - val_loss: 0.5257 - val_accuracy: 0.7312\n",
            "Epoch 71/100\n",
            "7/7 [==============================] - 0s 7ms/step - loss: 0.4741 - accuracy: 0.7758 - val_loss: 0.5272 - val_accuracy: 0.7344\n",
            "Epoch 72/100\n",
            "7/7 [==============================] - 0s 8ms/step - loss: 0.4692 - accuracy: 0.7727 - val_loss: 0.5253 - val_accuracy: 0.7375\n",
            "Epoch 73/100\n",
            "7/7 [==============================] - 0s 8ms/step - loss: 0.4808 - accuracy: 0.7779 - val_loss: 0.5248 - val_accuracy: 0.7312\n",
            "Epoch 74/100\n",
            "7/7 [==============================] - 0s 8ms/step - loss: 0.4724 - accuracy: 0.7769 - val_loss: 0.5231 - val_accuracy: 0.7344\n",
            "Epoch 75/100\n",
            "7/7 [==============================] - 0s 7ms/step - loss: 0.4659 - accuracy: 0.7727 - val_loss: 0.5245 - val_accuracy: 0.7344\n",
            "Epoch 76/100\n",
            "7/7 [==============================] - 0s 8ms/step - loss: 0.4738 - accuracy: 0.7748 - val_loss: 0.5247 - val_accuracy: 0.7219\n",
            "Epoch 77/100\n",
            "7/7 [==============================] - 0s 13ms/step - loss: 0.4843 - accuracy: 0.7831 - val_loss: 0.5239 - val_accuracy: 0.7344\n",
            "Epoch 78/100\n",
            "7/7 [==============================] - 0s 7ms/step - loss: 0.4790 - accuracy: 0.7727 - val_loss: 0.5233 - val_accuracy: 0.7375\n",
            "Epoch 79/100\n",
            "7/7 [==============================] - 0s 8ms/step - loss: 0.4765 - accuracy: 0.7716 - val_loss: 0.5221 - val_accuracy: 0.7375\n",
            "Epoch 80/100\n",
            "7/7 [==============================] - 0s 8ms/step - loss: 0.4770 - accuracy: 0.7789 - val_loss: 0.5249 - val_accuracy: 0.7312\n",
            "Epoch 81/100\n",
            "7/7 [==============================] - 0s 8ms/step - loss: 0.4599 - accuracy: 0.7935 - val_loss: 0.5292 - val_accuracy: 0.7375\n",
            "Epoch 82/100\n",
            "7/7 [==============================] - 0s 8ms/step - loss: 0.4706 - accuracy: 0.7779 - val_loss: 0.5306 - val_accuracy: 0.7375\n",
            "Epoch 83/100\n",
            "7/7 [==============================] - 0s 8ms/step - loss: 0.4790 - accuracy: 0.7716 - val_loss: 0.5277 - val_accuracy: 0.7312\n",
            "Epoch 84/100\n",
            "7/7 [==============================] - 0s 7ms/step - loss: 0.4504 - accuracy: 0.7904 - val_loss: 0.5277 - val_accuracy: 0.7312\n",
            "Epoch 85/100\n",
            "7/7 [==============================] - 0s 8ms/step - loss: 0.4457 - accuracy: 0.7894 - val_loss: 0.5315 - val_accuracy: 0.7188\n",
            "Epoch 86/100\n",
            "7/7 [==============================] - 0s 8ms/step - loss: 0.4422 - accuracy: 0.7904 - val_loss: 0.5349 - val_accuracy: 0.7219\n",
            "Epoch 87/100\n",
            "7/7 [==============================] - 0s 8ms/step - loss: 0.4692 - accuracy: 0.7842 - val_loss: 0.5345 - val_accuracy: 0.7312\n",
            "Epoch 88/100\n",
            "7/7 [==============================] - 0s 8ms/step - loss: 0.4546 - accuracy: 0.7862 - val_loss: 0.5344 - val_accuracy: 0.7281\n",
            "Epoch 89/100\n",
            "7/7 [==============================] - 0s 8ms/step - loss: 0.4418 - accuracy: 0.8050 - val_loss: 0.5352 - val_accuracy: 0.7156\n",
            "Epoch 90/100\n",
            "7/7 [==============================] - 0s 8ms/step - loss: 0.4387 - accuracy: 0.7935 - val_loss: 0.5344 - val_accuracy: 0.7250\n",
            "Epoch 91/100\n",
            "7/7 [==============================] - 0s 8ms/step - loss: 0.4572 - accuracy: 0.7967 - val_loss: 0.5353 - val_accuracy: 0.7250\n",
            "Epoch 92/100\n",
            "7/7 [==============================] - 0s 8ms/step - loss: 0.4724 - accuracy: 0.7779 - val_loss: 0.5351 - val_accuracy: 0.7156\n",
            "Epoch 93/100\n",
            "7/7 [==============================] - 0s 8ms/step - loss: 0.4576 - accuracy: 0.7842 - val_loss: 0.5310 - val_accuracy: 0.7250\n",
            "Epoch 94/100\n",
            "7/7 [==============================] - 0s 8ms/step - loss: 0.4639 - accuracy: 0.7946 - val_loss: 0.5313 - val_accuracy: 0.7250\n",
            "Epoch 95/100\n",
            "7/7 [==============================] - 0s 8ms/step - loss: 0.4441 - accuracy: 0.7967 - val_loss: 0.5313 - val_accuracy: 0.7281\n",
            "Epoch 96/100\n",
            "7/7 [==============================] - 0s 8ms/step - loss: 0.4516 - accuracy: 0.7977 - val_loss: 0.5350 - val_accuracy: 0.7250\n",
            "Epoch 97/100\n",
            "7/7 [==============================] - 0s 8ms/step - loss: 0.4454 - accuracy: 0.7904 - val_loss: 0.5372 - val_accuracy: 0.7188\n",
            "Epoch 98/100\n",
            "7/7 [==============================] - 0s 13ms/step - loss: 0.4474 - accuracy: 0.7998 - val_loss: 0.5364 - val_accuracy: 0.7219\n",
            "Epoch 99/100\n",
            "7/7 [==============================] - 0s 10ms/step - loss: 0.4615 - accuracy: 0.7894 - val_loss: 0.5356 - val_accuracy: 0.7156\n"
          ]
        }
      ],
      "source": [
        "# Fit the model using 50 epochs and the training data\n",
        "fit_model = model.fit(X_train_scaled, y_train, \n",
        "                      epochs=100, \n",
        "                      batch_size=150,\n",
        "                      class_weight=class_weight_dict, \n",
        "                      validation_data=(X_val_scaled, y_val),\n",
        "                      callbacks=[early_stopping])\n",
        "                   \n"
      ]
    },
    {
      "cell_type": "markdown",
      "metadata": {
        "id": "RfHMPZVI6q61"
      },
      "source": [
        "### Step 3: Evaluate the model using the test data to determine the model’s loss and accuracy.\n"
      ]
    },
    {
      "cell_type": "code",
      "execution_count": 21,
      "metadata": {
        "colab": {
          "base_uri": "https://localhost:8080/"
        },
        "id": "5hfVADKo6q61",
        "outputId": "7df473ad-3301-4b49-e5c3-16e1687cc1cf"
      },
      "outputs": [
        {
          "name": "stdout",
          "output_type": "stream",
          "text": [
            "10/10 [==============================] - 0s 941us/step - loss: 0.4845 - accuracy: 0.7656\n",
            "Test Loss: 0.4845069348812103\n",
            "Test Accuracy: 0.765625\n"
          ]
        }
      ],
      "source": [
        "# Evaluate the model loss and accuracy metrics using the evaluate method and the test data\n",
        "loss, accuracy = model.evaluate(X_test_scaled, y_test)\n",
        "\n",
        "# Display the model loss and accuracy results\n",
        "print(f\"Test Loss: {loss}\")\n",
        "print(f\"Test Accuracy: {accuracy}\")"
      ]
    },
    {
      "cell_type": "code",
      "execution_count": 22,
      "metadata": {},
      "outputs": [
        {
          "name": "stdout",
          "output_type": "stream",
          "text": [
            "{'loss': [1.0477337837219238, 0.869512677192688, 0.8014160394668579, 0.8220564723014832, 0.7229621410369873, 0.7275319695472717, 0.7409723997116089, 0.656136691570282, 0.6952930092811584, 0.6855417490005493, 0.7038883566856384, 0.6690914034843445, 0.6565340161323547, 0.6490510106086731, 0.670254111289978, 0.6394268870353699, 0.613950252532959, 0.6083672642707825, 0.6134871244430542, 0.5875262022018433, 0.6226056814193726, 0.5917940735816956, 0.5949419140815735, 0.6074311137199402, 0.5761727690696716, 0.5685765743255615, 0.5631471276283264, 0.5792422890663147, 0.5662153959274292, 0.5173657536506653, 0.5515976548194885, 0.5217833518981934, 0.5498290657997131, 0.5112641453742981, 0.5044326782226562, 0.5062750577926636, 0.5313608646392822, 0.5051363110542297, 0.5136289596557617, 0.5554039478302002, 0.5227728486061096, 0.5197117328643799, 0.5150168538093567, 0.4946939945220947, 0.5073288679122925, 0.5277098417282104, 0.5012003779411316, 0.4794497489929199, 0.5194275975227356, 0.5038907527923584, 0.4743542969226837, 0.49439573287963867, 0.4832543730735779, 0.4867250621318817, 0.49493297934532166, 0.5088972449302673, 0.4819730222225189, 0.4844646155834198, 0.46734216809272766, 0.4746246039867401, 0.4861055612564087, 0.4908192455768585, 0.4872937500476837, 0.48696374893188477, 0.4700620472431183, 0.4831996262073517, 0.4705613851547241, 0.4699992537498474, 0.4600532352924347, 0.4851952791213989, 0.4741409718990326, 0.4692460894584656, 0.48075079917907715, 0.47239941358566284, 0.46594420075416565, 0.4737681448459625, 0.4843195974826813, 0.4789527952671051, 0.4764653146266937, 0.47702130675315857, 0.4598511755466461, 0.47062963247299194, 0.47901228070259094, 0.4504470229148865, 0.44572335481643677, 0.4421647787094116, 0.4691871404647827, 0.4545638859272003, 0.44180381298065186, 0.4386962056159973, 0.4571608304977417, 0.4723964333534241, 0.4575580358505249, 0.46388599276542664, 0.44412124156951904, 0.4516293704509735, 0.44535964727401733, 0.44735658168792725, 0.4615207016468048], 'accuracy': [0.5578727722167969, 0.6538060307502747, 0.6830031275749207, 0.6892596483230591, 0.7101147174835205, 0.6892596483230591, 0.68196040391922, 0.7184567451477051, 0.6986443996429443, 0.7163712382316589, 0.7049009203910828, 0.7132429480552673, 0.7059437036514282, 0.7278414964675903, 0.7059437036514282, 0.7101147174835205, 0.7215849757194519, 0.7184567451477051, 0.7174139618873596, 0.7445255517959595, 0.738269031047821, 0.7142857313156128, 0.7205422520637512, 0.7351408004760742, 0.7476537823677063, 0.7372262477874756, 0.7257559895515442, 0.738269031047821, 0.7330552935600281, 0.7466110587120056, 0.7486965656280518, 0.7601668238639832, 0.7424400448799133, 0.7685088515281677, 0.7758081555366516, 0.7549530863761902, 0.7507820725440979, 0.7539103031158447, 0.767466127872467, 0.738269031047821, 0.758081316947937, 0.752867579460144, 0.758081316947937, 0.7716371417045593, 0.7695516347885132, 0.7497392892837524, 0.7549530863761902, 0.7841501832008362, 0.7476537823677063, 0.7559958100318909, 0.7758081555366516, 0.7622523307800293, 0.7653806209564209, 0.7685088515281677, 0.7862356901168823, 0.758081316947937, 0.767466127872467, 0.7758081555366516, 0.7977059483528137, 0.7893639206886292, 0.7851929068565369, 0.7831073999404907, 0.7559958100318909, 0.792492151260376, 0.7778936624526978, 0.7632951140403748, 0.7851929068565369, 0.787278413772583, 0.7862356901168823, 0.7705943584442139, 0.7758081555366516, 0.77267986536026, 0.7778936624526978, 0.7768508791923523, 0.77267986536026, 0.7747653722763062, 0.7831073999404907, 0.77267986536026, 0.7716371417045593, 0.7789363861083984, 0.7935349345207214, 0.7778936624526978, 0.7716371417045593, 0.7904066443443298, 0.7893639206886292, 0.7904066443443298, 0.7841501832008362, 0.7862356901168823, 0.8050051927566528, 0.7935349345207214, 0.7966631650924683, 0.7778936624526978, 0.7841501832008362, 0.7945776581764221, 0.7966631650924683, 0.7977059483528137, 0.7904066443443298, 0.7997914552688599, 0.7893639206886292], 'val_loss': [0.6266318559646606, 0.6066861152648926, 0.6002044677734375, 0.5964146852493286, 0.596767783164978, 0.5957356691360474, 0.5890470743179321, 0.5831879377365112, 0.5848139524459839, 0.5873664617538452, 0.5844665765762329, 0.5792628526687622, 0.5808112025260925, 0.5791752934455872, 0.5781010389328003, 0.579098105430603, 0.5800994634628296, 0.5767964124679565, 0.5718326568603516, 0.5747038722038269, 0.5762261748313904, 0.576724112033844, 0.5735344290733337, 0.5762938857078552, 0.5717672109603882, 0.5717310309410095, 0.5679079294204712, 0.5670170783996582, 0.5658778548240662, 0.561639666557312, 0.5618641972541809, 0.5610880255699158, 0.5579736828804016, 0.5562039613723755, 0.5555270910263062, 0.5556683540344238, 0.5524020195007324, 0.5504944920539856, 0.5492473840713501, 0.5511258840560913, 0.5453750491142273, 0.5436933636665344, 0.5458352565765381, 0.5446391105651855, 0.5423601269721985, 0.5406373143196106, 0.5369338989257812, 0.5367305278778076, 0.5381355881690979, 0.5390722751617432, 0.537284791469574, 0.5381089448928833, 0.5395704507827759, 0.53583824634552, 0.5325038433074951, 0.5301440954208374, 0.5296691656112671, 0.5288911461830139, 0.5288053750991821, 0.526131808757782, 0.524072527885437, 0.5266548991203308, 0.527206540107727, 0.5248028635978699, 0.5254281759262085, 0.5253894329071045, 0.5239010453224182, 0.5245813131332397, 0.5264633893966675, 0.5256544351577759, 0.5272089838981628, 0.5253456234931946, 0.5248281359672546, 0.5230989456176758, 0.5244871377944946, 0.524746298789978, 0.523877739906311, 0.5233145952224731, 0.5221384763717651, 0.5248897671699524, 0.5292350649833679, 0.5306452512741089, 0.5277179479598999, 0.5277063250541687, 0.531488299369812, 0.5348594188690186, 0.5345366597175598, 0.534401535987854, 0.535198450088501, 0.534386932849884, 0.5352689623832703, 0.5351353287696838, 0.5310312509536743, 0.5313436388969421, 0.5313095450401306, 0.5350033640861511, 0.5372101664543152, 0.5363720655441284, 0.5356139540672302], 'val_accuracy': [0.7093750238418579, 0.7406250238418579, 0.7406250238418579, 0.753125011920929, 0.753125011920929, 0.746874988079071, 0.737500011920929, 0.7437499761581421, 0.7406250238418579, 0.7437499761581421, 0.731249988079071, 0.734375, 0.7437499761581421, 0.7562500238418579, 0.75, 0.737500011920929, 0.731249988079071, 0.7281249761581421, 0.7281249761581421, 0.734375, 0.7250000238418579, 0.703125, 0.7250000238418579, 0.715624988079071, 0.721875011920929, 0.7250000238418579, 0.737500011920929, 0.746874988079071, 0.746874988079071, 0.765625, 0.7562500238418579, 0.7593749761581421, 0.7562500238418579, 0.762499988079071, 0.762499988079071, 0.765625, 0.746874988079071, 0.75, 0.753125011920929, 0.7593749761581421, 0.75, 0.75, 0.762499988079071, 0.7562500238418579, 0.768750011920929, 0.7562500238418579, 0.768750011920929, 0.753125011920929, 0.7562500238418579, 0.7562500238418579, 0.746874988079071, 0.7437499761581421, 0.7406250238418579, 0.737500011920929, 0.7406250238418579, 0.7406250238418579, 0.7406250238418579, 0.75, 0.753125011920929, 0.75, 0.7250000238418579, 0.7281249761581421, 0.7281249761581421, 0.721875011920929, 0.731249988079071, 0.731249988079071, 0.737500011920929, 0.737500011920929, 0.737500011920929, 0.731249988079071, 0.734375, 0.737500011920929, 0.731249988079071, 0.734375, 0.734375, 0.721875011920929, 0.734375, 0.737500011920929, 0.737500011920929, 0.731249988079071, 0.737500011920929, 0.737500011920929, 0.731249988079071, 0.731249988079071, 0.71875, 0.721875011920929, 0.731249988079071, 0.7281249761581421, 0.715624988079071, 0.7250000238418579, 0.7250000238418579, 0.715624988079071, 0.7250000238418579, 0.7250000238418579, 0.7281249761581421, 0.7250000238418579, 0.71875, 0.721875011920929, 0.715624988079071]}\n"
          ]
        },
        {
          "data": {
            "text/plain": [
              "<Axes: >"
            ]
          },
          "execution_count": 22,
          "metadata": {},
          "output_type": "execute_result"
        },
        {
          "data": {
            "image/png": "[encoded data removed]",
            "text/plain": [
              "<Figure size 640x480 with 1 Axes>"
            ]
          },
          "metadata": {},
          "output_type": "display_data"
        }
      ],
      "source": [
        "# Create a DataFrame containing training history\n",
        "history_df = pd.DataFrame(fit_model.history)\n",
        "print (fit_model.history)\n",
        "\n",
        "# Increase the index by 1 to match the number of epochs\n",
        "history_df.index += 1\n",
        "\n",
        "# Plot the loss\n",
        "history_df.plot(y=\"loss\")\n"
      ]
    },
    {
      "cell_type": "markdown",
      "metadata": {
        "id": "jpAv0rXA6q61"
      },
      "source": [
        "### Step 4: Save and export your model to a keras file, and name the file `student_loans.keras`.\n"
      ]
    },
    {
      "cell_type": "code",
      "execution_count": 23,
      "metadata": {
        "id": "q0MetN0W6q61"
      },
      "outputs": [],
      "source": [
        "# Set the model's file path\n",
        "file_path = Path(\"student_loans.keras\")\n",
        "\n",
        "# Export your model to a keras file\n",
        "model.save(file_path)"
      ]
    },
    {
      "cell_type": "markdown",
      "metadata": {
        "id": "R1opCDdN6q61"
      },
      "source": [
        "---\n",
        "## Predict Loan Repayment Success by Using your Neural Network Model"
      ]
    },
    {
      "cell_type": "markdown",
      "metadata": {
        "id": "TfIfpeiy6q61"
      },
      "source": [
        "### Step 1: Reload your saved model."
      ]
    },
    {
      "cell_type": "code",
      "execution_count": 24,
      "metadata": {
        "id": "OCET2mvW6q61"
      },
      "outputs": [],
      "source": [
        "# Set the model's file path\n",
        "file_path = Path(\"student_loans.keras\")\n",
        "\n",
        "# Load the model to a new object\n",
        "lr_model = load_model(file_path)"
      ]
    },
    {
      "cell_type": "markdown",
      "metadata": {
        "id": "rTPKooGw6q61"
      },
      "source": [
        "### Step 2: Make predictions on the testing data and save the predictions to a DataFrame."
      ]
    },
    {
      "cell_type": "code",
      "execution_count": 25,
      "metadata": {
        "colab": {
          "base_uri": "https://localhost:8080/"
        },
        "id": "Vet7qjgx6q62",
        "outputId": "0925af42-7e12-4978-8396-2a2c1580e1eb"
      },
      "outputs": [
        {
          "name": "stdout",
          "output_type": "stream",
          "text": [
            "10/10 - 0s - 100ms/epoch - 10ms/step\n"
          ]
        },
        {
          "data": {
            "text/plain": [
              "array([[0.94169897],\n",
              "       [0.07879221],\n",
              "       [0.99106795],\n",
              "       [0.73014337],\n",
              "       [0.10359788]], dtype=float32)"
            ]
          },
          "metadata": {},
          "output_type": "display_data"
        }
      ],
      "source": [
        "# Make predictions with the test data\n",
        "predictions = lr_model.predict(X_test_scaled,verbose=2)\n",
        "\n",
        "\n",
        "# Display a sample of the predictions\n",
        "display (predictions[:5])"
      ]
    },
    {
      "cell_type": "code",
      "execution_count": 26,
      "metadata": {
        "colab": {
          "base_uri": "https://localhost:8080/",
          "height": 424
        },
        "id": "87o8exFPhjfl",
        "outputId": "da5339c5-cea7-43e4-ec22-e168ea16dfa2"
      },
      "outputs": [
        {
          "data": {
            "text/html": [
              "<div>\n",
              "<style scoped>\n",
              "    .dataframe tbody tr th:only-of-type {\n",
              "        vertical-align: middle;\n",
              "    }\n",
              "\n",
              "    .dataframe tbody tr th {\n",
              "        vertical-align: top;\n",
              "    }\n",
              "\n",
              "    .dataframe thead th {\n",
              "        text-align: right;\n",
              "    }\n",
              "</style>\n",
              "<table border=\"1\" class=\"dataframe\">\n",
              "  <thead>\n",
              "    <tr style=\"text-align: right;\">\n",
              "      <th></th>\n",
              "      <th>Predicted_Probability</th>\n",
              "      <th>Predicted_Class</th>\n",
              "    </tr>\n",
              "  </thead>\n",
              "  <tbody>\n",
              "    <tr>\n",
              "      <th>0</th>\n",
              "      <td>0.941699</td>\n",
              "      <td>1.0</td>\n",
              "    </tr>\n",
              "    <tr>\n",
              "      <th>1</th>\n",
              "      <td>0.078792</td>\n",
              "      <td>0.0</td>\n",
              "    </tr>\n",
              "    <tr>\n",
              "      <th>2</th>\n",
              "      <td>0.991068</td>\n",
              "      <td>1.0</td>\n",
              "    </tr>\n",
              "    <tr>\n",
              "      <th>3</th>\n",
              "      <td>0.730143</td>\n",
              "      <td>1.0</td>\n",
              "    </tr>\n",
              "    <tr>\n",
              "      <th>4</th>\n",
              "      <td>0.103598</td>\n",
              "      <td>0.0</td>\n",
              "    </tr>\n",
              "    <tr>\n",
              "      <th>5</th>\n",
              "      <td>0.468621</td>\n",
              "      <td>0.0</td>\n",
              "    </tr>\n",
              "    <tr>\n",
              "      <th>6</th>\n",
              "      <td>0.119109</td>\n",
              "      <td>0.0</td>\n",
              "    </tr>\n",
              "    <tr>\n",
              "      <th>7</th>\n",
              "      <td>0.352349</td>\n",
              "      <td>0.0</td>\n",
              "    </tr>\n",
              "    <tr>\n",
              "      <th>8</th>\n",
              "      <td>0.961202</td>\n",
              "      <td>1.0</td>\n",
              "    </tr>\n",
              "    <tr>\n",
              "      <th>9</th>\n",
              "      <td>0.884045</td>\n",
              "      <td>1.0</td>\n",
              "    </tr>\n",
              "    <tr>\n",
              "      <th>10</th>\n",
              "      <td>0.675043</td>\n",
              "      <td>1.0</td>\n",
              "    </tr>\n",
              "    <tr>\n",
              "      <th>11</th>\n",
              "      <td>0.738755</td>\n",
              "      <td>1.0</td>\n",
              "    </tr>\n",
              "    <tr>\n",
              "      <th>12</th>\n",
              "      <td>0.685219</td>\n",
              "      <td>1.0</td>\n",
              "    </tr>\n",
              "    <tr>\n",
              "      <th>13</th>\n",
              "      <td>0.410278</td>\n",
              "      <td>0.0</td>\n",
              "    </tr>\n",
              "    <tr>\n",
              "      <th>14</th>\n",
              "      <td>0.946352</td>\n",
              "      <td>1.0</td>\n",
              "    </tr>\n",
              "    <tr>\n",
              "      <th>15</th>\n",
              "      <td>0.635217</td>\n",
              "      <td>1.0</td>\n",
              "    </tr>\n",
              "    <tr>\n",
              "      <th>16</th>\n",
              "      <td>0.955224</td>\n",
              "      <td>1.0</td>\n",
              "    </tr>\n",
              "    <tr>\n",
              "      <th>17</th>\n",
              "      <td>0.194631</td>\n",
              "      <td>0.0</td>\n",
              "    </tr>\n",
              "    <tr>\n",
              "      <th>18</th>\n",
              "      <td>0.968933</td>\n",
              "      <td>1.0</td>\n",
              "    </tr>\n",
              "    <tr>\n",
              "      <th>19</th>\n",
              "      <td>0.208480</td>\n",
              "      <td>0.0</td>\n",
              "    </tr>\n",
              "  </tbody>\n",
              "</table>\n",
              "</div>"
            ],
            "text/plain": [
              "    Predicted_Probability  Predicted_Class\n",
              "0                0.941699              1.0\n",
              "1                0.078792              0.0\n",
              "2                0.991068              1.0\n",
              "3                0.730143              1.0\n",
              "4                0.103598              0.0\n",
              "5                0.468621              0.0\n",
              "6                0.119109              0.0\n",
              "7                0.352349              0.0\n",
              "8                0.961202              1.0\n",
              "9                0.884045              1.0\n",
              "10               0.675043              1.0\n",
              "11               0.738755              1.0\n",
              "12               0.685219              1.0\n",
              "13               0.410278              0.0\n",
              "14               0.946352              1.0\n",
              "15               0.635217              1.0\n",
              "16               0.955224              1.0\n",
              "17               0.194631              0.0\n",
              "18               0.968933              1.0\n",
              "19               0.208480              0.0"
            ]
          },
          "execution_count": 26,
          "metadata": {},
          "output_type": "execute_result"
        }
      ],
      "source": [
        "# Save the predictions to a DataFrame and round the predictions to binary results\n",
        "predictions_df = pd.DataFrame(data=predictions, columns=['Predicted_Probability'])\n",
        "# Round predictions to binary results (0 or 1) using 0.5 as the threshold\n",
        "predictions_df['Predicted_Class'] = round(predictions_df['Predicted_Probability'])\n",
        "predictions_df.head(20)"
      ]
    },
    {
      "cell_type": "markdown",
      "metadata": {
        "id": "oxxLwycg6q62"
      },
      "source": [
        "### Step 4: Display a classification report with the y test data and predictions"
      ]
    },
    {
      "cell_type": "code",
      "execution_count": 27,
      "metadata": {
        "colab": {
          "base_uri": "https://localhost:8080/"
        },
        "id": "UTxYZibW6q67",
        "outputId": "f341b396-9b4c-478c-dba8-f6d904ba10e3"
      },
      "outputs": [
        {
          "name": "stdout",
          "output_type": "stream",
          "text": [
            "              precision    recall  f1-score   support\n",
            "\n",
            "           0       0.76      0.76      0.76       157\n",
            "           1       0.77      0.77      0.77       163\n",
            "\n",
            "    accuracy                           0.77       320\n",
            "   macro avg       0.77      0.77      0.77       320\n",
            "weighted avg       0.77      0.77      0.77       320\n",
            "\n"
          ]
        }
      ],
      "source": [
        "# Print the classification report with the y test data and predictions\n",
        "print(classification_report(y_test, predictions_df[\"Predicted_Class\"].values))"
      ]
    },
    {
      "cell_type": "markdown",
      "metadata": {
        "id": "8Aaof1tBtcp6"
      },
      "source": [
        "---\n",
        "## Discuss creating a recommendation system for student loans"
      ]
    },
    {
      "cell_type": "markdown",
      "metadata": {
        "id": "_CC8cNpNtcp6"
      },
      "source": [
        "Briefly answer the following questions in the space provided:\n",
        "\n",
        "1. Describe the data that you would need to collect to build a recommendation system to recommend student loan options for students. Explain why this data would be relevant and appropriate.\n",
        "\n",
        "2. Based on the data you chose to use in this recommendation system, would your model be using collaborative filtering, content-based filtering, or context-based filtering? Justify why the data you selected would be suitable for your choice of filtering method.\n",
        "\n",
        "3. Describe two real-world challenges that you would take into consideration while building a recommendation system for student loans. Explain why these challenges would be of concern for a student loan recommendation system."
      ]
    },
    {
      "cell_type": "markdown",
      "metadata": {
        "id": "5KqIT8kYtcp6"
      },
      "source": [
        "1. Describe the data that you would need to collect to build a recommendation system to recommend student loan options for students. Explain why this data would be relevant and appropriate.\n",
        "\n",
        "Building a recommendation system for student loan options involves collecting and analyzing a variety of data types to ensure personalized and accurate recommendations. Here are some key data categories that would be relevant and why:\n",
        "\n",
        "1. **Personal Information:**\n",
        "   - **Age, Gender, Marital Status:** These demographics can affect loan eligibility and terms.\n",
        "   - **Dependents:** Number of dependents can influence repayment capacity.\n",
        "   - **Income Level:** Directly impacts ability to repay loans and determines what kind of loan terms are feasible.\n",
        "\n",
        "2. **Educational Background:**\n",
        "   - **Type of Institution (public/private, 2-year/4-year):** Different institutions may have different associated costs and potential financial aid options.\n",
        "   - **Major/Field of Study:** Certain fields might have higher earning potential, affecting loan repayment terms.\n",
        "   - **Academic Performance (GPA):** Some loan options might offer better terms for higher academic achievements.\n",
        "\n",
        "3. **Financial History:**\n",
        "   - **Credit Score:** Essential for assessing risk and determining the interest rates offered.\n",
        "   - **Current Financial Obligations (e.g., existing loans, rent):** Helps assess debt-to-income ratio.\n",
        "   - **Employment History:** Stability and type of employment can influence loan repayment conditions.\n",
        "\n",
        "4. **Loan Requirements:**\n",
        "   - **Amount Needed:** Essential for matching with suitable loan options.\n",
        "   - **Preferred Repayment Period:** Influences the types of loans that can be recommended.\n",
        "   - **Interest Rate Sensitivity:** Some students may prefer lower interest rates with stricter repayment conditions, while others might opt for higher rates with more flexibility.\n",
        "\n",
        "5. **Geographical Location:**\n",
        "   - **State/Region:** Loan availability and terms can vary by location due to differing state regulations and cost of living.\n",
        "\n",
        "6. **Behavioral Data (if using an online system):**\n",
        "   - **Interaction with Loan Information:** Tracks which loan terms and details catch a student’s attention, which can guide personalized recommendations.\n",
        "   - **Feedback on Previous Recommendations:** Helps refine future recommendations by learning what was or wasn’t accepted by the user.\n",
        "\n",
        "Collecting these types of data is critical for building a model that understands the nuanced financial, educational, and personal circumstances of each student. This holistic approach allows the recommendation system to offer the most suitable and sustainable student loan options, tailored to each individual’s unique situation. However, it's also vital to handle this sensitive data with robust privacy measures and comply with all relevant data protection regulations (like GDPR in the EU or CCPA in California) to protect students' privacy and security.\n",
        "\n",
        "\n",
        "\n",
        "\n",
        "\n"
      ]
    },
    {
      "cell_type": "markdown",
      "metadata": {},
      "source": [
        "2. Based on the data you chose to use in this recommendation system, would your model be using collaborative filtering, content-based filtering, or context-based filtering? Justify why the data you selected would be suitable for your choice of filtering method.\n",
        "\n",
        "## Analysis of Data Features\n",
        "\n",
        "The dataset includes a range of features that can be classified primarily as personal and academic attributes:\n",
        "\n",
        "### Personal and Financial Attributes:\n",
        "- `payment_history`\n",
        "- `financial_aid_score`\n",
        "- `total_loan_score`\n",
        "\n",
        "### Academic Attributes:\n",
        "- `stem_degree_score`\n",
        "- `gpa_ranking`\n",
        "- `study_major_code`\n",
        "- `time_to_completion`\n",
        "\n",
        "### Workshop and Alumni Metrics:\n",
        "- `finance_workshop_score`\n",
        "- `alumni_success`\n",
        "\n",
        "### Rankings and Scores:\n",
        "- `cohort_ranking`\n",
        "- `location_parameter`\n",
        "- `credit_ranking`\n",
        "\n",
        "## Choosing a Filtering Method\n",
        "\n",
        "Given the types of data available, here are the considerations for selecting a suitable filtering method:\n",
        "\n",
        "### Collaborative Filtering:\n",
        "This method typically requires user-item interaction data, such as user ratings for items, which doesn't appear to be directly available in your dataset. Collaborative filtering might not be suitable unless there's implicit interaction data that can be derived from the existing features, like inferring preferences from `payment_history` or `credit_ranking`.\n",
        "\n",
        "### Content-Based Filtering:\n",
        "This approach seems highly suitable because:\n",
        "- **You have detailed attributes related to each student's academic and financial background.**\n",
        "- **Content-based systems can utilize these attributes to recommend loan products or financial options that match closely with individual student profiles based on their needs and past behaviors.**\n",
        "\n",
        "### Context-Based Filtering:\n",
        "While you have some features that could be considered contextual, like `location_parameter`, the context does not seem to be the primary driver of the recommendation logic needed for a student loan system. This method might be used to enhance another method but may not be sufficient on its own.\n",
        "\n",
        "## Justification for Content-Based Filtering\n",
        "\n",
        "Given the detailed and specific nature of the features in your dataset, content-based filtering is likely the most effective approach for several reasons:\n",
        "\n",
        "### Personalization:\n",
        "- It can leverage detailed academic scores, financial scores, and other personal attributes to match students with the most suitable loan options.\n",
        "\n",
        "### Direct Relevance:\n",
        "- Features like `finance_workshop_score`, `gpa_ranking`, and `financial_aid_score` provide a solid basis for profiling and matching, as these metrics are likely directly correlated with the suitability of various loan products or financial advice.\n",
        "\n",
        "### Data Utilization:\n",
        "- This method can effectively utilize almost all the features you have to create detailed profiles and recommendations, maximizing the use of available data without needing additional information.\n"
      ]
    },
    {
      "cell_type": "markdown",
      "metadata": {},
      "source": [
        "3. Describe two real-world challenges that you would take into consideration while building a recommendation system for student loans. Explain why these challenges would be of concern for a student loan recommendation system.\n",
        "\n",
        "Using machine learning models to set interest rates for student loans can have various real-world implications, both beneficial and challenging. Here are some key considerations:\n",
        "\n",
        "1. **Fairness and Bias**: One of the primary concerns is the risk of bias in the model. Machine learning models can inadvertently perpetuate or even amplify existing biases if the data on which they are trained is not representative or contains historical biases. This can lead to unfair interest rates for certain groups of students based on factors like race, gender, or socioeconomic background.\n",
        "\n",
        "2. **Transparency and Explainability**: Machine learning models, especially complex ones like deep learning, can be opaque, meaning it's difficult to understand how they arrive at specific decisions (e.g., interest rates). This lack of transparency can be problematic in finance, where borrowers have the right to understand how their rates are being set.\n",
        "\n",
        "3. **Regulatory Compliance**: There are numerous regulations in financial services designed to protect consumers, such as the Equal Credit Opportunity Act in the U.S., which prohibits discrimination on the basis of race, color, religion, national origin, sex, marital status, or age. Ensuring that a machine learning model complies with these regulations can be challenging but is crucial.\n",
        "\n",
        "4. **Accuracy and Reliability**: The accuracy of predictions made by machine learning models depends heavily on the quality and quantity of the data used for training. Inaccuracies in prediction can lead to inappropriate interest rates, which might not accurately reflect the borrower's credit risk.\n",
        "\n",
        "5. **Economic Impact**: Appropriately set interest rates based on predictive models could potentially make student loans more accessible and affordable to a broader group of students by more accurately assessing risk than traditional models. However, if not carefully managed, it could also lead to increased debt burdens for vulnerable populations.\n",
        "\n",
        "6. **Ethical Considerations**: There are significant ethical considerations in using AI in scenarios that significantly impact people's lives, like education financing. Ensuring that the use of such technologies is in the best interest of the students rather than purely for profit is crucial.\n",
        "\n",
        "In deploying machine learning models for setting student loan interest rates, it's important to continuously monitor and update the models to ensure they remain fair, accurate, and compliant with all applicable laws and regulations. Regular audits and transparency with the public can help maintain trust and ensure ethical use of technology in such critical applications."
      ]
    }
  ],
  "metadata": {
    "colab": {
      "provenance": []
    },
    "kernelspec": {
      "display_name": "Python 3 (ipykernel)",
      "language": "python",
      "name": "python3"
    },
    "language_info": {
      "codemirror_mode": {
        "name": "ipython",
        "version": 3
      },
      "file_extension": ".py",
      "mimetype": "text/x-python",
      "name": "python",
      "nbconvert_exporter": "python",
      "pygments_lexer": "ipython3",
      "version": "3.10.13"
    }
  },
  "nbformat": 4,
  "nbformat_minor": 0
}
