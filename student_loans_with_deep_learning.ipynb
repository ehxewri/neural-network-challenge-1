{
  "cells": [
    {
      "cell_type": "markdown",
      "metadata": {
        "id": "T7ZNhGcW6q6r"
      },
      "source": [
        "# Student Loan Risk with Deep Learning"
      ]
    },
    {
      "cell_type": "code",
      "execution_count": 178,
      "metadata": {
        "id": "0otrXpJc6q6u"
      },
      "outputs": [],
      "source": [
        "# Imports\n",
        "import pandas as pd\n",
        "import tensorflow as tf\n",
        "from tensorflow.keras.layers import Dense, Dropout, BatchNormalization\n",
        "from tensorflow.keras.models import Sequential\n",
        "from tensorflow.keras.models import load_model\n",
        "from tensorflow.keras.callbacks import EarlyStopping\n",
        "from tensorflow.keras.optimizers import Adam, Adamax, Nadam\n",
        "\n",
        "from sklearn.model_selection import train_test_split\n",
        "from sklearn.preprocessing import StandardScaler,MinMaxScaler\n",
        "from sklearn.metrics import classification_report\n",
        "from sklearn.utils.class_weight import compute_class_weight\n",
        "from imblearn.over_sampling import SMOTE\n",
        "\n",
        "from pathlib import Path\n",
        "\n",
        "import numpy as np\n",
        "from sklearn.utils import shuffle\n",
        "from sklearn.metrics import accuracy_score\n",
        "import seaborn as sns\n",
        "import matplotlib.pyplot as plt\n",
        "from statsmodels.stats.outliers_influence import variance_inflation_factor\n"
      ]
    },
    {
      "cell_type": "markdown",
      "metadata": {
        "id": "OpV4Y-3Z6q6w"
      },
      "source": [
        "---\n",
        "\n",
        "## Part 1: Prepare the data to be used on a neural network model"
      ]
    },
    {
      "cell_type": "markdown",
      "metadata": {
        "id": "TUuSzp2l6q6w"
      },
      "source": [
        "### Step 1: Read the `student-loans.csv` file into a Pandas DataFrame. Review the DataFrame, looking for columns that could eventually define your features and target variables.   "
      ]
    },
    {
      "cell_type": "code",
      "execution_count": 179,
      "metadata": {
        "colab": {
          "base_uri": "https://localhost:8080/",
          "height": 226
        },
        "id": "G65km1KD6q6x",
        "outputId": "93d12d8d-c415-4017-8452-5b4966e4dde5"
      },
      "outputs": [
        {
          "data": {
            "text/html": [
              "<div>\n",
              "<style scoped>\n",
              "    .dataframe tbody tr th:only-of-type {\n",
              "        vertical-align: middle;\n",
              "    }\n",
              "\n",
              "    .dataframe tbody tr th {\n",
              "        vertical-align: top;\n",
              "    }\n",
              "\n",
              "    .dataframe thead th {\n",
              "        text-align: right;\n",
              "    }\n",
              "</style>\n",
              "<table border=\"1\" class=\"dataframe\">\n",
              "  <thead>\n",
              "    <tr style=\"text-align: right;\">\n",
              "      <th></th>\n",
              "      <th>payment_history</th>\n",
              "      <th>location_parameter</th>\n",
              "      <th>stem_degree_score</th>\n",
              "      <th>gpa_ranking</th>\n",
              "      <th>alumni_success</th>\n",
              "      <th>study_major_code</th>\n",
              "      <th>time_to_completion</th>\n",
              "      <th>finance_workshop_score</th>\n",
              "      <th>cohort_ranking</th>\n",
              "      <th>total_loan_score</th>\n",
              "      <th>financial_aid_score</th>\n",
              "      <th>credit_ranking</th>\n",
              "    </tr>\n",
              "  </thead>\n",
              "  <tbody>\n",
              "    <tr>\n",
              "      <th>0</th>\n",
              "      <td>7.4</td>\n",
              "      <td>0.70</td>\n",
              "      <td>0.00</td>\n",
              "      <td>1.9</td>\n",
              "      <td>0.076</td>\n",
              "      <td>11.0</td>\n",
              "      <td>34.0</td>\n",
              "      <td>0.9978</td>\n",
              "      <td>3.51</td>\n",
              "      <td>0.56</td>\n",
              "      <td>9.4</td>\n",
              "      <td>0</td>\n",
              "    </tr>\n",
              "    <tr>\n",
              "      <th>1</th>\n",
              "      <td>7.8</td>\n",
              "      <td>0.88</td>\n",
              "      <td>0.00</td>\n",
              "      <td>2.6</td>\n",
              "      <td>0.098</td>\n",
              "      <td>25.0</td>\n",
              "      <td>67.0</td>\n",
              "      <td>0.9968</td>\n",
              "      <td>3.20</td>\n",
              "      <td>0.68</td>\n",
              "      <td>9.8</td>\n",
              "      <td>0</td>\n",
              "    </tr>\n",
              "    <tr>\n",
              "      <th>2</th>\n",
              "      <td>7.8</td>\n",
              "      <td>0.76</td>\n",
              "      <td>0.04</td>\n",
              "      <td>2.3</td>\n",
              "      <td>0.092</td>\n",
              "      <td>15.0</td>\n",
              "      <td>54.0</td>\n",
              "      <td>0.9970</td>\n",
              "      <td>3.26</td>\n",
              "      <td>0.65</td>\n",
              "      <td>9.8</td>\n",
              "      <td>0</td>\n",
              "    </tr>\n",
              "    <tr>\n",
              "      <th>3</th>\n",
              "      <td>11.2</td>\n",
              "      <td>0.28</td>\n",
              "      <td>0.56</td>\n",
              "      <td>1.9</td>\n",
              "      <td>0.075</td>\n",
              "      <td>17.0</td>\n",
              "      <td>60.0</td>\n",
              "      <td>0.9980</td>\n",
              "      <td>3.16</td>\n",
              "      <td>0.58</td>\n",
              "      <td>9.8</td>\n",
              "      <td>1</td>\n",
              "    </tr>\n",
              "    <tr>\n",
              "      <th>4</th>\n",
              "      <td>7.4</td>\n",
              "      <td>0.70</td>\n",
              "      <td>0.00</td>\n",
              "      <td>1.9</td>\n",
              "      <td>0.076</td>\n",
              "      <td>11.0</td>\n",
              "      <td>34.0</td>\n",
              "      <td>0.9978</td>\n",
              "      <td>3.51</td>\n",
              "      <td>0.56</td>\n",
              "      <td>9.4</td>\n",
              "      <td>0</td>\n",
              "    </tr>\n",
              "  </tbody>\n",
              "</table>\n",
              "</div>"
            ],
            "text/plain": [
              "   payment_history  location_parameter  stem_degree_score  gpa_ranking  \\\n",
              "0              7.4                0.70               0.00          1.9   \n",
              "1              7.8                0.88               0.00          2.6   \n",
              "2              7.8                0.76               0.04          2.3   \n",
              "3             11.2                0.28               0.56          1.9   \n",
              "4              7.4                0.70               0.00          1.9   \n",
              "\n",
              "   alumni_success  study_major_code  time_to_completion  \\\n",
              "0           0.076              11.0                34.0   \n",
              "1           0.098              25.0                67.0   \n",
              "2           0.092              15.0                54.0   \n",
              "3           0.075              17.0                60.0   \n",
              "4           0.076              11.0                34.0   \n",
              "\n",
              "   finance_workshop_score  cohort_ranking  total_loan_score  \\\n",
              "0                  0.9978            3.51              0.56   \n",
              "1                  0.9968            3.20              0.68   \n",
              "2                  0.9970            3.26              0.65   \n",
              "3                  0.9980            3.16              0.58   \n",
              "4                  0.9978            3.51              0.56   \n",
              "\n",
              "   financial_aid_score  credit_ranking  \n",
              "0                  9.4               0  \n",
              "1                  9.8               0  \n",
              "2                  9.8               0  \n",
              "3                  9.8               1  \n",
              "4                  9.4               0  "
            ]
          },
          "metadata": {},
          "output_type": "display_data"
        },
        {
          "data": {
            "text/plain": [
              "(1599, 12)"
            ]
          },
          "metadata": {},
          "output_type": "display_data"
        }
      ],
      "source": [
        "# Read the csv into a Pandas DataFrame\n",
        "file_path = \"https://static.bc-edx.com/ai/ail-v-1-0/m18/lms/datasets/student-loans.csv\"\n",
        "loans_df = pd.read_csv(file_path)\n",
        "\n",
        "# Review the DataFrame\n",
        "display (loans_df.head())\n",
        "display (loans_df.shape)"
      ]
    },
    {
      "cell_type": "code",
      "execution_count": 180,
      "metadata": {
        "colab": {
          "base_uri": "https://localhost:8080/"
        },
        "id": "K8ZYB8wx6q6x",
        "outputId": "b509fc34-4488-406e-e451-2069fec37371"
      },
      "outputs": [
        {
          "data": {
            "text/plain": [
              "payment_history           float64\n",
              "location_parameter        float64\n",
              "stem_degree_score         float64\n",
              "gpa_ranking               float64\n",
              "alumni_success            float64\n",
              "study_major_code          float64\n",
              "time_to_completion        float64\n",
              "finance_workshop_score    float64\n",
              "cohort_ranking            float64\n",
              "total_loan_score          float64\n",
              "financial_aid_score       float64\n",
              "credit_ranking              int64\n",
              "dtype: object"
            ]
          },
          "execution_count": 180,
          "metadata": {},
          "output_type": "execute_result"
        }
      ],
      "source": [
        "# Review the data types associated with the columns\n",
        "loans_df.dtypes"
      ]
    },
    {
      "cell_type": "code",
      "execution_count": 181,
      "metadata": {
        "colab": {
          "base_uri": "https://localhost:8080/"
        },
        "id": "9P8aX-dW75JO",
        "outputId": "63251fa8-5ac1-4112-c2f7-bc5d97ea8491"
      },
      "outputs": [
        {
          "data": {
            "text/plain": [
              "credit_ranking\n",
              "1    855\n",
              "0    744\n",
              "Name: count, dtype: int64"
            ]
          },
          "metadata": {},
          "output_type": "display_data"
        },
        {
          "data": {
            "text/plain": [
              "array([0, 1], dtype=int64)"
            ]
          },
          "metadata": {},
          "output_type": "display_data"
        }
      ],
      "source": [
        "# Check the credit_ranking value counts\n",
        "display (loans_df[\"credit_ranking\"].value_counts())\n",
        "# another way of looking at the feature. not prefered as this does not show the count per class\n",
        "display (loans_df['credit_ranking'].unique())"
      ]
    },
    {
      "cell_type": "markdown",
      "metadata": {
        "id": "R6vbZeDH6q6y"
      },
      "source": [
        "### Step 2: Using the preprocessed data, create the features (`X`) and target (`y`) datasets. The target dataset should be defined by the preprocessed DataFrame column “credit_ranking”. The remaining columns should define the features dataset."
      ]
    },
    {
      "cell_type": "code",
      "execution_count": 182,
      "metadata": {
        "colab": {
          "base_uri": "https://localhost:8080/"
        },
        "id": "Q5eVAP5M6q6y",
        "outputId": "89728bbf-6930-4573-a126-9f1b66ed8859"
      },
      "outputs": [
        {
          "data": {
            "text/plain": [
              "array([0, 0, 0, 1, 0], dtype=int64)"
            ]
          },
          "execution_count": 182,
          "metadata": {},
          "output_type": "execute_result"
        }
      ],
      "source": [
        "# Define the target set y using the credit_ranking column\n",
        "\n",
        "y = loans_df['credit_ranking']\n",
        "# Display a sample of y\n",
        "\n",
        "np.array(y)[:5]"
      ]
    },
    {
      "cell_type": "code",
      "execution_count": 183,
      "metadata": {
        "colab": {
          "base_uri": "https://localhost:8080/",
          "height": 226
        },
        "id": "IIkrD2Sn6q6z",
        "outputId": "ce07c4a3-fb81-4657-d11e-ec85ae8554c9"
      },
      "outputs": [
        {
          "data": {
            "text/html": [
              "<div>\n",
              "<style scoped>\n",
              "    .dataframe tbody tr th:only-of-type {\n",
              "        vertical-align: middle;\n",
              "    }\n",
              "\n",
              "    .dataframe tbody tr th {\n",
              "        vertical-align: top;\n",
              "    }\n",
              "\n",
              "    .dataframe thead th {\n",
              "        text-align: right;\n",
              "    }\n",
              "</style>\n",
              "<table border=\"1\" class=\"dataframe\">\n",
              "  <thead>\n",
              "    <tr style=\"text-align: right;\">\n",
              "      <th></th>\n",
              "      <th>payment_history</th>\n",
              "      <th>location_parameter</th>\n",
              "      <th>stem_degree_score</th>\n",
              "      <th>gpa_ranking</th>\n",
              "      <th>alumni_success</th>\n",
              "      <th>study_major_code</th>\n",
              "      <th>time_to_completion</th>\n",
              "      <th>finance_workshop_score</th>\n",
              "      <th>cohort_ranking</th>\n",
              "      <th>total_loan_score</th>\n",
              "      <th>financial_aid_score</th>\n",
              "    </tr>\n",
              "  </thead>\n",
              "  <tbody>\n",
              "    <tr>\n",
              "      <th>0</th>\n",
              "      <td>7.4</td>\n",
              "      <td>0.70</td>\n",
              "      <td>0.00</td>\n",
              "      <td>1.9</td>\n",
              "      <td>0.076</td>\n",
              "      <td>11.0</td>\n",
              "      <td>34.0</td>\n",
              "      <td>0.9978</td>\n",
              "      <td>3.51</td>\n",
              "      <td>0.56</td>\n",
              "      <td>9.4</td>\n",
              "    </tr>\n",
              "    <tr>\n",
              "      <th>1</th>\n",
              "      <td>7.8</td>\n",
              "      <td>0.88</td>\n",
              "      <td>0.00</td>\n",
              "      <td>2.6</td>\n",
              "      <td>0.098</td>\n",
              "      <td>25.0</td>\n",
              "      <td>67.0</td>\n",
              "      <td>0.9968</td>\n",
              "      <td>3.20</td>\n",
              "      <td>0.68</td>\n",
              "      <td>9.8</td>\n",
              "    </tr>\n",
              "    <tr>\n",
              "      <th>2</th>\n",
              "      <td>7.8</td>\n",
              "      <td>0.76</td>\n",
              "      <td>0.04</td>\n",
              "      <td>2.3</td>\n",
              "      <td>0.092</td>\n",
              "      <td>15.0</td>\n",
              "      <td>54.0</td>\n",
              "      <td>0.9970</td>\n",
              "      <td>3.26</td>\n",
              "      <td>0.65</td>\n",
              "      <td>9.8</td>\n",
              "    </tr>\n",
              "    <tr>\n",
              "      <th>3</th>\n",
              "      <td>11.2</td>\n",
              "      <td>0.28</td>\n",
              "      <td>0.56</td>\n",
              "      <td>1.9</td>\n",
              "      <td>0.075</td>\n",
              "      <td>17.0</td>\n",
              "      <td>60.0</td>\n",
              "      <td>0.9980</td>\n",
              "      <td>3.16</td>\n",
              "      <td>0.58</td>\n",
              "      <td>9.8</td>\n",
              "    </tr>\n",
              "    <tr>\n",
              "      <th>4</th>\n",
              "      <td>7.4</td>\n",
              "      <td>0.70</td>\n",
              "      <td>0.00</td>\n",
              "      <td>1.9</td>\n",
              "      <td>0.076</td>\n",
              "      <td>11.0</td>\n",
              "      <td>34.0</td>\n",
              "      <td>0.9978</td>\n",
              "      <td>3.51</td>\n",
              "      <td>0.56</td>\n",
              "      <td>9.4</td>\n",
              "    </tr>\n",
              "  </tbody>\n",
              "</table>\n",
              "</div>"
            ],
            "text/plain": [
              "   payment_history  location_parameter  stem_degree_score  gpa_ranking  \\\n",
              "0              7.4                0.70               0.00          1.9   \n",
              "1              7.8                0.88               0.00          2.6   \n",
              "2              7.8                0.76               0.04          2.3   \n",
              "3             11.2                0.28               0.56          1.9   \n",
              "4              7.4                0.70               0.00          1.9   \n",
              "\n",
              "   alumni_success  study_major_code  time_to_completion  \\\n",
              "0           0.076              11.0                34.0   \n",
              "1           0.098              25.0                67.0   \n",
              "2           0.092              15.0                54.0   \n",
              "3           0.075              17.0                60.0   \n",
              "4           0.076              11.0                34.0   \n",
              "\n",
              "   finance_workshop_score  cohort_ranking  total_loan_score  \\\n",
              "0                  0.9978            3.51              0.56   \n",
              "1                  0.9968            3.20              0.68   \n",
              "2                  0.9970            3.26              0.65   \n",
              "3                  0.9980            3.16              0.58   \n",
              "4                  0.9978            3.51              0.56   \n",
              "\n",
              "   financial_aid_score  \n",
              "0                  9.4  \n",
              "1                  9.8  \n",
              "2                  9.8  \n",
              "3                  9.8  \n",
              "4                  9.4  "
            ]
          },
          "metadata": {},
          "output_type": "display_data"
        }
      ],
      "source": [
        "# Define features set X by selecting all columns but credit_ranking\n",
        "X=loans_df.drop(columns=['credit_ranking'])\n",
        "\n",
        "# Review the features DataFrame\n",
        "display (X.head())\n"
      ]
    },
    {
      "cell_type": "code",
      "execution_count": null,
      "metadata": {},
      "outputs": [],
      "source": []
    },
    {
      "cell_type": "markdown",
      "metadata": {
        "id": "QmM9c-tj6q6z"
      },
      "source": [
        "### Step 3: Split the features and target sets into training and testing datasets.\n"
      ]
    },
    {
      "cell_type": "markdown",
      "metadata": {
        "id": "OD7xwU_96q6z"
      },
      "source": [
        "# Split the preprocessed data into a training and testing dataset\n",
        "# Assign the function a random_state equal to 1\n",
        "X_train,X_test,y_train,y_test = train_test_split(X,y,test_size=.2,random_state=1)"
      ]
    },
    {
      "cell_type": "code",
      "execution_count": 184,
      "metadata": {},
      "outputs": [],
      "source": [
        "# Assume X and y are your features and labels respectively\n",
        "X_train, X_test, y_train, y_test = train_test_split(X, y, test_size=0.20, random_state=1)  # Split into training and temp (validation + test)"
      ]
    },
    {
      "cell_type": "markdown",
      "metadata": {
        "id": "G9i6DHY06q6z"
      },
      "source": [
        "### Step 4: Use scikit-learn's `StandardScaler` to scale the features data."
      ]
    },
    {
      "cell_type": "code",
      "execution_count": 185,
      "metadata": {
        "id": "BzD3z20m6q6z"
      },
      "outputs": [],
      "source": [
        "# Step 1: Create a StandardScaler instance\n",
        "scaler = StandardScaler()\n",
        "\n",
        "# Step 2: Fit the scaler to the features training dataset\n",
        "scaler.fit(X_train)\n",
        "\n",
        "# Step 3: Transform the features training dataset\n",
        "X_train_scaled = scaler.transform(X_train)\n",
        "\n",
        "# Step 4: Transform the features testing dataset\n",
        "X_test_scaled = scaler.transform(X_test)"
      ]
    },
    {
      "cell_type": "markdown",
      "metadata": {
        "id": "CZzVDjba6q6z"
      },
      "source": [
        "---\n",
        "\n",
        "## Part 2 Compile and Evaluate a Model Using a Neural Network"
      ]
    },
    {
      "cell_type": "markdown",
      "metadata": {
        "id": "m-pSux4Q6q60"
      },
      "source": [
        "### Step 1: Create a deep neural network by assigning the number of input features, the number of layers, and the number of neurons on each layer using Tensorflow’s Keras.\n",
        "\n",
        "> **Hint** You can start with a two-layer deep neural network model that uses the `relu` activation function for both layers.\n"
      ]
    },
    {
      "cell_type": "code",
      "execution_count": 186,
      "metadata": {
        "colab": {
          "base_uri": "https://localhost:8080/"
        },
        "id": "t5C94FCd6q60",
        "outputId": "cbf05783-2f56-4745-cd33-649a6152e510"
      },
      "outputs": [
        {
          "data": {
            "text/plain": [
              "'Number of input features:'"
            ]
          },
          "metadata": {},
          "output_type": "display_data"
        },
        {
          "data": {
            "text/plain": [
              "11"
            ]
          },
          "metadata": {},
          "output_type": "display_data"
        }
      ],
      "source": [
        "# Define the the number of inputs (features) to the model\n",
        "input_nodes  = X_train_scaled.shape[1]\n",
        "# or \n",
        "# input_nodes = len(X.columns)\n",
        "\n",
        "# Review the number of features\n",
        "display (\"Number of input features:\", input_nodes )"
      ]
    },
    {
      "cell_type": "markdown",
      "metadata": {},
      "source": [
        "# Neural Network Configuration Guide\n",
        "\n",
        "## 1. Define the Number of Hidden Nodes for the First Hidden Layer\n",
        "For the first hidden layer, a common approach is to start with a number of nodes that is somewhere between the number of input features and the number of output neurons. A typical strategy might be to use a number of nodes that is the mean or the geometric mean of these two numbers, adjusted based on the complexity of the problem or empirical testing.\n",
        "\n",
        "## 2. Define the Number of Hidden Nodes for the Second Hidden Layer\n",
        "For the second hidden layer, you might choose to reduce the number of nodes compared to the first hidden layer. This is often done to gradually reduce the dimensionality and to aggregate the features extracted by the first layer. A typical rule might be to halve the number of nodes in each subsequent layer, although the specific number should be tuned based on model performance and overfitting concerns.\n",
        "\n",
        "## 3. Define the Number of Neurons in the Output Layer\n",
        "The number of neurons in the output layer depends on the type of problem:\n",
        "\n",
        "- **Binary Classification**: Use 1 neuron with a sigmoid activation function.\n",
        "- **Multiclass Classification**: Use as many neurons as there are classes, with a softmax activation function.\n",
        "- **Regression**: Typically use 1 neuron for a single output; for multiple outputs, use as many neurons as there are outputs.\n"
      ]
    },
    {
      "cell_type": "code",
      "execution_count": 187,
      "metadata": {
        "id": "c_KXDLkF6q60"
      },
      "outputs": [
        {
          "data": {
            "text/plain": [
              "'Number of hidden nodes for the first hidden layer  : 6'"
            ]
          },
          "metadata": {},
          "output_type": "display_data"
        },
        {
          "data": {
            "text/plain": [
              "'Number of hidden nodes for the second hidden layer : 3'"
            ]
          },
          "metadata": {},
          "output_type": "display_data"
        },
        {
          "data": {
            "text/plain": [
              "'Number of neurons in the output layer              : 1'"
            ]
          },
          "metadata": {},
          "output_type": "display_data"
        }
      ],
      "source": [
        "# Define the number of hidden nodes for the first hidden layer\n",
        "num_nodes_first_hidden_layer = (input_nodes + 1) // 2  # Example calculation\n",
        "\n",
        "# Define the number of hidden nodes for the second hidden layer\n",
        "num_nodes_second_hidden_layer = num_nodes_first_hidden_layer // 2\n",
        "\n",
        "# For binary classification\n",
        "num_output_neurons = 1  # Using sigmoid activation\n",
        "# For multiclass classification (e.g., 3 classes)  num_output_neurons = 3  # Using softmax activation\n",
        "# For regression num_output_neurons = 1  # Typically with no activation (or linear activation)\n",
        "\n",
        "\n",
        "display (f'Number of hidden nodes for the first hidden layer  : {num_nodes_first_hidden_layer}')\n",
        "display (f'Number of hidden nodes for the second hidden layer : {num_nodes_second_hidden_layer}')\n",
        "display (f'Number of neurons in the output layer              : {num_output_neurons}')\n"
      ]
    },
    {
      "cell_type": "markdown",
      "metadata": {
        "id": "63UdFncw6q60"
      },
      "source": [
        "# Create the Sequential model instance\n",
        "model = Sequential()\n",
        "\n",
        "# Add the first hidden layer\n",
        "model.add(Dense(units=num_nodes_first_hidden_layer, activation='relu', input_dim=input_nodes))\n",
        "\n",
        "# Add the second hidden layer\n",
        "model.add(Dense(units=num_nodes_second_hidden_layer, activation='relu'))\n",
        "\n",
        "# Add the output layer to the model specifying the number of output neurons and activation function\n",
        "model.add(Dense(num_output_neurons, activation='sigmoid'))"
      ]
    },
    {
      "cell_type": "code",
      "execution_count": 188,
      "metadata": {},
      "outputs": [],
      "source": [
        "# Create the Sequential model instance\n",
        "model = Sequential(name='Student_Loan_Model')\n",
        "\n",
        "# Add the first hidden layer with input dimension specified\n",
        "model.add(Dense(units=num_nodes_first_hidden_layer, activation='relu', input_dim=input_nodes, name='First_Hidden_Layer'))\n",
        "# model.add(BatchNormalization(name='BatchNorm_Layer_1'))  # Normalize the activations from the first hidden layer\n",
        "# model.add(Dropout(0.7, name='Dropout_Layer_1'))  # Dropout for regularization to prevent overfitting\n",
        "\n",
        "# Add the second hidden layer\n",
        "model.add(Dense(units=num_nodes_second_hidden_layer, activation='relu', name='Second_Hidden_Layer'))\n",
        "# model.add(BatchNormalization(name='BatchNorm_Layer_2'))  # Normalize the activations from the second hidden layer\n",
        "# model.add(Dropout(0.7, name='Dropout_Layer_2'))  # Additional dropout layer for regularization\n",
        "\n",
        "# Add the output layer\n",
        "# If this is a binary classification problem, use 'sigmoid'. If it's regression, no activation or 'linear' can be used.\n",
        "model.add(Dense(num_output_neurons, activation='sigmoid', name='Output_Layer'))  # Use 'linear' if it's a regression task\n"
      ]
    },
    {
      "cell_type": "code",
      "execution_count": 189,
      "metadata": {
        "colab": {
          "base_uri": "https://localhost:8080/"
        },
        "id": "-Beoh4f_6q61",
        "outputId": "2e50f810-086b-4d89-bf7d-98afbe0d649d"
      },
      "outputs": [
        {
          "name": "stdout",
          "output_type": "stream",
          "text": [
            "Model: \"Student_Loan_Model\"\n",
            "_________________________________________________________________\n",
            " Layer (type)                Output Shape              Param #   \n",
            "=================================================================\n",
            " First_Hidden_Layer (Dense)  (None, 6)                 72        \n",
            "                                                                 \n",
            " Second_Hidden_Layer (Dense)  (None, 3)                21        \n",
            "                                                                 \n",
            " Output_Layer (Dense)        (None, 1)                 4         \n",
            "                                                                 \n",
            "=================================================================\n",
            "Total params: 97\n",
            "Trainable params: 97\n",
            "Non-trainable params: 0\n",
            "_________________________________________________________________\n"
          ]
        },
        {
          "data": {
            "text/plain": [
              "None"
            ]
          },
          "metadata": {},
          "output_type": "display_data"
        }
      ],
      "source": [
        "# Display the Sequential model summary\n",
        "display (model.summary())"
      ]
    },
    {
      "cell_type": "markdown",
      "metadata": {
        "id": "nRqWGIRo6q61"
      },
      "source": [
        "### Step 2: Compile and fit the model using the `binary_crossentropy` loss function, the `adam` optimizer, and the `accuracy` evaluation metric.\n"
      ]
    },
    {
      "cell_type": "code",
      "execution_count": 190,
      "metadata": {},
      "outputs": [],
      "source": [
        "class_weights = compute_class_weight('balanced', classes=np.unique(y_train), y=y_train)\n",
        "class_weight_dict = dict(enumerate(class_weights))"
      ]
    },
    {
      "cell_type": "code",
      "execution_count": 191,
      "metadata": {
        "id": "E-hZaeSn6q61"
      },
      "outputs": [],
      "source": [
        "# Compile the Sequential model\n",
        "model.compile(optimizer=Adam(),\n",
        "              loss='binary_crossentropy',\n",
        "              metrics=['accuracy'])"
      ]
    },
    {
      "cell_type": "code",
      "execution_count": 192,
      "metadata": {},
      "outputs": [],
      "source": [
        "# Early stopping callback\n",
        "early_stopping = EarlyStopping(monitor='val_loss', patience=10, restore_best_weights=True)\n"
      ]
    },
    {
      "cell_type": "code",
      "execution_count": 193,
      "metadata": {
        "colab": {
          "base_uri": "https://localhost:8080/"
        },
        "id": "x25e8Idc6q61",
        "outputId": "e95946ba-23da-47a3-a1c1-5e9a2a484a47"
      },
      "outputs": [
        {
          "name": "stdout",
          "output_type": "stream",
          "text": [
            "Epoch 1/150\n",
            "7/7 [==============================] - 1s 34ms/step - loss: 0.6865 - accuracy: 0.6051 - val_loss: 0.6839 - val_accuracy: 0.6133\n",
            "Epoch 2/150\n",
            "7/7 [==============================] - 0s 5ms/step - loss: 0.6849 - accuracy: 0.6178 - val_loss: 0.6827 - val_accuracy: 0.6289\n",
            "Epoch 3/150\n",
            "7/7 [==============================] - 0s 6ms/step - loss: 0.6833 - accuracy: 0.6256 - val_loss: 0.6814 - val_accuracy: 0.6367\n",
            "Epoch 4/150\n",
            "7/7 [==============================] - 0s 6ms/step - loss: 0.6817 - accuracy: 0.6373 - val_loss: 0.6801 - val_accuracy: 0.6406\n",
            "Epoch 5/150\n",
            "7/7 [==============================] - 0s 6ms/step - loss: 0.6801 - accuracy: 0.6364 - val_loss: 0.6787 - val_accuracy: 0.6445\n",
            "Epoch 6/150\n",
            "7/7 [==============================] - 0s 10ms/step - loss: 0.6782 - accuracy: 0.6403 - val_loss: 0.6774 - val_accuracy: 0.6406\n",
            "Epoch 7/150\n",
            "7/7 [==============================] - 0s 6ms/step - loss: 0.6762 - accuracy: 0.6481 - val_loss: 0.6761 - val_accuracy: 0.6445\n",
            "Epoch 8/150\n",
            "7/7 [==============================] - 0s 6ms/step - loss: 0.6744 - accuracy: 0.6588 - val_loss: 0.6744 - val_accuracy: 0.6602\n",
            "Epoch 9/150\n",
            "7/7 [==============================] - 0s 6ms/step - loss: 0.6724 - accuracy: 0.6549 - val_loss: 0.6726 - val_accuracy: 0.6758\n",
            "Epoch 10/150\n",
            "7/7 [==============================] - 0s 6ms/step - loss: 0.6705 - accuracy: 0.6647 - val_loss: 0.6707 - val_accuracy: 0.6680\n",
            "Epoch 11/150\n",
            "7/7 [==============================] - 0s 6ms/step - loss: 0.6683 - accuracy: 0.6725 - val_loss: 0.6688 - val_accuracy: 0.6758\n",
            "Epoch 12/150\n",
            "7/7 [==============================] - 0s 6ms/step - loss: 0.6661 - accuracy: 0.6696 - val_loss: 0.6668 - val_accuracy: 0.6914\n",
            "Epoch 13/150\n",
            "7/7 [==============================] - 0s 6ms/step - loss: 0.6639 - accuracy: 0.6647 - val_loss: 0.6648 - val_accuracy: 0.6992\n",
            "Epoch 14/150\n",
            "7/7 [==============================] - 0s 6ms/step - loss: 0.6617 - accuracy: 0.6696 - val_loss: 0.6627 - val_accuracy: 0.7031\n",
            "Epoch 15/150\n",
            "7/7 [==============================] - 0s 6ms/step - loss: 0.6594 - accuracy: 0.6716 - val_loss: 0.6606 - val_accuracy: 0.7031\n",
            "Epoch 16/150\n",
            "7/7 [==============================] - 0s 6ms/step - loss: 0.6569 - accuracy: 0.6725 - val_loss: 0.6585 - val_accuracy: 0.7109\n",
            "Epoch 17/150\n",
            "7/7 [==============================] - 0s 7ms/step - loss: 0.6545 - accuracy: 0.6804 - val_loss: 0.6562 - val_accuracy: 0.7109\n",
            "Epoch 18/150\n",
            "7/7 [==============================] - 0s 6ms/step - loss: 0.6521 - accuracy: 0.6823 - val_loss: 0.6537 - val_accuracy: 0.7148\n",
            "Epoch 19/150\n",
            "7/7 [==============================] - 0s 6ms/step - loss: 0.6492 - accuracy: 0.6804 - val_loss: 0.6511 - val_accuracy: 0.7188\n",
            "Epoch 20/150\n",
            "7/7 [==============================] - 0s 6ms/step - loss: 0.6462 - accuracy: 0.6804 - val_loss: 0.6485 - val_accuracy: 0.7227\n",
            "Epoch 21/150\n",
            "7/7 [==============================] - 0s 6ms/step - loss: 0.6432 - accuracy: 0.6813 - val_loss: 0.6456 - val_accuracy: 0.7266\n",
            "Epoch 22/150\n",
            "7/7 [==============================] - 0s 6ms/step - loss: 0.6399 - accuracy: 0.6843 - val_loss: 0.6427 - val_accuracy: 0.7266\n",
            "Epoch 23/150\n",
            "7/7 [==============================] - 0s 6ms/step - loss: 0.6366 - accuracy: 0.6872 - val_loss: 0.6396 - val_accuracy: 0.7305\n",
            "Epoch 24/150\n",
            "7/7 [==============================] - 0s 6ms/step - loss: 0.6328 - accuracy: 0.6891 - val_loss: 0.6364 - val_accuracy: 0.7344\n",
            "Epoch 25/150\n",
            "7/7 [==============================] - 0s 6ms/step - loss: 0.6291 - accuracy: 0.6852 - val_loss: 0.6328 - val_accuracy: 0.7383\n",
            "Epoch 26/150\n",
            "7/7 [==============================] - 0s 6ms/step - loss: 0.6252 - accuracy: 0.6911 - val_loss: 0.6291 - val_accuracy: 0.7344\n",
            "Epoch 27/150\n",
            "7/7 [==============================] - 0s 6ms/step - loss: 0.6210 - accuracy: 0.6940 - val_loss: 0.6254 - val_accuracy: 0.7461\n",
            "Epoch 28/150\n",
            "7/7 [==============================] - 0s 6ms/step - loss: 0.6164 - accuracy: 0.7009 - val_loss: 0.6216 - val_accuracy: 0.7539\n",
            "Epoch 29/150\n",
            "7/7 [==============================] - 0s 6ms/step - loss: 0.6120 - accuracy: 0.7058 - val_loss: 0.6176 - val_accuracy: 0.7500\n",
            "Epoch 30/150\n",
            "7/7 [==============================] - 0s 6ms/step - loss: 0.6070 - accuracy: 0.7097 - val_loss: 0.6136 - val_accuracy: 0.7500\n",
            "Epoch 31/150\n",
            "7/7 [==============================] - 0s 6ms/step - loss: 0.6020 - accuracy: 0.7136 - val_loss: 0.6097 - val_accuracy: 0.7422\n",
            "Epoch 32/150\n",
            "7/7 [==============================] - 0s 6ms/step - loss: 0.5969 - accuracy: 0.7195 - val_loss: 0.6060 - val_accuracy: 0.7461\n",
            "Epoch 33/150\n",
            "7/7 [==============================] - 0s 6ms/step - loss: 0.5920 - accuracy: 0.7283 - val_loss: 0.6022 - val_accuracy: 0.7500\n",
            "Epoch 34/150\n",
            "7/7 [==============================] - 0s 6ms/step - loss: 0.5871 - accuracy: 0.7283 - val_loss: 0.5985 - val_accuracy: 0.7422\n",
            "Epoch 35/150\n",
            "7/7 [==============================] - 0s 6ms/step - loss: 0.5820 - accuracy: 0.7283 - val_loss: 0.5948 - val_accuracy: 0.7422\n",
            "Epoch 36/150\n",
            "7/7 [==============================] - 0s 6ms/step - loss: 0.5770 - accuracy: 0.7312 - val_loss: 0.5913 - val_accuracy: 0.7344\n",
            "Epoch 37/150\n",
            "7/7 [==============================] - 0s 6ms/step - loss: 0.5723 - accuracy: 0.7331 - val_loss: 0.5879 - val_accuracy: 0.7266\n",
            "Epoch 38/150\n",
            "7/7 [==============================] - 0s 6ms/step - loss: 0.5676 - accuracy: 0.7361 - val_loss: 0.5845 - val_accuracy: 0.7305\n",
            "Epoch 39/150\n",
            "7/7 [==============================] - 0s 6ms/step - loss: 0.5631 - accuracy: 0.7351 - val_loss: 0.5814 - val_accuracy: 0.7344\n",
            "Epoch 40/150\n",
            "7/7 [==============================] - 0s 6ms/step - loss: 0.5589 - accuracy: 0.7410 - val_loss: 0.5786 - val_accuracy: 0.7344\n",
            "Epoch 41/150\n",
            "7/7 [==============================] - 0s 6ms/step - loss: 0.5549 - accuracy: 0.7439 - val_loss: 0.5761 - val_accuracy: 0.7344\n",
            "Epoch 42/150\n",
            "7/7 [==============================] - 0s 6ms/step - loss: 0.5514 - accuracy: 0.7458 - val_loss: 0.5739 - val_accuracy: 0.7344\n",
            "Epoch 43/150\n",
            "7/7 [==============================] - 0s 8ms/step - loss: 0.5480 - accuracy: 0.7478 - val_loss: 0.5719 - val_accuracy: 0.7344\n",
            "Epoch 44/150\n",
            "7/7 [==============================] - 0s 6ms/step - loss: 0.5447 - accuracy: 0.7488 - val_loss: 0.5700 - val_accuracy: 0.7344\n",
            "Epoch 45/150\n",
            "7/7 [==============================] - 0s 6ms/step - loss: 0.5419 - accuracy: 0.7507 - val_loss: 0.5683 - val_accuracy: 0.7344\n",
            "Epoch 46/150\n",
            "7/7 [==============================] - 0s 5ms/step - loss: 0.5389 - accuracy: 0.7498 - val_loss: 0.5668 - val_accuracy: 0.7344\n",
            "Epoch 47/150\n",
            "7/7 [==============================] - 0s 6ms/step - loss: 0.5365 - accuracy: 0.7478 - val_loss: 0.5655 - val_accuracy: 0.7344\n",
            "Epoch 48/150\n",
            "7/7 [==============================] - 0s 6ms/step - loss: 0.5343 - accuracy: 0.7478 - val_loss: 0.5643 - val_accuracy: 0.7344\n",
            "Epoch 49/150\n",
            "7/7 [==============================] - 0s 6ms/step - loss: 0.5322 - accuracy: 0.7468 - val_loss: 0.5631 - val_accuracy: 0.7305\n",
            "Epoch 50/150\n",
            "7/7 [==============================] - 0s 6ms/step - loss: 0.5304 - accuracy: 0.7478 - val_loss: 0.5619 - val_accuracy: 0.7305\n",
            "Epoch 51/150\n",
            "7/7 [==============================] - 0s 6ms/step - loss: 0.5284 - accuracy: 0.7449 - val_loss: 0.5610 - val_accuracy: 0.7305\n",
            "Epoch 52/150\n",
            "7/7 [==============================] - 0s 6ms/step - loss: 0.5269 - accuracy: 0.7478 - val_loss: 0.5602 - val_accuracy: 0.7305\n",
            "Epoch 53/150\n",
            "7/7 [==============================] - 0s 6ms/step - loss: 0.5252 - accuracy: 0.7478 - val_loss: 0.5592 - val_accuracy: 0.7305\n",
            "Epoch 54/150\n",
            "7/7 [==============================] - 0s 6ms/step - loss: 0.5238 - accuracy: 0.7488 - val_loss: 0.5586 - val_accuracy: 0.7344\n",
            "Epoch 55/150\n",
            "7/7 [==============================] - 0s 6ms/step - loss: 0.5225 - accuracy: 0.7488 - val_loss: 0.5578 - val_accuracy: 0.7344\n",
            "Epoch 56/150\n",
            "7/7 [==============================] - 0s 5ms/step - loss: 0.5214 - accuracy: 0.7478 - val_loss: 0.5573 - val_accuracy: 0.7344\n",
            "Epoch 57/150\n",
            "7/7 [==============================] - 0s 6ms/step - loss: 0.5203 - accuracy: 0.7468 - val_loss: 0.5568 - val_accuracy: 0.7266\n",
            "Epoch 58/150\n",
            "7/7 [==============================] - 0s 6ms/step - loss: 0.5192 - accuracy: 0.7439 - val_loss: 0.5565 - val_accuracy: 0.7266\n",
            "Epoch 59/150\n",
            "7/7 [==============================] - 0s 6ms/step - loss: 0.5181 - accuracy: 0.7449 - val_loss: 0.5559 - val_accuracy: 0.7266\n",
            "Epoch 60/150\n",
            "7/7 [==============================] - 0s 6ms/step - loss: 0.5172 - accuracy: 0.7458 - val_loss: 0.5554 - val_accuracy: 0.7266\n",
            "Epoch 61/150\n",
            "7/7 [==============================] - 0s 6ms/step - loss: 0.5163 - accuracy: 0.7468 - val_loss: 0.5550 - val_accuracy: 0.7266\n",
            "Epoch 62/150\n",
            "7/7 [==============================] - 0s 6ms/step - loss: 0.5154 - accuracy: 0.7458 - val_loss: 0.5547 - val_accuracy: 0.7266\n",
            "Epoch 63/150\n",
            "7/7 [==============================] - 0s 5ms/step - loss: 0.5149 - accuracy: 0.7478 - val_loss: 0.5545 - val_accuracy: 0.7305\n",
            "Epoch 64/150\n",
            "7/7 [==============================] - 0s 6ms/step - loss: 0.5139 - accuracy: 0.7468 - val_loss: 0.5541 - val_accuracy: 0.7305\n",
            "Epoch 65/150\n",
            "7/7 [==============================] - 0s 6ms/step - loss: 0.5133 - accuracy: 0.7458 - val_loss: 0.5540 - val_accuracy: 0.7305\n",
            "Epoch 66/150\n",
            "7/7 [==============================] - 0s 6ms/step - loss: 0.5126 - accuracy: 0.7458 - val_loss: 0.5538 - val_accuracy: 0.7344\n",
            "Epoch 67/150\n",
            "7/7 [==============================] - 0s 6ms/step - loss: 0.5119 - accuracy: 0.7468 - val_loss: 0.5536 - val_accuracy: 0.7344\n",
            "Epoch 68/150\n",
            "7/7 [==============================] - 0s 6ms/step - loss: 0.5114 - accuracy: 0.7478 - val_loss: 0.5537 - val_accuracy: 0.7344\n",
            "Epoch 69/150\n",
            "7/7 [==============================] - 0s 6ms/step - loss: 0.5109 - accuracy: 0.7468 - val_loss: 0.5536 - val_accuracy: 0.7383\n",
            "Epoch 70/150\n",
            "7/7 [==============================] - 0s 6ms/step - loss: 0.5102 - accuracy: 0.7458 - val_loss: 0.5536 - val_accuracy: 0.7383\n",
            "Epoch 71/150\n",
            "7/7 [==============================] - 0s 6ms/step - loss: 0.5097 - accuracy: 0.7468 - val_loss: 0.5535 - val_accuracy: 0.7383\n",
            "Epoch 72/150\n",
            "7/7 [==============================] - 0s 6ms/step - loss: 0.5093 - accuracy: 0.7478 - val_loss: 0.5535 - val_accuracy: 0.7383\n",
            "Epoch 73/150\n",
            "7/7 [==============================] - 0s 6ms/step - loss: 0.5088 - accuracy: 0.7488 - val_loss: 0.5535 - val_accuracy: 0.7383\n",
            "Epoch 74/150\n",
            "7/7 [==============================] - 0s 10ms/step - loss: 0.5083 - accuracy: 0.7488 - val_loss: 0.5536 - val_accuracy: 0.7383\n",
            "Epoch 75/150\n",
            "7/7 [==============================] - 0s 7ms/step - loss: 0.5078 - accuracy: 0.7468 - val_loss: 0.5534 - val_accuracy: 0.7422\n",
            "Epoch 76/150\n",
            "7/7 [==============================] - 0s 6ms/step - loss: 0.5074 - accuracy: 0.7468 - val_loss: 0.5532 - val_accuracy: 0.7422\n",
            "Epoch 77/150\n",
            "7/7 [==============================] - 0s 5ms/step - loss: 0.5070 - accuracy: 0.7468 - val_loss: 0.5532 - val_accuracy: 0.7422\n",
            "Epoch 78/150\n",
            "7/7 [==============================] - 0s 6ms/step - loss: 0.5066 - accuracy: 0.7488 - val_loss: 0.5533 - val_accuracy: 0.7422\n",
            "Epoch 79/150\n",
            "7/7 [==============================] - 0s 5ms/step - loss: 0.5062 - accuracy: 0.7488 - val_loss: 0.5533 - val_accuracy: 0.7422\n",
            "Epoch 80/150\n",
            "7/7 [==============================] - 0s 6ms/step - loss: 0.5057 - accuracy: 0.7468 - val_loss: 0.5534 - val_accuracy: 0.7422\n",
            "Epoch 81/150\n",
            "7/7 [==============================] - 0s 6ms/step - loss: 0.5053 - accuracy: 0.7478 - val_loss: 0.5533 - val_accuracy: 0.7422\n",
            "Epoch 82/150\n",
            "7/7 [==============================] - 0s 6ms/step - loss: 0.5049 - accuracy: 0.7498 - val_loss: 0.5533 - val_accuracy: 0.7422\n",
            "Epoch 83/150\n",
            "7/7 [==============================] - 0s 6ms/step - loss: 0.5045 - accuracy: 0.7488 - val_loss: 0.5532 - val_accuracy: 0.7422\n",
            "Epoch 84/150\n",
            "7/7 [==============================] - 0s 6ms/step - loss: 0.5041 - accuracy: 0.7507 - val_loss: 0.5532 - val_accuracy: 0.7422\n",
            "Epoch 85/150\n",
            "7/7 [==============================] - 0s 6ms/step - loss: 0.5038 - accuracy: 0.7507 - val_loss: 0.5531 - val_accuracy: 0.7461\n",
            "Epoch 86/150\n",
            "7/7 [==============================] - 0s 6ms/step - loss: 0.5034 - accuracy: 0.7458 - val_loss: 0.5529 - val_accuracy: 0.7461\n",
            "Epoch 87/150\n",
            "7/7 [==============================] - 0s 6ms/step - loss: 0.5030 - accuracy: 0.7458 - val_loss: 0.5529 - val_accuracy: 0.7461\n",
            "Epoch 88/150\n",
            "7/7 [==============================] - 0s 5ms/step - loss: 0.5027 - accuracy: 0.7488 - val_loss: 0.5529 - val_accuracy: 0.7461\n",
            "Epoch 89/150\n",
            "7/7 [==============================] - 0s 6ms/step - loss: 0.5023 - accuracy: 0.7498 - val_loss: 0.5528 - val_accuracy: 0.7461\n",
            "Epoch 90/150\n",
            "7/7 [==============================] - 0s 6ms/step - loss: 0.5019 - accuracy: 0.7527 - val_loss: 0.5528 - val_accuracy: 0.7461\n",
            "Epoch 91/150\n",
            "7/7 [==============================] - 0s 6ms/step - loss: 0.5016 - accuracy: 0.7546 - val_loss: 0.5528 - val_accuracy: 0.7422\n",
            "Epoch 92/150\n",
            "7/7 [==============================] - 0s 6ms/step - loss: 0.5013 - accuracy: 0.7556 - val_loss: 0.5525 - val_accuracy: 0.7422\n",
            "Epoch 93/150\n",
            "7/7 [==============================] - 0s 5ms/step - loss: 0.5009 - accuracy: 0.7556 - val_loss: 0.5527 - val_accuracy: 0.7422\n",
            "Epoch 94/150\n",
            "7/7 [==============================] - 0s 6ms/step - loss: 0.5005 - accuracy: 0.7546 - val_loss: 0.5528 - val_accuracy: 0.7422\n",
            "Epoch 95/150\n",
            "7/7 [==============================] - 0s 6ms/step - loss: 0.5002 - accuracy: 0.7537 - val_loss: 0.5528 - val_accuracy: 0.7422\n",
            "Epoch 96/150\n",
            "7/7 [==============================] - 0s 5ms/step - loss: 0.4999 - accuracy: 0.7556 - val_loss: 0.5527 - val_accuracy: 0.7422\n",
            "Epoch 97/150\n",
            "7/7 [==============================] - 0s 6ms/step - loss: 0.4995 - accuracy: 0.7527 - val_loss: 0.5526 - val_accuracy: 0.7422\n",
            "Epoch 98/150\n",
            "7/7 [==============================] - 0s 6ms/step - loss: 0.4992 - accuracy: 0.7527 - val_loss: 0.5529 - val_accuracy: 0.7422\n",
            "Epoch 99/150\n",
            "7/7 [==============================] - 0s 5ms/step - loss: 0.4989 - accuracy: 0.7527 - val_loss: 0.5529 - val_accuracy: 0.7422\n",
            "Epoch 100/150\n",
            "7/7 [==============================] - 0s 5ms/step - loss: 0.4985 - accuracy: 0.7517 - val_loss: 0.5526 - val_accuracy: 0.7422\n",
            "Epoch 101/150\n",
            "7/7 [==============================] - 0s 6ms/step - loss: 0.4982 - accuracy: 0.7527 - val_loss: 0.5526 - val_accuracy: 0.7422\n",
            "Epoch 102/150\n",
            "7/7 [==============================] - 0s 6ms/step - loss: 0.4980 - accuracy: 0.7517 - val_loss: 0.5523 - val_accuracy: 0.7422\n",
            "Epoch 103/150\n",
            "7/7 [==============================] - 0s 8ms/step - loss: 0.4978 - accuracy: 0.7507 - val_loss: 0.5520 - val_accuracy: 0.7422\n",
            "Epoch 104/150\n",
            "7/7 [==============================] - 0s 7ms/step - loss: 0.4974 - accuracy: 0.7517 - val_loss: 0.5519 - val_accuracy: 0.7422\n",
            "Epoch 105/150\n",
            "7/7 [==============================] - 0s 6ms/step - loss: 0.4972 - accuracy: 0.7517 - val_loss: 0.5520 - val_accuracy: 0.7422\n",
            "Epoch 106/150\n",
            "7/7 [==============================] - 0s 6ms/step - loss: 0.4970 - accuracy: 0.7527 - val_loss: 0.5519 - val_accuracy: 0.7422\n",
            "Epoch 107/150\n",
            "7/7 [==============================] - 0s 6ms/step - loss: 0.4967 - accuracy: 0.7527 - val_loss: 0.5521 - val_accuracy: 0.7422\n",
            "Epoch 108/150\n",
            "7/7 [==============================] - 0s 6ms/step - loss: 0.4963 - accuracy: 0.7517 - val_loss: 0.5520 - val_accuracy: 0.7422\n",
            "Epoch 109/150\n",
            "7/7 [==============================] - 0s 6ms/step - loss: 0.4962 - accuracy: 0.7517 - val_loss: 0.5522 - val_accuracy: 0.7422\n",
            "Epoch 110/150\n",
            "7/7 [==============================] - 0s 6ms/step - loss: 0.4959 - accuracy: 0.7527 - val_loss: 0.5522 - val_accuracy: 0.7422\n",
            "Epoch 111/150\n",
            "7/7 [==============================] - 0s 6ms/step - loss: 0.4957 - accuracy: 0.7517 - val_loss: 0.5519 - val_accuracy: 0.7461\n",
            "Epoch 112/150\n",
            "7/7 [==============================] - 0s 6ms/step - loss: 0.4955 - accuracy: 0.7537 - val_loss: 0.5517 - val_accuracy: 0.7461\n",
            "Epoch 113/150\n",
            "7/7 [==============================] - 0s 5ms/step - loss: 0.4952 - accuracy: 0.7527 - val_loss: 0.5517 - val_accuracy: 0.7461\n",
            "Epoch 114/150\n",
            "7/7 [==============================] - 0s 6ms/step - loss: 0.4950 - accuracy: 0.7546 - val_loss: 0.5517 - val_accuracy: 0.7461\n",
            "Epoch 115/150\n",
            "7/7 [==============================] - 0s 6ms/step - loss: 0.4947 - accuracy: 0.7546 - val_loss: 0.5515 - val_accuracy: 0.7461\n",
            "Epoch 116/150\n",
            "7/7 [==============================] - 0s 6ms/step - loss: 0.4945 - accuracy: 0.7556 - val_loss: 0.5512 - val_accuracy: 0.7461\n",
            "Epoch 117/150\n",
            "7/7 [==============================] - 0s 6ms/step - loss: 0.4942 - accuracy: 0.7566 - val_loss: 0.5512 - val_accuracy: 0.7461\n",
            "Epoch 118/150\n",
            "7/7 [==============================] - 0s 6ms/step - loss: 0.4941 - accuracy: 0.7576 - val_loss: 0.5512 - val_accuracy: 0.7461\n",
            "Epoch 119/150\n",
            "7/7 [==============================] - 0s 6ms/step - loss: 0.4939 - accuracy: 0.7576 - val_loss: 0.5512 - val_accuracy: 0.7461\n",
            "Epoch 120/150\n",
            "7/7 [==============================] - 0s 5ms/step - loss: 0.4936 - accuracy: 0.7595 - val_loss: 0.5513 - val_accuracy: 0.7500\n",
            "Epoch 121/150\n",
            "7/7 [==============================] - 0s 6ms/step - loss: 0.4934 - accuracy: 0.7586 - val_loss: 0.5513 - val_accuracy: 0.7500\n",
            "Epoch 122/150\n",
            "7/7 [==============================] - 0s 6ms/step - loss: 0.4932 - accuracy: 0.7595 - val_loss: 0.5512 - val_accuracy: 0.7500\n",
            "Epoch 123/150\n",
            "7/7 [==============================] - 0s 5ms/step - loss: 0.4930 - accuracy: 0.7595 - val_loss: 0.5513 - val_accuracy: 0.7500\n",
            "Epoch 124/150\n",
            "7/7 [==============================] - 0s 6ms/step - loss: 0.4928 - accuracy: 0.7605 - val_loss: 0.5512 - val_accuracy: 0.7500\n",
            "Epoch 125/150\n",
            "7/7 [==============================] - 0s 6ms/step - loss: 0.4926 - accuracy: 0.7605 - val_loss: 0.5512 - val_accuracy: 0.7539\n",
            "Epoch 126/150\n",
            "7/7 [==============================] - 0s 6ms/step - loss: 0.4924 - accuracy: 0.7595 - val_loss: 0.5511 - val_accuracy: 0.7539\n",
            "Epoch 127/150\n",
            "7/7 [==============================] - 0s 6ms/step - loss: 0.4922 - accuracy: 0.7595 - val_loss: 0.5512 - val_accuracy: 0.7539\n",
            "Epoch 128/150\n",
            "7/7 [==============================] - 0s 6ms/step - loss: 0.4920 - accuracy: 0.7595 - val_loss: 0.5514 - val_accuracy: 0.7578\n",
            "Epoch 129/150\n",
            "7/7 [==============================] - 0s 6ms/step - loss: 0.4918 - accuracy: 0.7595 - val_loss: 0.5514 - val_accuracy: 0.7578\n",
            "Epoch 130/150\n",
            "7/7 [==============================] - 0s 5ms/step - loss: 0.4918 - accuracy: 0.7595 - val_loss: 0.5512 - val_accuracy: 0.7578\n",
            "Epoch 131/150\n",
            "7/7 [==============================] - 0s 13ms/step - loss: 0.4915 - accuracy: 0.7595 - val_loss: 0.5515 - val_accuracy: 0.7578\n",
            "Epoch 132/150\n",
            "7/7 [==============================] - 0s 6ms/step - loss: 0.4914 - accuracy: 0.7595 - val_loss: 0.5517 - val_accuracy: 0.7578\n",
            "Epoch 133/150\n",
            "7/7 [==============================] - 0s 5ms/step - loss: 0.4911 - accuracy: 0.7595 - val_loss: 0.5517 - val_accuracy: 0.7539\n",
            "Epoch 134/150\n",
            "7/7 [==============================] - 0s 6ms/step - loss: 0.4909 - accuracy: 0.7595 - val_loss: 0.5517 - val_accuracy: 0.7578\n",
            "Epoch 135/150\n",
            "7/7 [==============================] - 0s 5ms/step - loss: 0.4909 - accuracy: 0.7595 - val_loss: 0.5521 - val_accuracy: 0.7578\n",
            "Epoch 136/150\n",
            "7/7 [==============================] - 0s 6ms/step - loss: 0.4907 - accuracy: 0.7595 - val_loss: 0.5518 - val_accuracy: 0.7539\n"
          ]
        }
      ],
      "source": [
        "# Fit the model using 50 epochs and the training data\n",
        "fit_model = model.fit(X_train_scaled, y_train, \n",
        "                      epochs=150, \n",
        "                      batch_size=150,\n",
        "                      # class_weight=class_weight_dict, \n",
        "                      validation_split=(0.2),\n",
        "                      callbacks=[early_stopping])\n",
        "                   \n"
      ]
    },
    {
      "cell_type": "markdown",
      "metadata": {
        "id": "RfHMPZVI6q61"
      },
      "source": [
        "### Step 3: Evaluate the model using the test data to determine the model’s loss and accuracy.\n"
      ]
    },
    {
      "cell_type": "code",
      "execution_count": 194,
      "metadata": {
        "colab": {
          "base_uri": "https://localhost:8080/"
        },
        "id": "5hfVADKo6q61",
        "outputId": "7df473ad-3301-4b49-e5c3-16e1687cc1cf"
      },
      "outputs": [
        {
          "name": "stdout",
          "output_type": "stream",
          "text": [
            "Test Loss: 0.5245\n",
            "Test Accuracy: 74.6875%\n"
          ]
        }
      ],
      "source": [
        "# Evaluate the model loss and accuracy metrics using the evaluate method and the test data\n",
        "loss, accuracy = model.evaluate(X_test_scaled, y_test, verbose=0)\n",
        "\n",
        "# Display the model loss and accuracy results\n",
        "print(f\"Test Loss: {loss:.4f}\")\n",
        "print(f\"Test Accuracy: {accuracy:.4%}\")"
      ]
    },
    {
      "cell_type": "code",
      "execution_count": 195,
      "metadata": {},
      "outputs": [
        {
          "name": "stdout",
          "output_type": "stream",
          "text": [
            "{'loss': [0.6864959001541138, 0.6848676800727844, 0.6832515597343445, 0.6816886067390442, 0.680065393447876, 0.6781668066978455, 0.6762340664863586, 0.674435555934906, 0.6724426746368408, 0.6705082058906555, 0.6682818531990051, 0.6660747528076172, 0.6638701558113098, 0.6616989970207214, 0.6593522429466248, 0.6569123864173889, 0.6544843316078186, 0.6520752310752869, 0.649249792098999, 0.6461945176124573, 0.6432160139083862, 0.6399233341217041, 0.6365868449211121, 0.6328328251838684, 0.6291282773017883, 0.625190794467926, 0.6209637522697449, 0.6163829565048218, 0.611964762210846, 0.6069644689559937, 0.601994514465332, 0.5969362854957581, 0.5920389294624329, 0.5870833396911621, 0.5820267200469971, 0.5770381093025208, 0.5723134279251099, 0.5676057934761047, 0.5631141662597656, 0.5589017271995544, 0.5549337267875671, 0.5514207482337952, 0.5479975938796997, 0.5446577668190002, 0.5418633818626404, 0.5389493703842163, 0.5364855527877808, 0.5342528223991394, 0.5322376489639282, 0.5303707122802734, 0.5283693671226501, 0.5268542170524597, 0.525185227394104, 0.5238010287284851, 0.5225471258163452, 0.5213596820831299, 0.5202714204788208, 0.5191724896430969, 0.5181465148925781, 0.5172148942947388, 0.5163066983222961, 0.5153853893280029, 0.5149017572402954, 0.5138571262359619, 0.5132889151573181, 0.5126330852508545, 0.5119450092315674, 0.5114393830299377, 0.5108922123908997, 0.5101980566978455, 0.5096668004989624, 0.5092868208885193, 0.5087674260139465, 0.5082646608352661, 0.5078221559524536, 0.507422149181366, 0.506960391998291, 0.5065803527832031, 0.5061624646186829, 0.5056930184364319, 0.5052962303161621, 0.5049189925193787, 0.5044721961021423, 0.5041284561157227, 0.5037590265274048, 0.5033883452415466, 0.5030359625816345, 0.5027421116828918, 0.5022686123847961, 0.501915693283081, 0.5015748143196106, 0.5012697577476501, 0.5008779764175415, 0.5005049109458923, 0.5001826882362366, 0.4998902976512909, 0.499527245759964, 0.49921393394470215, 0.4988575875759125, 0.498518705368042, 0.498249888420105, 0.4980292022228241, 0.4978269040584564, 0.4974265694618225, 0.4971517026424408, 0.49701541662216187, 0.4966844618320465, 0.49633750319480896, 0.4961990416049957, 0.4959363043308258, 0.4956783354282379, 0.49547821283340454, 0.49517396092414856, 0.4949803948402405, 0.49469107389450073, 0.4945398271083832, 0.4942263662815094, 0.49412378668785095, 0.4938579797744751, 0.49358758330345154, 0.493394136428833, 0.49317944049835205, 0.49295666813850403, 0.4927835464477539, 0.49258220195770264, 0.4923762381076813, 0.49222421646118164, 0.492007851600647, 0.49183377623558044, 0.4917663335800171, 0.4915328323841095, 0.4913622736930847, 0.4911465048789978, 0.49094533920288086, 0.49085548520088196, 0.49065136909484863], 'accuracy': [0.6050831079483032, 0.6177908182144165, 0.6256109476089478, 0.6373411417007446, 0.6363636255264282, 0.6402736902236938, 0.6480938196182251, 0.6588465571403503, 0.6549364328384399, 0.6647116541862488, 0.67253178358078, 0.6695992350578308, 0.6647116541862488, 0.6695992350578308, 0.6715542674064636, 0.67253178358078, 0.6803519129753113, 0.6823069453239441, 0.6803519129753113, 0.6803519129753113, 0.6813294291496277, 0.6842619776725769, 0.6871945261955261, 0.6891495585441589, 0.6852394938468933, 0.6911045908927917, 0.694037139415741, 0.7008797526359558, 0.7057673335075378, 0.7096773982048035, 0.7135874629020691, 0.7194526195526123, 0.72825026512146, 0.72825026512146, 0.72825026512146, 0.7311828136444092, 0.733137845993042, 0.7360703945159912, 0.7350928783416748, 0.7409579753875732, 0.7438905239105225, 0.7458455562591553, 0.7478005886077881, 0.7487781047821045, 0.7507331371307373, 0.7497556209564209, 0.7478005886077881, 0.7478005886077881, 0.7468230724334717, 0.7478005886077881, 0.7448680400848389, 0.7478005886077881, 0.7478005886077881, 0.7487781047821045, 0.7487781047821045, 0.7478005886077881, 0.7468230724334717, 0.7438905239105225, 0.7448680400848389, 0.7458455562591553, 0.7468230724334717, 0.7458455562591553, 0.7478005886077881, 0.7468230724334717, 0.7458455562591553, 0.7458455562591553, 0.7468230724334717, 0.7478005886077881, 0.7468230724334717, 0.7458455562591553, 0.7468230724334717, 0.7478005886077881, 0.7487781047821045, 0.7487781047821045, 0.7468230724334717, 0.7468230724334717, 0.7468230724334717, 0.7487781047821045, 0.7487781047821045, 0.7468230724334717, 0.7478005886077881, 0.7497556209564209, 0.7487781047821045, 0.7507331371307373, 0.7507331371307373, 0.7458455562591553, 0.7458455562591553, 0.7487781047821045, 0.7497556209564209, 0.7526881694793701, 0.7546432018280029, 0.7556207180023193, 0.7556207180023193, 0.7546432018280029, 0.7536656856536865, 0.7556207180023193, 0.7526881694793701, 0.7526881694793701, 0.7526881694793701, 0.7517106533050537, 0.7526881694793701, 0.7517106533050537, 0.7507331371307373, 0.7517106533050537, 0.7517106533050537, 0.7526881694793701, 0.7526881694793701, 0.7517106533050537, 0.7517106533050537, 0.7526881694793701, 0.7517106533050537, 0.7536656856536865, 0.7526881694793701, 0.7546432018280029, 0.7546432018280029, 0.7556207180023193, 0.7565982341766357, 0.7575757503509521, 0.7575757503509521, 0.759530782699585, 0.7585532665252686, 0.759530782699585, 0.759530782699585, 0.7605082988739014, 0.7605082988739014, 0.759530782699585, 0.759530782699585, 0.759530782699585, 0.759530782699585, 0.759530782699585, 0.759530782699585, 0.759530782699585, 0.759530782699585, 0.759530782699585, 0.759530782699585, 0.759530782699585], 'val_loss': [0.6839381456375122, 0.6826906204223633, 0.6813637018203735, 0.6800684928894043, 0.6787288188934326, 0.6774262189865112, 0.676059365272522, 0.6743738651275635, 0.6726080179214478, 0.6707170605659485, 0.6687580943107605, 0.6667764782905579, 0.6648240089416504, 0.6627453565597534, 0.6606203317642212, 0.6585094332695007, 0.6562442779541016, 0.6537097096443176, 0.6510908603668213, 0.6484614014625549, 0.6456263065338135, 0.642676055431366, 0.639553427696228, 0.6363531351089478, 0.6328121423721313, 0.6290990114212036, 0.6253613233566284, 0.6215933561325073, 0.617561936378479, 0.613595187664032, 0.609707236289978, 0.6059526205062866, 0.6021978259086609, 0.5984600782394409, 0.5948126912117004, 0.5913262367248535, 0.587873101234436, 0.5845396518707275, 0.581375777721405, 0.5785565376281738, 0.5761486291885376, 0.5738756656646729, 0.5718666315078735, 0.569989025592804, 0.568266749382019, 0.5668458938598633, 0.5655338168144226, 0.5642861723899841, 0.5631338357925415, 0.5619483590126038, 0.5610325336456299, 0.5601931810379028, 0.5592483282089233, 0.5585851669311523, 0.5578247308731079, 0.557269811630249, 0.5568476915359497, 0.5565169453620911, 0.5558900833129883, 0.5554032921791077, 0.5549935102462769, 0.5546985268592834, 0.5544544458389282, 0.5541291236877441, 0.5539658069610596, 0.5537607669830322, 0.5535959005355835, 0.5537455677986145, 0.5536421537399292, 0.5536036491394043, 0.5534997582435608, 0.5534891486167908, 0.5534879565238953, 0.5535972118377686, 0.5534094572067261, 0.5532088279724121, 0.5532258749008179, 0.5532954335212708, 0.5532804727554321, 0.5533596277236938, 0.553282618522644, 0.5532791614532471, 0.5532135367393494, 0.553226113319397, 0.5531419515609741, 0.5529025793075562, 0.5529392957687378, 0.5529101490974426, 0.5527546405792236, 0.5528000593185425, 0.5527543425559998, 0.5525344014167786, 0.5527071356773376, 0.5528102517127991, 0.5528459548950195, 0.5527245998382568, 0.55263751745224, 0.5528558492660522, 0.5528934001922607, 0.5526298880577087, 0.5525544881820679, 0.55226069688797, 0.5520320534706116, 0.5519262552261353, 0.5519852638244629, 0.551866352558136, 0.5520750880241394, 0.5520451068878174, 0.5522313714027405, 0.5522094964981079, 0.5519266724586487, 0.5516724586486816, 0.5516728758811951, 0.5517199039459229, 0.5514622330665588, 0.5512218475341797, 0.551169753074646, 0.5511701703071594, 0.5511631369590759, 0.5512899160385132, 0.5513181090354919, 0.5511685013771057, 0.5512577295303345, 0.551162600517273, 0.5512316226959229, 0.5510692596435547, 0.5512100458145142, 0.5513587594032288, 0.551437258720398, 0.5511819124221802, 0.5514909029006958, 0.5516557097434998, 0.5517102479934692, 0.5517446994781494, 0.5520733594894409, 0.5517635941505432], 'val_accuracy': [0.61328125, 0.62890625, 0.63671875, 0.640625, 0.64453125, 0.640625, 0.64453125, 0.66015625, 0.67578125, 0.66796875, 0.67578125, 0.69140625, 0.69921875, 0.703125, 0.703125, 0.7109375, 0.7109375, 0.71484375, 0.71875, 0.72265625, 0.7265625, 0.7265625, 0.73046875, 0.734375, 0.73828125, 0.734375, 0.74609375, 0.75390625, 0.75, 0.75, 0.7421875, 0.74609375, 0.75, 0.7421875, 0.7421875, 0.734375, 0.7265625, 0.73046875, 0.734375, 0.734375, 0.734375, 0.734375, 0.734375, 0.734375, 0.734375, 0.734375, 0.734375, 0.734375, 0.73046875, 0.73046875, 0.73046875, 0.73046875, 0.73046875, 0.734375, 0.734375, 0.734375, 0.7265625, 0.7265625, 0.7265625, 0.7265625, 0.7265625, 0.7265625, 0.73046875, 0.73046875, 0.73046875, 0.734375, 0.734375, 0.734375, 0.73828125, 0.73828125, 0.73828125, 0.73828125, 0.73828125, 0.73828125, 0.7421875, 0.7421875, 0.7421875, 0.7421875, 0.7421875, 0.7421875, 0.7421875, 0.7421875, 0.7421875, 0.7421875, 0.74609375, 0.74609375, 0.74609375, 0.74609375, 0.74609375, 0.74609375, 0.7421875, 0.7421875, 0.7421875, 0.7421875, 0.7421875, 0.7421875, 0.7421875, 0.7421875, 0.7421875, 0.7421875, 0.7421875, 0.7421875, 0.7421875, 0.7421875, 0.7421875, 0.7421875, 0.7421875, 0.7421875, 0.7421875, 0.7421875, 0.74609375, 0.74609375, 0.74609375, 0.74609375, 0.74609375, 0.74609375, 0.74609375, 0.74609375, 0.74609375, 0.75, 0.75, 0.75, 0.75, 0.75, 0.75390625, 0.75390625, 0.75390625, 0.7578125, 0.7578125, 0.7578125, 0.7578125, 0.7578125, 0.75390625, 0.7578125, 0.7578125, 0.75390625]}\n"
          ]
        },
        {
          "data": {
            "text/plain": [
              "<Axes: >"
            ]
          },
          "execution_count": 195,
          "metadata": {},
          "output_type": "execute_result"
        },
        {
          "data": {
            "image/png": "[encoded data removed]",
            "text/plain": [
              "<Figure size 640x480 with 1 Axes>"
            ]
          },
          "metadata": {},
          "output_type": "display_data"
        }
      ],
      "source": [
        "# Create a DataFrame containing training history\n",
        "history_df = pd.DataFrame(fit_model.history)\n",
        "print (fit_model.history)\n",
        "\n",
        "# Increase the index by 1 to match the number of epochs\n",
        "history_df.index += 1\n",
        "\n",
        "# Plot the loss\n",
        "history_df.plot(y=\"loss\")\n"
      ]
    },
    {
      "cell_type": "markdown",
      "metadata": {
        "id": "jpAv0rXA6q61"
      },
      "source": [
        "### Step 4: Save and export your model to a keras file, and name the file `student_loans.keras`.\n"
      ]
    },
    {
      "cell_type": "code",
      "execution_count": 197,
      "metadata": {
        "id": "q0MetN0W6q61"
      },
      "outputs": [],
      "source": [
        "# Set the model's file path\n",
        "file_path = Path(\"./resources/student_loans.keras\")\n",
        "\n",
        "# Export your model to a keras file\n",
        "model.save(file_path)"
      ]
    },
    {
      "cell_type": "markdown",
      "metadata": {
        "id": "R1opCDdN6q61"
      },
      "source": [
        "---\n",
        "## Predict Loan Repayment Success by Using your Neural Network Model"
      ]
    },
    {
      "cell_type": "markdown",
      "metadata": {
        "id": "TfIfpeiy6q61"
      },
      "source": [
        "### Step 1: Reload your saved model."
      ]
    },
    {
      "cell_type": "code",
      "execution_count": 198,
      "metadata": {
        "id": "OCET2mvW6q61"
      },
      "outputs": [],
      "source": [
        "# Set the model's file path\n",
        "file_path = Path(\"./resources/student_loans.keras\")\n",
        "\n",
        "# Load the model to a new object\n",
        "lr_model = load_model(file_path)"
      ]
    },
    {
      "cell_type": "markdown",
      "metadata": {
        "id": "rTPKooGw6q61"
      },
      "source": [
        "### Step 2: Make predictions on the testing data and save the predictions to a DataFrame."
      ]
    },
    {
      "cell_type": "code",
      "execution_count": 199,
      "metadata": {
        "colab": {
          "base_uri": "https://localhost:8080/"
        },
        "id": "Vet7qjgx6q62",
        "outputId": "0925af42-7e12-4978-8396-2a2c1580e1eb"
      },
      "outputs": [
        {
          "name": "stdout",
          "output_type": "stream",
          "text": [
            "[[0.56772184]\n",
            " [0.29440048]\n",
            " [0.77438086]\n",
            " [0.7342451 ]\n",
            " [0.9605413 ]]\n"
          ]
        }
      ],
      "source": [
        "# Make predictions with the test data\n",
        "predictions = lr_model.predict(X_test_scaled,verbose=0)\n",
        "\n",
        "\n",
        "# Display a sample of the predictions\n",
        "print (predictions[:5])"
      ]
    },
    {
      "cell_type": "code",
      "execution_count": 200,
      "metadata": {
        "colab": {
          "base_uri": "https://localhost:8080/",
          "height": 424
        },
        "id": "87o8exFPhjfl",
        "outputId": "da5339c5-cea7-43e4-ec22-e168ea16dfa2"
      },
      "outputs": [
        {
          "data": {
            "text/html": [
              "<div>\n",
              "<style scoped>\n",
              "    .dataframe tbody tr th:only-of-type {\n",
              "        vertical-align: middle;\n",
              "    }\n",
              "\n",
              "    .dataframe tbody tr th {\n",
              "        vertical-align: top;\n",
              "    }\n",
              "\n",
              "    .dataframe thead th {\n",
              "        text-align: right;\n",
              "    }\n",
              "</style>\n",
              "<table border=\"1\" class=\"dataframe\">\n",
              "  <thead>\n",
              "    <tr style=\"text-align: right;\">\n",
              "      <th></th>\n",
              "      <th>Predicted_Probability</th>\n",
              "      <th>Predicted_Class</th>\n",
              "    </tr>\n",
              "  </thead>\n",
              "  <tbody>\n",
              "    <tr>\n",
              "      <th>0</th>\n",
              "      <td>0.567722</td>\n",
              "      <td>1</td>\n",
              "    </tr>\n",
              "    <tr>\n",
              "      <th>1</th>\n",
              "      <td>0.294400</td>\n",
              "      <td>0</td>\n",
              "    </tr>\n",
              "    <tr>\n",
              "      <th>2</th>\n",
              "      <td>0.774381</td>\n",
              "      <td>1</td>\n",
              "    </tr>\n",
              "    <tr>\n",
              "      <th>3</th>\n",
              "      <td>0.734245</td>\n",
              "      <td>1</td>\n",
              "    </tr>\n",
              "    <tr>\n",
              "      <th>4</th>\n",
              "      <td>0.960541</td>\n",
              "      <td>1</td>\n",
              "    </tr>\n",
              "  </tbody>\n",
              "</table>\n",
              "</div>"
            ],
            "text/plain": [
              "   Predicted_Probability  Predicted_Class\n",
              "0               0.567722                1\n",
              "1               0.294400                0\n",
              "2               0.774381                1\n",
              "3               0.734245                1\n",
              "4               0.960541                1"
            ]
          },
          "execution_count": 200,
          "metadata": {},
          "output_type": "execute_result"
        }
      ],
      "source": [
        "# Save the predictions to a DataFrame and round the predictions to binary results\n",
        "predictions_df = pd.DataFrame(data=predictions, columns=['Predicted_Probability'])\n",
        "# Round predictions to binary results (0 or 1) using 0.5 as the threshold\n",
        "predictions_df['Predicted_Class'] = np.where(predictions_df['Predicted_Probability'] >= 0.5, 1, 0)\n",
        "predictions_df.head(5)"
      ]
    },
    {
      "cell_type": "markdown",
      "metadata": {
        "id": "oxxLwycg6q62"
      },
      "source": [
        "### Step 4: Display a classification report with the y test data and predictions"
      ]
    },
    {
      "cell_type": "code",
      "execution_count": 201,
      "metadata": {
        "colab": {
          "base_uri": "https://localhost:8080/"
        },
        "id": "UTxYZibW6q67",
        "outputId": "f341b396-9b4c-478c-dba8-f6d904ba10e3"
      },
      "outputs": [
        {
          "name": "stdout",
          "output_type": "stream",
          "text": [
            "\n",
            "Classification Report:\n",
            "              precision    recall  f1-score   support\n",
            "\n",
            "           0       0.73      0.75      0.74       154\n",
            "           1       0.76      0.74      0.75       166\n",
            "\n",
            "    accuracy                           0.75       320\n",
            "   macro avg       0.75      0.75      0.75       320\n",
            "weighted avg       0.75      0.75      0.75       320\n",
            "\n"
          ]
        }
      ],
      "source": [
        "# Print the classification report with the y test data and predictions\n",
        "print(\"\\nClassification Report:\")\n",
        "print(classification_report(y_test, predictions_df['Predicted_Class'].values))"
      ]
    },
    {
      "cell_type": "markdown",
      "metadata": {},
      "source": [
        "### 1. Describe the data that you would need to collect to build a recommendation system to recommend student loan options for students. Explain why this data would be relevant and appropriate.\n",
        "\n",
        "To build a recommendation system for student loan options, you would need to collect the following data:\n",
        "\n",
        "1. **Student Information:**\n",
        "   - **Demographics:** Age, gender, location, etc.\n",
        "   - **Academic Information:** Current school, major, GPA, year of study.\n",
        "   - **Financial Background:** Income level, employment status, credit score (if applicable), financial aid received.\n",
        "\n",
        "2. **Loan Details:**\n",
        "   - **Loan Types:** Federal loans, private loans, subsidized loans, unsubsidized loans.\n",
        "   - **Interest Rates:** Fixed vs. variable rates, APRs.\n",
        "   - **Loan Terms:** Duration of the loan, repayment plans, grace periods.\n",
        "   - **Eligibility Criteria:** Credit score requirements, co-signer requirements, income thresholds.\n",
        "\n",
        "3. **Historical Data:**\n",
        "   - **Previous Loan Data:** Past loans taken by students, repayment histories.\n",
        "   - **Default Rates:** Statistics on default rates for different loan types and lenders.\n",
        "   - **Success Stories:** Case studies or testimonials from students who have successfully repaid their loans.\n",
        "\n",
        "4. **External Factors:**\n",
        "   - **Economic Indicators:** Unemployment rates, inflation rates, average starting salaries for various fields.\n",
        "   - **Legislation:** Current student loan policies, upcoming changes in legislation.\n",
        "\n",
        "#### Relevance and Appropriateness:\n",
        "- **Student Information:** Helps tailor recommendations to individual needs and circumstances.\n",
        "- **Loan Details:** Essential for matching students with the most suitable loan options based on their financial situation.\n",
        "- **Historical Data:** Provides insights into the performance and reliability of different loan types and lenders.\n",
        "- **External Factors:** Ensures that recommendations are realistic and take into account the current economic environment.\n",
        "\n",
        "### 2. Based on the data you chose to use in this recommendation system, would your model be using collaborative filtering, content-based filtering, or context-based filtering? Justify why the data you selected would be suitable for your choice of filtering method.\n",
        "\n",
        "Based on the data collected, a **content-based filtering** approach would be most suitable for this recommendation system.\n",
        "\n",
        "#### Justification:\n",
        "- **Content-based filtering** relies on the attributes of both users (students) and items (loans) to make recommendations. Given the extensive data on student demographics, academic information, financial background, and detailed loan characteristics, content-based filtering can effectively match students with loan options that best meet their specific needs.\n",
        "- **Collaborative filtering** is less suitable here because it relies on user interactions and similarities between users, which might be sparse in the context of student loans, as not all students will have extensive borrowing histories or relevant interactions.\n",
        "- **Context-based filtering** could be a secondary method, incorporating external factors like economic indicators and legislation changes to refine recommendations further. However, the primary matching will still be content-based due to the detailed user and item attributes available.\n",
        "\n",
        "### 3. Describe two real-world challenges that you would take into consideration while building a recommendation system for student loans. Explain why these challenges would be of concern for a student loan recommendation system.\n",
        "\n",
        "#### 1. Data Privacy and Security:\n",
        "- **Challenge:** Handling sensitive personal and financial information of students requires strict adherence to data privacy laws and regulations (e.g., GDPR, FERPA).\n",
        "- **Concern:** Any breach of this data could lead to severe consequences for students, including identity theft and financial loss. Ensuring robust data encryption, secure storage, and compliance with privacy laws is critical to maintaining trust and legal compliance.\n",
        "\n",
        "#### 2. Bias and Fairness:\n",
        "- **Challenge:** Ensuring that the recommendation system does not inadvertently favor or disadvantage certain groups of students based on their demographics, background, or other attributes.\n",
        "- **Concern:** If the system shows bias, it could result in unequal access to loan options, further exacerbating existing inequalities. For example, if the system favors students with higher credit scores disproportionately, it might not provide adequate options for students from lower-income backgrounds who may have lower credit scores but still need financial assistance for their education. Ensuring fairness in recommendations is crucial to support all students equitably.\n",
        "\n",
        "#### Additional Considerations:\n",
        "- **Regulatory Compliance:** Ensuring that the recommendation system complies with all relevant laws and regulations regarding student loans and financial advice.\n",
        "- **Economic Volatility:** Accounting for economic changes that might affect loan terms and repayment capacities, ensuring that recommendations remain relevant and realistic over time.\n",
        "\n",
        "By addressing these challenges, the recommendation system can provide reliable, fair, and secure loan options to students, helping them make informed financial decisions for their education."
      ]
    },
    {
      "cell_type": "markdown",
      "metadata": {},
      "source": [
        "## Credits\n",
        "\n",
        "This project was developed with the assistance and resources provided by OpenAI's GPT-4. The use of OpenAI's technology facilitated the creation of a robust recommendation system and comprehensive documentation.\n",
        "\n",
        "### Acknowledgements\n",
        "\n",
        "- **OpenAI:** For providing the powerful language model, GPT-4, which was instrumental in generating insights, structuring the recommendation system, and drafting detailed explanations and code.\n",
        "- **Developers and Researchers at OpenAI:** For their continuous efforts in advancing artificial intelligence and natural language processing, making tools like GPT-4 accessible for educational and professional projects.\n",
        "\n",
        "### Tools and Libraries\n",
        "\n",
        "- **Python:** Used for coding and implementing the recommendation system.\n",
        "- **Pandas and NumPy:** For data manipulation and analysis.\n",
        "- **Scikit-Learn:** For machine learning algorithms and evaluation metrics.\n",
        "- **Keras:** For building and training the neural network models.\n",
        "\n",
        "### Contact Information\n",
        "\n",
        "For any questions or further information about this project, please contact:\n",
        "\n",
        "- **Project Author:** [Your Name]\n",
        "- **Email:** [Your Email]\n",
        "\n",
        "### Disclaimer\n",
        "\n",
        "This project is for educational purposes and does not constitute financial advice. The recommendations generated by this system are based on the data and methods described and should be used as a guide only. Always consult a financial advisor before making any significant financial decisions.\n",
        "\n",
        "---\n",
        "\n",
        "Thank you for reviewing this project!\n"
      ]
    }
  ],
  "metadata": {
    "colab": {
      "provenance": []
    },
    "kernelspec": {
      "display_name": "Python 3 (ipykernel)",
      "language": "python",
      "name": "python3"
    },
    "language_info": {
      "codemirror_mode": {
        "name": "ipython",
        "version": 3
      },
      "file_extension": ".py",
      "mimetype": "text/x-python",
      "name": "python",
      "nbconvert_exporter": "python",
      "pygments_lexer": "ipython3",
      "version": "3.10.13"
    }
  },
  "nbformat": 4,
  "nbformat_minor": 0
}
